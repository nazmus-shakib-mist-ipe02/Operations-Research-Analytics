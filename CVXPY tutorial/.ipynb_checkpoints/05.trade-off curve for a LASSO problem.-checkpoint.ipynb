{
 "cells": [
  {
   "cell_type": "code",
   "execution_count": null,
   "metadata": {},
   "outputs": [],
   "source": [
    "import cvxpy as cp\n",
    "import numpy\n",
    "import matplotlib.pyplot as plt\n",
    "\n",
    "# Problem data.\n",
    "n = 15\n",
    "m = 10\n",
    "numpy.random.seed(1)\n",
    "A = numpy.random.randn(n, m)\n",
    "b = numpy.random.randn(n)\n",
    "# gamma must be nonnegative due to DCP rules.\n",
    "gamma = cp.Parameter(nonneg=True)\n",
    "\n",
    "# Construct the problem.\n",
    "x = cp.Variable(m)\n",
    "error = cp.sum_squares(A*x - b)\n",
    "obj = cp.Minimize(error + gamma*cp.norm(x, 1))\n",
    "prob = cp.Problem(obj)\n",
    "\n",
    "# Construct a trade-off curve of ||Ax-b||^2 vs. ||x||_1\n",
    "sq_penalty = []\n",
    "l1_penalty = []\n",
    "x_values = []\n",
    "gamma_vals = numpy.logspace(-4, 6)\n",
    "for val in gamma_vals:\n",
    "    gamma.value = val\n",
    "    prob.solve()\n",
    "    # Use expr.value to get the numerical value of\n",
    "    # an expression in the problem.\n",
    "    sq_penalty.append(error.value)\n",
    "    l1_penalty.append(cp.norm(x, 1).value)\n",
    "    x_values.append(x.value)\n",
    "\n",
    "plt.rc('text', usetex=True)\n",
    "plt.rc('font', family='serif')\n",
    "plt.figure(figsize=(6,10))\n",
    "\n",
    "# Plot trade-off curve.\n",
    "plt.subplot(211)\n",
    "plt.plot(l1_penalty, sq_penalty)\n",
    "plt.xlabel(r'\\|x\\|_1', fontsize=16)\n",
    "plt.ylabel(r'\\|Ax-b\\|^2', fontsize=16)\n",
    "plt.title('Trade-Off Curve for LASSO', fontsize=16)\n",
    "\n",
    "# Plot entries of x vs. gamma.\n",
    "plt.subplot(212)\n",
    "for i in range(m):\n",
    "    plt.plot(gamma_vals, [xi[i] for xi in x_values])\n",
    "plt.xlabel(r'\\gamma', fontsize=16)\n",
    "plt.ylabel(r'x_{i}', fontsize=16)\n",
    "plt.xscale('log')\n",
    "plt.title(r'\\text{Entries of x vs. }\\gamma', fontsize=16)\n",
    "\n",
    "plt.tight_layout()\n",
    "plt.show()"
   ]
  },
  {
   "cell_type": "code",
   "execution_count": null,
   "metadata": {},
   "outputs": [],
   "source": [
    "from multiprocessing import Pool\n",
    "\n",
    "# Assign a value to gamma and find the optimal x.\n",
    "def get_x(gamma_value):\n",
    "    gamma.value = gamma_value\n",
    "    result = prob.solve()\n",
    "    return x.value\n",
    "\n",
    "# Parallel computation (set to 1 process here).\n",
    "pool = Pool(processes = 1)\n",
    "x_values = pool.map(get_x, gamma_vals)"
   ]
  },
  {
   "cell_type": "code",
   "execution_count": null,
   "metadata": {},
   "outputs": [],
   "source": []
  }
 ],
 "metadata": {
  "kernelspec": {
   "display_name": "Python 3",
   "language": "python",
   "name": "python3"
  },
  "language_info": {
   "codemirror_mode": {
    "name": "ipython",
    "version": 3
   },
   "file_extension": ".py",
   "mimetype": "text/x-python",
   "name": "python",
   "nbconvert_exporter": "python",
   "pygments_lexer": "ipython3",
   "version": "3.7.0"
  },
  "toc": {
   "base_numbering": 1,
   "nav_menu": {},
   "number_sections": true,
   "sideBar": true,
   "skip_h1_title": false,
   "title_cell": "Table of Contents",
   "title_sidebar": "Contents",
   "toc_cell": false,
   "toc_position": {},
   "toc_section_display": true,
   "toc_window_display": false
  },
  "varInspector": {
   "cols": {
    "lenName": 16,
    "lenType": 16,
    "lenVar": 40
   },
   "kernels_config": {
    "python": {
     "delete_cmd_postfix": "",
     "delete_cmd_prefix": "del ",
     "library": "var_list.py",
     "varRefreshCmd": "print(var_dic_list())"
    },
    "r": {
     "delete_cmd_postfix": ") ",
     "delete_cmd_prefix": "rm(",
     "library": "var_list.r",
     "varRefreshCmd": "cat(var_dic_list()) "
    }
   },
   "types_to_exclude": [
    "module",
    "function",
    "builtin_function_or_method",
    "instance",
    "_Feature"
   ],
   "window_display": false
  }
 },
 "nbformat": 4,
 "nbformat_minor": 2
}
