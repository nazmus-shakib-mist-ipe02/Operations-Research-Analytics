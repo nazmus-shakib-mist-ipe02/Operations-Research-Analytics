{
 "cells": [
  {
   "cell_type": "code",
   "execution_count": 11,
   "metadata": {},
   "outputs": [
    {
     "ename": "SyntaxError",
     "evalue": "invalid syntax (<ipython-input-11-0ca369c13586>, line 21)",
     "output_type": "error",
     "traceback": [
      "\u001b[1;36m  File \u001b[1;32m\"<ipython-input-11-0ca369c13586>\"\u001b[1;36m, line \u001b[1;32m21\u001b[0m\n\u001b[1;33m    print (np.round(Sigma_nom, decimals=2)\u001b[0m\n\u001b[1;37m        ^\u001b[0m\n\u001b[1;31mSyntaxError\u001b[0m\u001b[1;31m:\u001b[0m invalid syntax\n"
     ]
    }
   ],
   "source": [
    "# Generate data for worst-case risk analysis.\n",
    "import numpy as np\n",
    "np.random.seed(2)\n",
    "n = 5\n",
    "mu = np.abs(np.random.randn(n, 1))/15\n",
    "Sigma = np.random.uniform(-.15, .8, size=(n, n))\n",
    "Sigma_nom = Sigma.T.dot(Sigma)# Form and solve worst-case risk analysis problem.\n",
    "Sigma = Semidef(n)\n",
    "Delta = Symmetric(n)\n",
    "risk = quad_form(w.value, Sigma)\n",
    "prob = Problem(Maximize(risk), \n",
    "               [Sigma == Sigma_nom + Delta, \n",
    "                diag(Delta) == 0, \n",
    "                abs(Delta) <= 0.2])\n",
    "prob.solve()\n",
    "print (sqrt(quad_form(w.value, Sigma_nom)).value)\n",
    "print (sqrt(risk).value)\n",
    "# print (\"worst-case Delta =\")\n",
    "print (np.round(Delta.value, decimals=2)\n",
    "# print (\"Sigma_nom =\")\n",
    "print (np.round(Sigma_nom, decimals=2)"
   ]
  },
  {
   "cell_type": "code",
   "execution_count": 12,
   "metadata": {},
   "outputs": [
    {
     "ename": "SyntaxError",
     "evalue": "unexpected EOF while parsing (<ipython-input-12-c52eab50511d>, line 13)",
     "output_type": "error",
     "traceback": [
      "\u001b[1;36m  File \u001b[1;32m\"<ipython-input-12-c52eab50511d>\"\u001b[1;36m, line \u001b[1;32m13\u001b[0m\n\u001b[1;33m    print (np.round(w.value, decimals=2)\u001b[0m\n\u001b[1;37m                                        ^\u001b[0m\n\u001b[1;31mSyntaxError\u001b[0m\u001b[1;31m:\u001b[0m unexpected EOF while parsing\n"
     ]
    }
   ],
   "source": [
    "# Form and solve portfolio optimization problem.\n",
    "# Here we minimize risk while requiring a 0.1 return.\n",
    "from cvxpy import *\n",
    "w = Variable(n)\n",
    "ret = mu.T*w \n",
    "risk = quad_form(w, Sigma_nom)\n",
    "prob = Problem(Minimize(risk), \n",
    "               [sum_entries(w) == 1, \n",
    "                ret >= 0.1,\n",
    "                norm(w, 1) <= 2])\n",
    "prob.solve()\n",
    "# print (\"w =\")\n",
    "print (np.round(w.value, decimals=2)"
   ]
  },
  {
   "cell_type": "code",
   "execution_count": 13,
   "metadata": {},
   "outputs": [
    {
     "ename": "SyntaxError",
     "evalue": "unexpected EOF while parsing (<ipython-input-13-03704a95cbad>, line 13)",
     "output_type": "error",
     "traceback": [
      "\u001b[1;36m  File \u001b[1;32m\"<ipython-input-13-03704a95cbad>\"\u001b[1;36m, line \u001b[1;32m13\u001b[0m\n\u001b[1;33m    print (np.round(Delta.value, decimals=2)\u001b[0m\n\u001b[1;37m                                            ^\u001b[0m\n\u001b[1;31mSyntaxError\u001b[0m\u001b[1;31m:\u001b[0m unexpected EOF while parsing\n"
     ]
    }
   ],
   "source": [
    "# Form and solve worst-case risk analysis problem.\n",
    "Sigma = Semidef(n)\n",
    "Delta = Symmetric(n)\n",
    "risk = quad_form(w.value, Sigma)\n",
    "prob = Problem(Maximize(risk), \n",
    "               [Sigma == Sigma_nom + Delta, \n",
    "                diag(Delta) == 0, \n",
    "                abs(Delta) <= 0.2])\n",
    "prob.solve()\n",
    "print (sqrt(quad_form(w.value, Sigma_nom)).value)\n",
    "print (sqrt(risk).value)\n",
    "# print (\"worst-case Delta =\")\n",
    "print (np.round(Delta.value, decimals=2)"
   ]
  },
  {
   "cell_type": "code",
   "execution_count": null,
   "metadata": {},
   "outputs": [],
   "source": []
  },
  {
   "cell_type": "code",
   "execution_count": null,
   "metadata": {},
   "outputs": [],
   "source": []
  }
 ],
 "metadata": {
  "kernelspec": {
   "display_name": "Python 3",
   "language": "python",
   "name": "python3"
  },
  "language_info": {
   "codemirror_mode": {
    "name": "ipython",
    "version": 3
   },
   "file_extension": ".py",
   "mimetype": "text/x-python",
   "name": "python",
   "nbconvert_exporter": "python",
   "pygments_lexer": "ipython3",
   "version": "3.7.0"
  },
  "latex_envs": {
   "LaTeX_envs_menu_present": true,
   "autoclose": false,
   "autocomplete": true,
   "bibliofile": "biblio.bib",
   "cite_by": "apalike",
   "current_citInitial": 1,
   "eqLabelWithNumbers": true,
   "eqNumInitial": 1,
   "hotkeys": {
    "equation": "Ctrl-E",
    "itemize": "Ctrl-I"
   },
   "labels_anchors": false,
   "latex_user_defs": false,
   "report_style_numbering": false,
   "user_envs_cfg": false
  }
 },
 "nbformat": 4,
 "nbformat_minor": 2
}
