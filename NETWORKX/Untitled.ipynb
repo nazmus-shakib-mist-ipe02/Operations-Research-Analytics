{
 "cells": [
  {
   "cell_type": "code",
   "execution_count": 5,
   "metadata": {},
   "outputs": [
    {
     "name": "stdout",
     "output_type": "stream",
     "text": [
      "Sigma_nom\n",
      "[[ 0.58  0.2   0.57 -0.02  0.43]\n",
      " [ 0.2   0.36  0.24  0.    0.38]\n",
      " [ 0.57  0.24  0.57 -0.01  0.47]\n",
      " [-0.02  0.   -0.01  0.05  0.08]\n",
      " [ 0.43  0.38  0.47  0.08  0.92]]\n"
     ]
    }
   ],
   "source": [
    "# Generate data for worst-case risk analysis.\n",
    "import numpy as np\n",
    "np.random.seed(2)\n",
    "n = 5\n",
    "mu = np.abs(np.random.randn(n, 1))/15\n",
    "Sigma = np.random.uniform(-.15, .8, size=(n, n))\n",
    "Sigma_nom = Sigma.T.dot(Sigma)\n",
    "print ('Sigma_nom')\n",
    "print (np.round(Sigma_nom, decimals=2))"
   ]
  },
  {
   "cell_type": "code",
   "execution_count": 14,
   "metadata": {},
   "outputs": [
    {
     "name": "stdout",
     "output_type": "stream",
     "text": [
      "w =\n",
      "[-0.86 -0.15  0.93 -0.06 -0.  ]\n"
     ]
    }
   ],
   "source": [
    "# Form and solve portfolio optimization problem.\n",
    "# Here we minimize risk while requiring a 0.1 return.\n",
    "from cvxpy import *\n",
    "w = Variable(n)\n",
    "ret = mu.T*w \n",
    "risk = quad_form(w, Sigma_nom)\n",
    "prob = Problem(Minimize(risk), \n",
    "               [#sum_entries(w) == 1, \n",
    "                ret >= 0.1,\n",
    "                norm(w, 1) <= 2])\n",
    "prob.solve()\n",
    "print (\"w =\")\n",
    "print (np.round(w.value, decimals=2))"
   ]
  },
  {
   "cell_type": "code",
   "execution_count": 16,
   "metadata": {},
   "outputs": [
    {
     "ename": "NameError",
     "evalue": "name 'Semidef' is not defined",
     "output_type": "error",
     "traceback": [
      "\u001b[1;31m---------------------------------------------------------------------------\u001b[0m",
      "\u001b[1;31mNameError\u001b[0m                                 Traceback (most recent call last)",
      "\u001b[1;32m<ipython-input-16-bb4bd6a018f7>\u001b[0m in \u001b[0;36m<module>\u001b[1;34m()\u001b[0m\n\u001b[0;32m      1\u001b[0m \u001b[1;31m# Form and solve worst-case risk analysis problem.\u001b[0m\u001b[1;33m\u001b[0m\u001b[1;33m\u001b[0m\u001b[0m\n\u001b[0;32m      2\u001b[0m \u001b[1;32mfrom\u001b[0m \u001b[0mcvxpy\u001b[0m \u001b[1;32mimport\u001b[0m \u001b[1;33m*\u001b[0m\u001b[1;33m\u001b[0m\u001b[0m\n\u001b[1;32m----> 3\u001b[1;33m \u001b[0mSigma\u001b[0m \u001b[1;33m=\u001b[0m \u001b[0mSemidef\u001b[0m\u001b[1;33m(\u001b[0m\u001b[0mn\u001b[0m\u001b[1;33m)\u001b[0m\u001b[1;33m\u001b[0m\u001b[0m\n\u001b[0m\u001b[0;32m      4\u001b[0m \u001b[0mDelta\u001b[0m \u001b[1;33m=\u001b[0m \u001b[0mSymmetric\u001b[0m\u001b[1;33m(\u001b[0m\u001b[0mn\u001b[0m\u001b[1;33m)\u001b[0m\u001b[1;33m\u001b[0m\u001b[0m\n\u001b[0;32m      5\u001b[0m \u001b[0mrisk\u001b[0m \u001b[1;33m=\u001b[0m \u001b[0mquad_form\u001b[0m\u001b[1;33m(\u001b[0m\u001b[0mw\u001b[0m\u001b[1;33m.\u001b[0m\u001b[0mvalue\u001b[0m\u001b[1;33m,\u001b[0m \u001b[0mSigma\u001b[0m\u001b[1;33m)\u001b[0m\u001b[1;33m\u001b[0m\u001b[0m\n",
      "\u001b[1;31mNameError\u001b[0m: name 'Semidef' is not defined"
     ]
    }
   ],
   "source": [
    "# Form and solve worst-case risk analysis problem.\n",
    "from cvxpy import *\n",
    "Sigma = Semidef(n)\n",
    "Delta = Symmetric(n)\n",
    "risk = quad_form(w.value, Sigma)\n",
    "prob = Problem(Maximize(risk), \n",
    "               [Sigma == Sigma_nom + Delta, \n",
    "                diag(Delta) == 0, \n",
    "                abs(Delta) <= 0.2])\n",
    "prob.solve()\n",
    "print (\"standard deviation =\", sqrt(quad_form(w.value, Sigma_nom)).value)\n",
    "print (\"worst-case standard deviation =\", sqrt(risk).value)\n",
    "print (\"worst-case Delta =\")\n",
    "print (np.round(Delta.value, decimals=2))"
   ]
  },
  {
   "cell_type": "code",
   "execution_count": null,
   "metadata": {},
   "outputs": [],
   "source": []
  }
 ],
 "metadata": {
  "kernelspec": {
   "display_name": "Python 3",
   "language": "python",
   "name": "python3"
  },
  "language_info": {
   "codemirror_mode": {
    "name": "ipython",
    "version": 3
   },
   "file_extension": ".py",
   "mimetype": "text/x-python",
   "name": "python",
   "nbconvert_exporter": "python",
   "pygments_lexer": "ipython3",
   "version": "3.7.0"
  },
  "latex_envs": {
   "LaTeX_envs_menu_present": true,
   "autoclose": false,
   "autocomplete": true,
   "bibliofile": "biblio.bib",
   "cite_by": "apalike",
   "current_citInitial": 1,
   "eqLabelWithNumbers": true,
   "eqNumInitial": 1,
   "hotkeys": {
    "equation": "Ctrl-E",
    "itemize": "Ctrl-I"
   },
   "labels_anchors": false,
   "latex_user_defs": false,
   "report_style_numbering": false,
   "user_envs_cfg": false
  }
 },
 "nbformat": 4,
 "nbformat_minor": 2
}
