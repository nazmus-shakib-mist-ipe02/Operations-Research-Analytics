{
 "cells": [
  {
   "cell_type": "code",
   "execution_count": 1,
   "metadata": {},
   "outputs": [],
   "source": [
    "import pandas as pd\n",
    "from pulp import *\n",
    "from random import normalvariate"
   ]
  },
  {
   "cell_type": "code",
   "execution_count": 4,
   "metadata": {
    "scrolled": true
   },
   "outputs": [
    {
     "name": "stdout",
     "output_type": "stream",
     "text": [
      "               Low_Cap  High_Cap\n",
      "Supply_Region                   \n",
      "USA               6500      9500\n",
      "Germany           4980      7270\n",
      "Japan             6230      9100\n",
      "Brazil            3230      4730\n",
      "India             2110      3080\n",
      "                  Dmd\n",
      "Supply_Region        \n",
      "USA            2719.6\n",
      "Germany          84.1\n",
      "Japan          1676.8\n",
      "Brazil          145.4\n",
      "India           156.4\n",
      "               Low_Cap  High_Cap\n",
      "Supply_Region                   \n",
      "USA                500      1500\n",
      "Germany            500      1500\n",
      "Japan              500      1500\n",
      "Brazil             500      1500\n",
      "India              500      1500\n",
      "               USA  Germany  Japan  Brazil  India\n",
      "Supply_Region                                    \n",
      "USA              6       13     20      12     17\n",
      "Germany         13        6     14      14     13\n",
      "Japan           20       14      3      21      9\n",
      "Brazil          12       14     21       8     21\n",
      "India           22       13     10      23      8\n"
     ]
    }
   ],
   "source": [
    "d = {'Supply_Region':['USA', 'Germany', 'Japan', 'Brazil', 'India'], 'Dmd':[2719.6,84.1,1676.8,145.4,156.4]}\n",
    "v = {'Supply_Region':['USA', 'Germany', 'Japan', 'Brazil', 'India'],\n",
    "    'USA':[6,13,20,12,22],'Germany':[13,6,14,14,13],'Japan':[20,14,3,21,10], \n",
    "    'Brazil':[12,14,21,8,23], 'India':[17,13,9,21,8]}\n",
    "f = {'Supply_Region':['USA', 'Germany', 'Japan', 'Brazil', 'India'],\n",
    "    'Low_Cap':[6500,4980,6230,3230,2110], 'High_Cap':[9500,7270,9100,4730,3080]}\n",
    "p = {'Supply_Region':['USA', 'Germany', 'Japan', 'Brazil', 'India'],\n",
    "    'Low_Cap':[500,500,500,500,500], 'High_Cap':[1500,1500,1500,1500,1500]}\n",
    "\n",
    "demand = pd.DataFrame(data = d)\n",
    "demand = demand.set_index('Supply_Region')\n",
    "\n",
    "var_cost = pd.DataFrame(data = v)\n",
    "var_cost = var_cost.set_index('Supply_Region')\n",
    "\n",
    "fix_cost = pd.DataFrame(data = f)\n",
    "fix_cost = fix_cost.set_index('Supply_Region')\n",
    "\n",
    "cap = pd.DataFrame(data = p)\n",
    "cap = cap.set_index('Supply_Region')\n",
    "\n",
    "print(fix_cost)\n",
    "print(demand)\n",
    "print(cap)\n",
    "print(var_cost)"
   ]
  },
  {
   "cell_type": "code",
   "execution_count": 14,
   "metadata": {},
   "outputs": [],
   "source": [
    "def pulp_model_(fix_cost, var_cost, demand,cap):\n",
    "    # Initialize, Define Decision Vars., and Objective Function\n",
    "    model = LpProblem(\"Capacitated Plant Location Model\", LpMinimize)\n",
    "    \n",
    "    loc = ['USA', 'Germany', 'Japan', 'Brazil', 'India']\n",
    "    size = ['Low_Cap','High_Cap']\n",
    "    \n",
    "    x = LpVariable.dicts(\"production\", [(i,j) for i in loc for j in loc],\n",
    "                         lowBound=0, upBound=None, cat='Continuous')\n",
    "    y = LpVariable.dicts(\"plant\", \n",
    "                         [(i,s) for s in size for i in loc], cat='Binary')\n",
    "    \n",
    "    \n",
    "    model += (lpSum([fix_cost.loc[i,s] * y[(i,s)] for s in size for i in loc])\n",
    "              + lpSum([(var_cost.loc[i,j]+normalvariate(0.5,0.5)) * x[(i,j)] for i in loc for j in loc]))\n",
    "\n",
    "    # Define the constraints\n",
    "    for j in loc:\n",
    "        rd = normalvariate(0, demand.loc[j,'Dmd']*.05)\n",
    "        model += lpSum([x[(i, j)] for i in loc]) == (demand.loc[j,'Dmd']+rd)\n",
    "    for i in loc:\n",
    "        model += lpSum([x[(i, j)] for j in loc]) <= lpSum([cap.loc[i,s] * y[i,s] \n",
    "                                                           for s in size])\n",
    "    model.solve()\n",
    "    o = {}\n",
    "    for i in loc:\n",
    "        o[i] = value(lpSum([x[(i,j)] for j in loc]))\n",
    "    o['Obj'] = value(model.objective)\n",
    "    return(o)\n",
    "\n",
    "output = []\n",
    "for i in range(100):\n",
    "    output.append(pulp_model_(fix_cost, var_cost, demand, cap))\n",
    "    \n",
    "df = pd.DataFrame(output)"
   ]
  },
  {
   "cell_type": "code",
   "execution_count": 16,
   "metadata": {},
   "outputs": [
    {
     "data": {
      "text/plain": [
       "<matplotlib.axes._subplots.AxesSubplot at 0x26a2c33dfd0>"
      ]
     },
     "execution_count": 16,
     "metadata": {},
     "output_type": "execute_result"
    },
    {
     "data": {
      "image/png": "[encoded data removed]",
      "text/plain": [
       "<Figure size 432x288 with 1 Axes>"
      ]
     },
     "metadata": {
      "needs_background": "light"
     },
     "output_type": "display_data"
    }
   ],
   "source": [
    "import matplotlib.pyplot as plt\n",
    "df['India'].hist()"
   ]
  },
  {
   "cell_type": "code",
   "execution_count": 17,
   "metadata": {},
   "outputs": [
    {
     "data": {
      "image/png": "[encoded data removed]",
      "text/plain": [
       "<Figure size 432x288 with 1 Axes>"
      ]
     },
     "metadata": {
      "needs_background": "light"
     },
     "output_type": "display_data"
    }
   ],
   "source": [
    "plt.title('Histogram of Prod. At Germany Region')\n",
    "\n",
    "# Histogram of Germany production\n",
    "plt.hist(df['Germany'])\n",
    "plt.show()"
   ]
  },
  {
   "cell_type": "code",
   "execution_count": 18,
   "metadata": {},
   "outputs": [
    {
     "data": {
      "image/png": "[encoded data removed]",
      "text/plain": [
       "<Figure size 432x288 with 1 Axes>"
      ]
     },
     "metadata": {
      "needs_background": "light"
     },
     "output_type": "display_data"
    }
   ],
   "source": [
    "plt.title('Histogram of Prod. At USA Region')\n",
    "\n",
    "# Histogram of Germany production\n",
    "plt.hist(df['USA'])\n",
    "plt.show()"
   ]
  },
  {
   "cell_type": "code",
   "execution_count": null,
   "metadata": {},
   "outputs": [],
   "source": [
    "plt.title('Histogram of Prod. At Japan Region')\n",
    "\n",
    "# Histogram of Germany production\n",
    "plt.hist(df['Japan'])\n",
    "plt.show()"
   ]
  }
 ],
 "metadata": {
  "kernelspec": {
   "display_name": "Python 3",
   "language": "python",
   "name": "python3"
  },
  "language_info": {
   "codemirror_mode": {
    "name": "ipython",
    "version": 3
   },
   "file_extension": ".py",
   "mimetype": "text/x-python",
   "name": "python",
   "nbconvert_exporter": "python",
   "pygments_lexer": "ipython3",
   "version": "3.7.0"
  }
 },
 "nbformat": 4,
 "nbformat_minor": 2
}
