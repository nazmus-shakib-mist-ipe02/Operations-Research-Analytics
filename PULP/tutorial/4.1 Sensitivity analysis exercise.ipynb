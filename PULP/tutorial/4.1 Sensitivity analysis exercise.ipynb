{
 "cells": [
  {
   "cell_type": "markdown",
   "metadata": {},
   "source": [
    "Sensitivity analysis exercise\n",
    "You are doing the resource planning for a lawn furniture company. They manufacture decorative sets of legs for lawn chairs, benches, and tables from metal tubes using a two step process involving tube-bending, and welding. The profit the company receives from the sale of each product is $3 for a set of chair legs, $3 for a set of bench legs, and $5 for a set of table legs. You are trying to plan the production mix for the upcoming season. Unfortunately, due to a strike there is only 2000 lbs tubing available for production on-hand.\n",
    "\n",
    "The time and raw material requirements for each product are printed in the console. Also, the PuLP model has been completed for you and stored in the variable model. The constraints of the model are printed to the console.\n",
    "\n",
    "\n",
    "Complete the code to print the model status.\n",
    "Print values of the decision variables.\n",
    "Print the total profit by printing the value of the objective value."
   ]
  },
  {
   "cell_type": "code",
   "execution_count": 2,
   "metadata": {},
   "outputs": [],
   "source": [
    "import pandas as pd\n",
    "from pulp import *"
   ]
  },
  {
   "cell_type": "code",
   "execution_count": 3,
   "metadata": {},
   "outputs": [],
   "source": [
    "# Initialize Class\n",
    "model = LpProblem(\"Maximize Glass Co. Profits\", LpMaximize)\n",
    "\n",
    "# Define Decision Variables\n",
    "A = LpVariable('A', lowBound=0)\n",
    "B = LpVariable('B', lowBound=0)\n",
    "C = LpVariable('C', lowBound=0)\n",
    "\n",
    "# Define Objective Function\n",
    "model += 500 * A + 450 * B + 600 * C\n",
    "\n",
    "# Define Constraints\n",
    "model += 6 * A + 5 * B + 8 * C <= 60\n",
    "model += 10.5 * A + 20 * B + 10 * C <= 150\n",
    "model += A <= 8"
   ]
  },
  {
   "cell_type": "code",
   "execution_count": 4,
   "metadata": {},
   "outputs": [
    {
     "name": "stdout",
     "output_type": "stream",
     "text": [
      "Optimal\n",
      "A = 6.6666667\n",
      "B = 4.0\n",
      "C = 0.0\n",
      "Objective (Max Profit) =  5133.333350000001\n",
      "  name  shadow_price     slack\n",
      "0  _C1     78.148148 -0.000000\n",
      "1  _C2      2.962963 -0.000000\n",
      "2  _C3     -0.000000  1.333333\n"
     ]
    }
   ],
   "source": [
    "# Solve Model\n",
    "model.solve()\n",
    "print(LpStatus[model.status])\n",
    "\n",
    "for v in model.variables():\n",
    "    print(v.name,\"=\",v.varValue)\n",
    "\n",
    "print(\"Objective (Max Profit) = \", value(model.objective))\n",
    "\n",
    "o = [{'name':name, 'shadow_price':c.pi,'slack':c.slack} for name,c in model.constraints.items()]\n",
    "print(pd.DataFrame(o))\n",
    "\n"
   ]
  },
  {
   "cell_type": "markdown",
   "metadata": {},
   "source": [
    "# _c1 determines that if we increae first constraints with 61 from 60 then it will increase the profit to $ 78\n",
    "\n",
    "#  same for _c2 if we increase 150 to 151 then we will be having $2 profit in objective\n",
    "\n",
    "# if it is 0 then it infers that no changes can be made even if it is increases\n",
    "# slack = 0 then binding i.e. change in constraint will change the solution or objective fun\n",
    "# slack > 0 then no binding"
   ]
  }
 ],
 "metadata": {
  "kernelspec": {
   "display_name": "Python 3",
   "language": "python",
   "name": "python3"
  },
  "language_info": {
   "codemirror_mode": {
    "name": "ipython",
    "version": 3
   },
   "file_extension": ".py",
   "mimetype": "text/x-python",
   "name": "python",
   "nbconvert_exporter": "python",
   "pygments_lexer": "ipython3",
   "version": "3.7.0"
  }
 },
 "nbformat": 4,
 "nbformat_minor": 2
}
