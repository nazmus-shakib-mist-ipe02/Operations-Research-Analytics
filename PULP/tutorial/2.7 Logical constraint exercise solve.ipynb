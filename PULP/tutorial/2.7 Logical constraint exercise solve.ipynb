{
 "cells": [
  {
   "cell_type": "markdown",
   "metadata": {},
   "source": [
    "    Logical constraint exercise\n",
    "    Your customer has ordered six products to be delivered over the next month. You will need to ship multiple truck loads to deliver all of the products. There is a weight limit on your trucks of 25,000 lbs. For cash flow reasons you desire to ship the most profitable combination of products that can fit on your truck.\n",
    "\n",
    "    Product\tWeight (lbs)\tProfitability (US)\n",
    "    \n",
    "    A\t12,583\t102,564\n",
    "    B\t9,204\t130,043\n",
    "    C\t12,611\t127,648\n",
    "    D\t12,131\t155,058\n",
    "    E\t12,889\t238,846\n",
    "    F\t11,529\t197,030"
   ]
  },
  {
   "cell_type": "code",
   "execution_count": 1,
   "metadata": {},
   "outputs": [],
   "source": [
    "from pulp import *"
   ]
  },
  {
   "cell_type": "code",
   "execution_count": 2,
   "metadata": {},
   "outputs": [],
   "source": [
    "prod = ['A', 'B', 'C', 'D', 'E', 'F']\n",
    "weight = {'A': 12583, 'B': 9204, 'C': 12611, 'D': 12131, 'E': 12889, 'F': 11529}\n",
    "prof = {'A': 102564, 'B': 130043, 'C': 127648, 'D': 155058, 'E': 238846, 'F': 197030}"
   ]
  },
  {
   "cell_type": "code",
   "execution_count": 9,
   "metadata": {},
   "outputs": [
    {
     "name": "stdout",
     "output_type": "stream",
     "text": [
      "{'A': 12583, 'B': 9204, 'C': 12611, 'D': 12131, 'E': 12889, 'F': 11529}\n",
      "{'A': 102564, 'B': 130043, 'C': 127648, 'D': 155058, 'E': 238846, 'F': 197030}\n"
     ]
    }
   ],
   "source": [
    "print(weight)\n",
    "print(prof)"
   ]
  },
  {
   "cell_type": "code",
   "execution_count": 7,
   "metadata": {},
   "outputs": [],
   "source": [
    "# Initialized model, defined decision variables and objective\n",
    "model = LpProblem(\"Loading Truck Problem\", LpMaximize)\n",
    "x = LpVariable.dicts('ship', prod, cat='Binary')\n",
    "model += lpSum([prof[i] * x[i] for i in prod])"
   ]
  },
  {
   "cell_type": "code",
   "execution_count": 8,
   "metadata": {},
   "outputs": [
    {
     "name": "stdout",
     "output_type": "stream",
     "text": [
      "{'A': ship_A, 'B': ship_B, 'C': ship_C, 'D': ship_D, 'E': ship_E, 'F': ship_F}\n"
     ]
    }
   ],
   "source": [
    "print(x)"
   ]
  },
  {
   "cell_type": "code",
   "execution_count": 5,
   "metadata": {},
   "outputs": [],
   "source": [
    "# Define Constraint\n",
    "model += lpSum([weight[i] * x[i] for i in prod]) <= 25000\n",
    "model += x['D'] + x['E'] + x['F'] <= 1"
   ]
  },
  {
   "cell_type": "code",
   "execution_count": 6,
   "metadata": {},
   "outputs": [
    {
     "name": "stdout",
     "output_type": "stream",
     "text": [
      "ship__A = 0.0\n",
      "ship__B = 1.0\n",
      "ship__C = 0.0\n",
      "ship__D = 0.0\n",
      "ship__E = 1.0\n",
      "ship__F = 0.0\n",
      "The optimised objective function=  368889.0\n"
     ]
    }
   ],
   "source": [
    "model.solve()\n",
    "for v in model.variables():\n",
    "    print(v.name, \"=\", v.varValue)\n",
    "\n",
    "# The optimised objective function value is printed to the screen\n",
    "print(\"The optimised objective function= \", value(model.objective))"
   ]
  }
 ],
 "metadata": {
  "kernelspec": {
   "display_name": "Python 3",
   "language": "python",
   "name": "python3"
  },
  "language_info": {
   "codemirror_mode": {
    "name": "ipython",
    "version": 3
   },
   "file_extension": ".py",
   "mimetype": "text/x-python",
   "name": "python",
   "nbconvert_exporter": "python",
   "pygments_lexer": "ipython3",
   "version": "3.7.0"
  }
 },
 "nbformat": 4,
 "nbformat_minor": 2
}
