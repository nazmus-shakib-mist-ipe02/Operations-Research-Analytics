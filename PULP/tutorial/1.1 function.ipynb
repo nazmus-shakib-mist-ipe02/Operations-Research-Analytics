{
 "cells": [
  {
   "cell_type": "markdown",
   "metadata": {},
   "source": [
    "write a function:"
   ]
  },
  {
   "cell_type": "code",
   "execution_count": 4,
   "metadata": {},
   "outputs": [],
   "source": [
    "def lp(num_pushup, num_miles_ran):\n",
    "  \"\"\"\n",
    "  This function prints the number of calories burned, time used, and if that time is greater than 10 minutes.\n",
    "  \"\"\"\n",
    "  obj = 3.0 * num_pushup + 130.0 * num_miles_ran\n",
    "  print(\"Calories Burned: {0}\".format(obj))\n",
    "  min = 0.2 * num_pushup + 10.0 * num_miles_ran\n",
    "  print(\"Time Used: {0}\".format(min))\n",
    "  print(\"Used too much time: {0}\".format(min>10.0))"
   ]
  },
  {
   "cell_type": "code",
   "execution_count": 5,
   "metadata": {},
   "outputs": [
    {
     "name": "stdout",
     "output_type": "stream",
     "text": [
      "Calories Burned: 150.0\n",
      "Time Used: 10.0\n",
      "Used too much time: False\n"
     ]
    }
   ],
   "source": [
    "lp(50,0)"
   ]
  }
 ],
 "metadata": {
  "kernelspec": {
   "display_name": "Python 3",
   "language": "python",
   "name": "python3"
  },
  "language_info": {
   "codemirror_mode": {
    "name": "ipython",
    "version": 3
   },
   "file_extension": ".py",
   "mimetype": "text/x-python",
   "name": "python",
   "nbconvert_exporter": "python",
   "pygments_lexer": "ipython3",
   "version": "3.7.0"
  }
 },
 "nbformat": 4,
 "nbformat_minor": 2
}
