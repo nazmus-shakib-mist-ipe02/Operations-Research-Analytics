{
 "cells": [
  {
   "cell_type": "markdown",
   "metadata": {},
   "source": [
    "Decision variables of case study\n",
    "Continue the case study of the Capacitated Plant Location model of a car manufacture. You are given four Pandas data frames demand, var_cost, fix_cost, and cap containing the regional demand (thous. of cars), variable production costs (thous. $US), fixed production costs (thous. $US), and production capacity (thous. of cars). All these variables have been printed to the console for your viewing."
   ]
  },
  {
   "cell_type": "code",
   "execution_count": 1,
   "metadata": {},
   "outputs": [],
   "source": [
    "from pulp import *\n",
    "import pandas as pd"
   ]
  },
  {
   "cell_type": "code",
   "execution_count": 2,
   "metadata": {},
   "outputs": [],
   "source": [
    "# Initialize Class\n",
    "model = LpProblem(\"Capacitated Plant Location Model\", LpMinimize)"
   ]
  },
  {
   "cell_type": "code",
   "execution_count": 3,
   "metadata": {},
   "outputs": [],
   "source": [
    "# Define Decision Variables\n",
    "loc = ['USA', 'Germany', 'Japan', 'Brazil', 'India']\n",
    "size = ['Low_Cap','High_Cap']"
   ]
  },
  {
   "cell_type": "code",
   "execution_count": 4,
   "metadata": {},
   "outputs": [],
   "source": [
    "d = {'Supply_Region':['USA', 'Germany', 'Japan', 'Brazil', 'India'], 'Dmd':[2719.6,84.1,1676.8,145.4,156.4]}\n",
    "v = {'Supply_Region':['USA', 'Germany', 'Japan', 'Brazil', 'India'],\n",
    "    'USA':[6,13,20,12,22],'Germany':[13,6,14,14,13],'Japan':[20,14,3,21,10], \n",
    "    'Brazil':[12,14,21,8,23], 'India':[17,13,9,21,8]}\n",
    "f = {'Supply_Region':['USA', 'Germany', 'Japan', 'Brazil', 'India'],\n",
    "    'Low_Cap':[6500,4980,6230,3230,2110], 'High_Cap':[9500,7270,9100,4730,3080]}\n",
    "p = {'Supply_Region':['USA', 'Germany', 'Japan', 'Brazil', 'India'],\n",
    "    'Low_Cap':[500,500,500,500,500], 'High_Cap':[1500,1500,1500,1500,1500]}\n",
    "\n",
    "demand = pd.DataFrame(data = d)\n",
    "demand = demand.set_index('Supply_Region')\n",
    "\n",
    "var_cost = pd.DataFrame(data = v)\n",
    "var_cost = var_cost.set_index('Supply_Region')\n",
    "\n",
    "fix_cost = pd.DataFrame(data = f)\n",
    "fix_cost = fix_cost.set_index('Supply_Region')\n",
    "\n",
    "cap = pd.DataFrame(data = p)\n",
    "cap = cap.set_index('Supply_Region')"
   ]
  },
  {
   "cell_type": "code",
   "execution_count": 5,
   "metadata": {},
   "outputs": [
    {
     "name": "stdout",
     "output_type": "stream",
     "text": [
      "                  Dmd\n",
      "Supply_Region        \n",
      "USA            2719.6\n",
      "Germany          84.1\n",
      "Japan          1676.8\n",
      "Brazil          145.4\n",
      "India           156.4\n"
     ]
    }
   ],
   "source": [
    "print(demand)"
   ]
  },
  {
   "cell_type": "code",
   "execution_count": 6,
   "metadata": {},
   "outputs": [
    {
     "name": "stdout",
     "output_type": "stream",
     "text": [
      "               USA  Germany  Japan  Brazil  India\n",
      "Supply_Region                                    \n",
      "USA              6       13     20      12     17\n",
      "Germany         13        6     14      14     13\n",
      "Japan           20       14      3      21      9\n",
      "Brazil          12       14     21       8     21\n",
      "India           22       13     10      23      8\n"
     ]
    }
   ],
   "source": [
    "print(var_cost)"
   ]
  },
  {
   "cell_type": "code",
   "execution_count": 7,
   "metadata": {},
   "outputs": [
    {
     "name": "stdout",
     "output_type": "stream",
     "text": [
      "               Low_Cap  High_Cap\n",
      "Supply_Region                   \n",
      "USA               6500      9500\n",
      "Germany           4980      7270\n",
      "Japan             6230      9100\n",
      "Brazil            3230      4730\n",
      "India             2110      3080\n"
     ]
    }
   ],
   "source": [
    "print(fix_cost)"
   ]
  },
  {
   "cell_type": "code",
   "execution_count": 8,
   "metadata": {},
   "outputs": [
    {
     "name": "stdout",
     "output_type": "stream",
     "text": [
      "               Low_Cap  High_Cap\n",
      "Supply_Region                   \n",
      "USA                500      1500\n",
      "Germany            500      1500\n",
      "Japan              500      1500\n",
      "Brazil             500      1500\n",
      "India              500      1500\n"
     ]
    }
   ],
   "source": [
    "print(cap)"
   ]
  },
  {
   "cell_type": "code",
   "execution_count": 9,
   "metadata": {},
   "outputs": [],
   "source": [
    "x = LpVariable.dicts(\"production_\", [(i,j) for i in loc for j in loc],\n",
    "                     lowBound=0, upBound=None, cat='Continuous')\n",
    "y = LpVariable.dicts(\"plant_\", \n",
    "                     [(i,s) for s in size for i in loc], cat='Binary')\n"
   ]
  },
  {
   "cell_type": "code",
   "execution_count": 10,
   "metadata": {},
   "outputs": [
    {
     "name": "stdout",
     "output_type": "stream",
     "text": [
      "{('USA', 'USA'): production__('USA',_'USA'), ('USA', 'Germany'): production__('USA',_'Germany'), ('USA', 'Japan'): production__('USA',_'Japan'), ('USA', 'Brazil'): production__('USA',_'Brazil'), ('USA', 'India'): production__('USA',_'India'), ('Germany', 'USA'): production__('Germany',_'USA'), ('Germany', 'Germany'): production__('Germany',_'Germany'), ('Germany', 'Japan'): production__('Germany',_'Japan'), ('Germany', 'Brazil'): production__('Germany',_'Brazil'), ('Germany', 'India'): production__('Germany',_'India'), ('Japan', 'USA'): production__('Japan',_'USA'), ('Japan', 'Germany'): production__('Japan',_'Germany'), ('Japan', 'Japan'): production__('Japan',_'Japan'), ('Japan', 'Brazil'): production__('Japan',_'Brazil'), ('Japan', 'India'): production__('Japan',_'India'), ('Brazil', 'USA'): production__('Brazil',_'USA'), ('Brazil', 'Germany'): production__('Brazil',_'Germany'), ('Brazil', 'Japan'): production__('Brazil',_'Japan'), ('Brazil', 'Brazil'): production__('Brazil',_'Brazil'), ('Brazil', 'India'): production__('Brazil',_'India'), ('India', 'USA'): production__('India',_'USA'), ('India', 'Germany'): production__('India',_'Germany'), ('India', 'Japan'): production__('India',_'Japan'), ('India', 'Brazil'): production__('India',_'Brazil'), ('India', 'India'): production__('India',_'India')}\n"
     ]
    }
   ],
   "source": [
    "print(x)"
   ]
  },
  {
   "cell_type": "code",
   "execution_count": 11,
   "metadata": {},
   "outputs": [
    {
     "name": "stdout",
     "output_type": "stream",
     "text": [
      "{('USA', 'Low_Cap'): plant__('USA',_'Low_Cap'), ('Germany', 'Low_Cap'): plant__('Germany',_'Low_Cap'), ('Japan', 'Low_Cap'): plant__('Japan',_'Low_Cap'), ('Brazil', 'Low_Cap'): plant__('Brazil',_'Low_Cap'), ('India', 'Low_Cap'): plant__('India',_'Low_Cap'), ('USA', 'High_Cap'): plant__('USA',_'High_Cap'), ('Germany', 'High_Cap'): plant__('Germany',_'High_Cap'), ('Japan', 'High_Cap'): plant__('Japan',_'High_Cap'), ('Brazil', 'High_Cap'): plant__('Brazil',_'High_Cap'), ('India', 'High_Cap'): plant__('India',_'High_Cap')}\n"
     ]
    }
   ],
   "source": [
    "print(y)"
   ]
  },
  {
   "cell_type": "code",
   "execution_count": 12,
   "metadata": {},
   "outputs": [
    {
     "name": "stdout",
     "output_type": "stream",
     "text": [
      "[('USA', 'Low_Cap')]\n",
      "[('USA', 'High_Cap')]\n",
      "[('Germany', 'Low_Cap')]\n",
      "[('Germany', 'High_Cap')]\n",
      "[('Japan', 'Low_Cap')]\n",
      "[('Japan', 'High_Cap')]\n",
      "[('Brazil', 'Low_Cap')]\n",
      "[('Brazil', 'High_Cap')]\n",
      "[('India', 'Low_Cap')]\n",
      "[('India', 'High_Cap')]\n"
     ]
    }
   ],
   "source": [
    "for s in loc:\n",
    "    for i in size:\n",
    "        print([(s,i)])"
   ]
  },
  {
   "cell_type": "code",
   "execution_count": 13,
   "metadata": {},
   "outputs": [
    {
     "name": "stdout",
     "output_type": "stream",
     "text": [
      "plant__('USA',_'Low_Cap')\n",
      "plant__('USA',_'High_Cap')\n",
      "plant__('Germany',_'Low_Cap')\n",
      "plant__('Germany',_'High_Cap')\n",
      "plant__('Japan',_'Low_Cap')\n",
      "plant__('Japan',_'High_Cap')\n",
      "plant__('Brazil',_'Low_Cap')\n",
      "plant__('Brazil',_'High_Cap')\n",
      "plant__('India',_'Low_Cap')\n",
      "plant__('India',_'High_Cap')\n"
     ]
    }
   ],
   "source": [
    "for s in loc:\n",
    "    for i in size:\n",
    "        print(y[(s,i)])"
   ]
  },
  {
   "cell_type": "code",
   "execution_count": null,
   "metadata": {},
   "outputs": [],
   "source": []
  }
 ],
 "metadata": {
  "kernelspec": {
   "display_name": "Python 3",
   "language": "python",
   "name": "python3"
  },
  "language_info": {
   "codemirror_mode": {
    "name": "ipython",
    "version": 3
   },
   "file_extension": ".py",
   "mimetype": "text/x-python",
   "name": "python",
   "nbconvert_exporter": "python",
   "pygments_lexer": "ipython3",
   "version": "3.7.0"
  }
 },
 "nbformat": 4,
 "nbformat_minor": 2
}
