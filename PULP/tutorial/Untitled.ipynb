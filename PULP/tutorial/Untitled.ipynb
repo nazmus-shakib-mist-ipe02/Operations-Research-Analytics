{
 "cells": [
  {
   "cell_type": "markdown",
   "metadata": {},
   "source": [
    "# Simple resource scheduling exercise\n",
    "In this exercise you are planning the production at a glass manufacturer. This manufacturer only produces wine and beer glasses:\n",
    "\n",
    "there is a maximum production capacity of 60 hours\n",
    "each batch of wine and beer glasses takes 6 and 5 hours respectively\n",
    "the warehouse has a maximum capacity of 150 rack spaces\n",
    "each batch of the wine and beer glasses takes 10 and 20 spaces respectively\n",
    "the production equipment can only make full batches, no partial batches\n",
    "Also, we only have orders for 6 batches of wine glasses. Therefore, we do not want to produce more than this. Each batch of the wine glasses earns a profit of $5 and the beer $4.5.\n",
    "\n",
    "The objective is to maximize the profit for the manufacturer.\n",
    "\n",
    "puLP has already been imported for you.\n",
    "\n",
    "\n",
    "Complete the code that initializes the model using the LpProblem() function. Remember you want to model the objective function as the amount of profit earned."
   ]
  },
  {
   "cell_type": "code",
   "execution_count": 2,
   "metadata": {},
   "outputs": [],
   "source": [
    "from pulp import *"
   ]
  },
  {
   "cell_type": "code",
   "execution_count": 3,
   "metadata": {},
   "outputs": [],
   "source": [
    "#initialize class\n",
    "model = LpProblem('maximize profits', LpMaximize)"
   ]
  },
  {
   "cell_type": "markdown",
   "metadata": {},
   "source": [
    "# Simple resource scheduling exercise\n",
    "In this exercise you are planning the production at a glass manufacturer. This manufacturer only produces wine and beer glasses:\n",
    "\n",
    "there is a maximum production capacity of 60 hours\n",
    "each batch of wine and beer glasses takes 6 and 5 hours respectively\n",
    "the warehouse has a maximum capacity of 150 rack spaces\n",
    "each batch of the wine and beer glasses takes 10 and 20 spaces respectively\n",
    "the production equipment can only make full batches, no partial batches\n",
    "Also, we only have orders for 6 batches of wine glasses. Therefore, we do not want to produce more than this. Each batch of the wine glasses earns a profit of $5 and the beer $4.5.\n",
    "\n",
    "The objective is to maximize the profit for the manufacturer.\n",
    "\n",
    "\n",
    "- Define the model variables for the number of wine and beer produced. In terms of profit, the sky is the limit, but we definitely want to ensure we're not losing money."
   ]
  },
  {
   "cell_type": "code",
   "execution_count": null,
   "metadata": {},
   "outputs": [],
   "source": []
  }
 ],
 "metadata": {
  "kernelspec": {
   "display_name": "Python 3",
   "language": "python",
   "name": "python3"
  },
  "language_info": {
   "codemirror_mode": {
    "name": "ipython",
    "version": 3
   },
   "file_extension": ".py",
   "mimetype": "text/x-python",
   "name": "python",
   "nbconvert_exporter": "python",
   "pygments_lexer": "ipython3",
   "version": "3.7.0"
  }
 },
 "nbformat": 4,
 "nbformat_minor": 2
}
