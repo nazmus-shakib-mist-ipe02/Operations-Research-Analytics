{
 "cells": [
  {
   "cell_type": "markdown",
   "metadata": {},
   "source": [
    "You are again consulting for kitchen oven manufacturer helping to plan their logistics. This time you are attempting to put together a plan for the next six months (Jan.-Jun.). There are still two warehouse locations (New York, and Atlanta), and four regional customer locations (East, South, Midwest, West). The cost for shipping for each of the warehouse locations to the regional customer's is listed in the table below. Your goal is to determine the number of shipments from each warehouse to customers that provides the lowest costs.\n",
    "\n",
    "    Customer\tNew York\tAtlanta\n",
    "\n",
    "    East\t211\t232\n",
    "\n",
    "    South\t232\t212\n",
    "\n",
    "    Midwest\t240\t230\n",
    "\n",
    "    West\t300\t280\n"
   ]
  },
  {
   "cell_type": "code",
   "execution_count": 1,
   "metadata": {},
   "outputs": [],
   "source": [
    "from pulp import *\n",
    "model = LpProblem(\"Minimize Transportation Costs\", LpMinimize)"
   ]
  },
  {
   "cell_type": "code",
   "execution_count": 2,
   "metadata": {},
   "outputs": [],
   "source": [
    "warehouse = [\"New York\", \"Atlanta\"]\n",
    "customers = [\"East\", \"South\", \"Midwest\", \"West\"]\n",
    "regional_demand = [1800, 1200, 1100, 1000]\n",
    "months = ['Jan', 'Feb', 'Mar', 'Apr', 'May', 'Jun']"
   ]
  },
  {
   "cell_type": "code",
   "execution_count": 3,
   "metadata": {},
   "outputs": [],
   "source": [
    "# Define decision variables\n",
    "key = [(m, w, c) for m in months for w in warehouse for c in customers]\n",
    "var_dict = LpVariable.dicts('num_of_shipments', \n",
    "                            key, \n",
    "                            lowBound=0, cat='Integer')"
   ]
  },
  {
   "cell_type": "code",
   "execution_count": 4,
   "metadata": {},
   "outputs": [
    {
     "name": "stdout",
     "output_type": "stream",
     "text": [
      "[('Jan', 'New York', 'East'), ('Jan', 'New York', 'South'), ('Jan', 'New York', 'Midwest'), ('Jan', 'New York', 'West'), ('Jan', 'Atlanta', 'East'), ('Jan', 'Atlanta', 'South'), ('Jan', 'Atlanta', 'Midwest'), ('Jan', 'Atlanta', 'West'), ('Feb', 'New York', 'East'), ('Feb', 'New York', 'South'), ('Feb', 'New York', 'Midwest'), ('Feb', 'New York', 'West'), ('Feb', 'Atlanta', 'East'), ('Feb', 'Atlanta', 'South'), ('Feb', 'Atlanta', 'Midwest'), ('Feb', 'Atlanta', 'West'), ('Mar', 'New York', 'East'), ('Mar', 'New York', 'South'), ('Mar', 'New York', 'Midwest'), ('Mar', 'New York', 'West'), ('Mar', 'Atlanta', 'East'), ('Mar', 'Atlanta', 'South'), ('Mar', 'Atlanta', 'Midwest'), ('Mar', 'Atlanta', 'West'), ('Apr', 'New York', 'East'), ('Apr', 'New York', 'South'), ('Apr', 'New York', 'Midwest'), ('Apr', 'New York', 'West'), ('Apr', 'Atlanta', 'East'), ('Apr', 'Atlanta', 'South'), ('Apr', 'Atlanta', 'Midwest'), ('Apr', 'Atlanta', 'West'), ('May', 'New York', 'East'), ('May', 'New York', 'South'), ('May', 'New York', 'Midwest'), ('May', 'New York', 'West'), ('May', 'Atlanta', 'East'), ('May', 'Atlanta', 'South'), ('May', 'Atlanta', 'Midwest'), ('May', 'Atlanta', 'West'), ('Jun', 'New York', 'East'), ('Jun', 'New York', 'South'), ('Jun', 'New York', 'Midwest'), ('Jun', 'New York', 'West'), ('Jun', 'Atlanta', 'East'), ('Jun', 'Atlanta', 'South'), ('Jun', 'Atlanta', 'Midwest'), ('Jun', 'Atlanta', 'West')]\n"
     ]
    }
   ],
   "source": [
    "print(key)"
   ]
  },
  {
   "cell_type": "code",
   "execution_count": 5,
   "metadata": {},
   "outputs": [
    {
     "name": "stdout",
     "output_type": "stream",
     "text": [
      "{('Jan', 'New York', 'East'): num_of_shipments_('Jan',_'New_York',_'East'), ('Jan', 'New York', 'South'): num_of_shipments_('Jan',_'New_York',_'South'), ('Jan', 'New York', 'Midwest'): num_of_shipments_('Jan',_'New_York',_'Midwest'), ('Jan', 'New York', 'West'): num_of_shipments_('Jan',_'New_York',_'West'), ('Jan', 'Atlanta', 'East'): num_of_shipments_('Jan',_'Atlanta',_'East'), ('Jan', 'Atlanta', 'South'): num_of_shipments_('Jan',_'Atlanta',_'South'), ('Jan', 'Atlanta', 'Midwest'): num_of_shipments_('Jan',_'Atlanta',_'Midwest'), ('Jan', 'Atlanta', 'West'): num_of_shipments_('Jan',_'Atlanta',_'West'), ('Feb', 'New York', 'East'): num_of_shipments_('Feb',_'New_York',_'East'), ('Feb', 'New York', 'South'): num_of_shipments_('Feb',_'New_York',_'South'), ('Feb', 'New York', 'Midwest'): num_of_shipments_('Feb',_'New_York',_'Midwest'), ('Feb', 'New York', 'West'): num_of_shipments_('Feb',_'New_York',_'West'), ('Feb', 'Atlanta', 'East'): num_of_shipments_('Feb',_'Atlanta',_'East'), ('Feb', 'Atlanta', 'South'): num_of_shipments_('Feb',_'Atlanta',_'South'), ('Feb', 'Atlanta', 'Midwest'): num_of_shipments_('Feb',_'Atlanta',_'Midwest'), ('Feb', 'Atlanta', 'West'): num_of_shipments_('Feb',_'Atlanta',_'West'), ('Mar', 'New York', 'East'): num_of_shipments_('Mar',_'New_York',_'East'), ('Mar', 'New York', 'South'): num_of_shipments_('Mar',_'New_York',_'South'), ('Mar', 'New York', 'Midwest'): num_of_shipments_('Mar',_'New_York',_'Midwest'), ('Mar', 'New York', 'West'): num_of_shipments_('Mar',_'New_York',_'West'), ('Mar', 'Atlanta', 'East'): num_of_shipments_('Mar',_'Atlanta',_'East'), ('Mar', 'Atlanta', 'South'): num_of_shipments_('Mar',_'Atlanta',_'South'), ('Mar', 'Atlanta', 'Midwest'): num_of_shipments_('Mar',_'Atlanta',_'Midwest'), ('Mar', 'Atlanta', 'West'): num_of_shipments_('Mar',_'Atlanta',_'West'), ('Apr', 'New York', 'East'): num_of_shipments_('Apr',_'New_York',_'East'), ('Apr', 'New York', 'South'): num_of_shipments_('Apr',_'New_York',_'South'), ('Apr', 'New York', 'Midwest'): num_of_shipments_('Apr',_'New_York',_'Midwest'), ('Apr', 'New York', 'West'): num_of_shipments_('Apr',_'New_York',_'West'), ('Apr', 'Atlanta', 'East'): num_of_shipments_('Apr',_'Atlanta',_'East'), ('Apr', 'Atlanta', 'South'): num_of_shipments_('Apr',_'Atlanta',_'South'), ('Apr', 'Atlanta', 'Midwest'): num_of_shipments_('Apr',_'Atlanta',_'Midwest'), ('Apr', 'Atlanta', 'West'): num_of_shipments_('Apr',_'Atlanta',_'West'), ('May', 'New York', 'East'): num_of_shipments_('May',_'New_York',_'East'), ('May', 'New York', 'South'): num_of_shipments_('May',_'New_York',_'South'), ('May', 'New York', 'Midwest'): num_of_shipments_('May',_'New_York',_'Midwest'), ('May', 'New York', 'West'): num_of_shipments_('May',_'New_York',_'West'), ('May', 'Atlanta', 'East'): num_of_shipments_('May',_'Atlanta',_'East'), ('May', 'Atlanta', 'South'): num_of_shipments_('May',_'Atlanta',_'South'), ('May', 'Atlanta', 'Midwest'): num_of_shipments_('May',_'Atlanta',_'Midwest'), ('May', 'Atlanta', 'West'): num_of_shipments_('May',_'Atlanta',_'West'), ('Jun', 'New York', 'East'): num_of_shipments_('Jun',_'New_York',_'East'), ('Jun', 'New York', 'South'): num_of_shipments_('Jun',_'New_York',_'South'), ('Jun', 'New York', 'Midwest'): num_of_shipments_('Jun',_'New_York',_'Midwest'), ('Jun', 'New York', 'West'): num_of_shipments_('Jun',_'New_York',_'West'), ('Jun', 'Atlanta', 'East'): num_of_shipments_('Jun',_'Atlanta',_'East'), ('Jun', 'Atlanta', 'South'): num_of_shipments_('Jun',_'Atlanta',_'South'), ('Jun', 'Atlanta', 'Midwest'): num_of_shipments_('Jun',_'Atlanta',_'Midwest'), ('Jun', 'Atlanta', 'West'): num_of_shipments_('Jun',_'Atlanta',_'West')}\n"
     ]
    }
   ],
   "source": [
    "print(var_dict)"
   ]
  },
  {
   "cell_type": "code",
   "execution_count": 6,
   "metadata": {},
   "outputs": [],
   "source": [
    "costs = {('Atlanta', 'East'): 232,\n",
    "         ('Atlanta', 'Midwest'): 230,\n",
    "         ('Atlanta', 'South'): 212,\n",
    "         ('Atlanta', 'West'): 280,\n",
    "         ('New York', 'East'): 211,\n",
    "         ('New York', 'Midwest'): 240,\n",
    "         ('New York', 'South'): 232,\n",
    "         ('New York', 'West'): 300}"
   ]
  },
  {
   "cell_type": "code",
   "execution_count": 10,
   "metadata": {},
   "outputs": [
    {
     "name": "stdout",
     "output_type": "stream",
     "text": [
      "211\n",
      "num_of_shipments_('Jan',_'New_York',_'East')\n",
      "232\n",
      "num_of_shipments_('Jan',_'New_York',_'South')\n",
      "240\n",
      "num_of_shipments_('Jan',_'New_York',_'Midwest')\n",
      "300\n",
      "num_of_shipments_('Jan',_'New_York',_'West')\n",
      "232\n",
      "num_of_shipments_('Jan',_'Atlanta',_'East')\n",
      "212\n",
      "num_of_shipments_('Jan',_'Atlanta',_'South')\n",
      "230\n",
      "num_of_shipments_('Jan',_'Atlanta',_'Midwest')\n",
      "280\n",
      "num_of_shipments_('Jan',_'Atlanta',_'West')\n",
      "211\n",
      "num_of_shipments_('Feb',_'New_York',_'East')\n",
      "232\n",
      "num_of_shipments_('Feb',_'New_York',_'South')\n",
      "240\n",
      "num_of_shipments_('Feb',_'New_York',_'Midwest')\n",
      "300\n",
      "num_of_shipments_('Feb',_'New_York',_'West')\n",
      "232\n",
      "num_of_shipments_('Feb',_'Atlanta',_'East')\n",
      "212\n",
      "num_of_shipments_('Feb',_'Atlanta',_'South')\n",
      "230\n",
      "num_of_shipments_('Feb',_'Atlanta',_'Midwest')\n",
      "280\n",
      "num_of_shipments_('Feb',_'Atlanta',_'West')\n",
      "211\n",
      "num_of_shipments_('Mar',_'New_York',_'East')\n",
      "232\n",
      "num_of_shipments_('Mar',_'New_York',_'South')\n",
      "240\n",
      "num_of_shipments_('Mar',_'New_York',_'Midwest')\n",
      "300\n",
      "num_of_shipments_('Mar',_'New_York',_'West')\n",
      "232\n",
      "num_of_shipments_('Mar',_'Atlanta',_'East')\n",
      "212\n",
      "num_of_shipments_('Mar',_'Atlanta',_'South')\n",
      "230\n",
      "num_of_shipments_('Mar',_'Atlanta',_'Midwest')\n",
      "280\n",
      "num_of_shipments_('Mar',_'Atlanta',_'West')\n",
      "211\n",
      "num_of_shipments_('Apr',_'New_York',_'East')\n",
      "232\n",
      "num_of_shipments_('Apr',_'New_York',_'South')\n",
      "240\n",
      "num_of_shipments_('Apr',_'New_York',_'Midwest')\n",
      "300\n",
      "num_of_shipments_('Apr',_'New_York',_'West')\n",
      "232\n",
      "num_of_shipments_('Apr',_'Atlanta',_'East')\n",
      "212\n",
      "num_of_shipments_('Apr',_'Atlanta',_'South')\n",
      "230\n",
      "num_of_shipments_('Apr',_'Atlanta',_'Midwest')\n",
      "280\n",
      "num_of_shipments_('Apr',_'Atlanta',_'West')\n",
      "211\n",
      "num_of_shipments_('May',_'New_York',_'East')\n",
      "232\n",
      "num_of_shipments_('May',_'New_York',_'South')\n",
      "240\n",
      "num_of_shipments_('May',_'New_York',_'Midwest')\n",
      "300\n",
      "num_of_shipments_('May',_'New_York',_'West')\n",
      "232\n",
      "num_of_shipments_('May',_'Atlanta',_'East')\n",
      "212\n",
      "num_of_shipments_('May',_'Atlanta',_'South')\n",
      "230\n",
      "num_of_shipments_('May',_'Atlanta',_'Midwest')\n",
      "280\n",
      "num_of_shipments_('May',_'Atlanta',_'West')\n",
      "211\n",
      "num_of_shipments_('Jun',_'New_York',_'East')\n",
      "232\n",
      "num_of_shipments_('Jun',_'New_York',_'South')\n",
      "240\n",
      "num_of_shipments_('Jun',_'New_York',_'Midwest')\n",
      "300\n",
      "num_of_shipments_('Jun',_'New_York',_'West')\n",
      "232\n",
      "num_of_shipments_('Jun',_'Atlanta',_'East')\n",
      "212\n",
      "num_of_shipments_('Jun',_'Atlanta',_'South')\n",
      "230\n",
      "num_of_shipments_('Jun',_'Atlanta',_'Midwest')\n",
      "280\n",
      "num_of_shipments_('Jun',_'Atlanta',_'West')\n"
     ]
    }
   ],
   "source": [
    "for m in months:\n",
    "    for w in warehouse:\n",
    "        for c in customers:\n",
    "            print(costs[(w,c)])\n",
    "            print(var_dict[(m,w,c)])"
   ]
  },
  {
   "cell_type": "code",
   "execution_count": 7,
   "metadata": {},
   "outputs": [],
   "source": [
    "# Use the LpVariable dictionary variable to define objective\n",
    "model += lpSum([costs[(w, c)] * var_dict[(m, w, c)] \n",
    "                for m in months for w in warehouse for c in customers])\n",
    "\n",
    "# Marvelous work! Using LpVariable.dicts() allowed you to \n",
    "# create 48 (6 months * 2 warehouses * 4 customers) \n",
    "# individual decision variables for the model in a few lines of code."
   ]
  },
  {
   "cell_type": "code",
   "execution_count": 8,
   "metadata": {},
   "outputs": [
    {
     "name": "stdout",
     "output_type": "stream",
     "text": [
      "Minimize Transportation Costs:\n",
      "MINIMIZE\n",
      "232*num_of_shipments_('Apr',_'Atlanta',_'East') + 230*num_of_shipments_('Apr',_'Atlanta',_'Midwest') + 212*num_of_shipments_('Apr',_'Atlanta',_'South') + 280*num_of_shipments_('Apr',_'Atlanta',_'West') + 211*num_of_shipments_('Apr',_'New_York',_'East') + 240*num_of_shipments_('Apr',_'New_York',_'Midwest') + 232*num_of_shipments_('Apr',_'New_York',_'South') + 300*num_of_shipments_('Apr',_'New_York',_'West') + 232*num_of_shipments_('Feb',_'Atlanta',_'East') + 230*num_of_shipments_('Feb',_'Atlanta',_'Midwest') + 212*num_of_shipments_('Feb',_'Atlanta',_'South') + 280*num_of_shipments_('Feb',_'Atlanta',_'West') + 211*num_of_shipments_('Feb',_'New_York',_'East') + 240*num_of_shipments_('Feb',_'New_York',_'Midwest') + 232*num_of_shipments_('Feb',_'New_York',_'South') + 300*num_of_shipments_('Feb',_'New_York',_'West') + 232*num_of_shipments_('Jan',_'Atlanta',_'East') + 230*num_of_shipments_('Jan',_'Atlanta',_'Midwest') + 212*num_of_shipments_('Jan',_'Atlanta',_'South') + 280*num_of_shipments_('Jan',_'Atlanta',_'West') + 211*num_of_shipments_('Jan',_'New_York',_'East') + 240*num_of_shipments_('Jan',_'New_York',_'Midwest') + 232*num_of_shipments_('Jan',_'New_York',_'South') + 300*num_of_shipments_('Jan',_'New_York',_'West') + 232*num_of_shipments_('Jun',_'Atlanta',_'East') + 230*num_of_shipments_('Jun',_'Atlanta',_'Midwest') + 212*num_of_shipments_('Jun',_'Atlanta',_'South') + 280*num_of_shipments_('Jun',_'Atlanta',_'West') + 211*num_of_shipments_('Jun',_'New_York',_'East') + 240*num_of_shipments_('Jun',_'New_York',_'Midwest') + 232*num_of_shipments_('Jun',_'New_York',_'South') + 300*num_of_shipments_('Jun',_'New_York',_'West') + 232*num_of_shipments_('Mar',_'Atlanta',_'East') + 230*num_of_shipments_('Mar',_'Atlanta',_'Midwest') + 212*num_of_shipments_('Mar',_'Atlanta',_'South') + 280*num_of_shipments_('Mar',_'Atlanta',_'West') + 211*num_of_shipments_('Mar',_'New_York',_'East') + 240*num_of_shipments_('Mar',_'New_York',_'Midwest') + 232*num_of_shipments_('Mar',_'New_York',_'South') + 300*num_of_shipments_('Mar',_'New_York',_'West') + 232*num_of_shipments_('May',_'Atlanta',_'East') + 230*num_of_shipments_('May',_'Atlanta',_'Midwest') + 212*num_of_shipments_('May',_'Atlanta',_'South') + 280*num_of_shipments_('May',_'Atlanta',_'West') + 211*num_of_shipments_('May',_'New_York',_'East') + 240*num_of_shipments_('May',_'New_York',_'Midwest') + 232*num_of_shipments_('May',_'New_York',_'South') + 300*num_of_shipments_('May',_'New_York',_'West') + 0\n",
      "VARIABLES\n",
      "0 <= num_of_shipments_('Apr',_'Atlanta',_'East') Integer\n",
      "0 <= num_of_shipments_('Apr',_'Atlanta',_'Midwest') Integer\n",
      "0 <= num_of_shipments_('Apr',_'Atlanta',_'South') Integer\n",
      "0 <= num_of_shipments_('Apr',_'Atlanta',_'West') Integer\n",
      "0 <= num_of_shipments_('Apr',_'New_York',_'East') Integer\n",
      "0 <= num_of_shipments_('Apr',_'New_York',_'Midwest') Integer\n",
      "0 <= num_of_shipments_('Apr',_'New_York',_'South') Integer\n",
      "0 <= num_of_shipments_('Apr',_'New_York',_'West') Integer\n",
      "0 <= num_of_shipments_('Feb',_'Atlanta',_'East') Integer\n",
      "0 <= num_of_shipments_('Feb',_'Atlanta',_'Midwest') Integer\n",
      "0 <= num_of_shipments_('Feb',_'Atlanta',_'South') Integer\n",
      "0 <= num_of_shipments_('Feb',_'Atlanta',_'West') Integer\n",
      "0 <= num_of_shipments_('Feb',_'New_York',_'East') Integer\n",
      "0 <= num_of_shipments_('Feb',_'New_York',_'Midwest') Integer\n",
      "0 <= num_of_shipments_('Feb',_'New_York',_'South') Integer\n",
      "0 <= num_of_shipments_('Feb',_'New_York',_'West') Integer\n",
      "0 <= num_of_shipments_('Jan',_'Atlanta',_'East') Integer\n",
      "0 <= num_of_shipments_('Jan',_'Atlanta',_'Midwest') Integer\n",
      "0 <= num_of_shipments_('Jan',_'Atlanta',_'South') Integer\n",
      "0 <= num_of_shipments_('Jan',_'Atlanta',_'West') Integer\n",
      "0 <= num_of_shipments_('Jan',_'New_York',_'East') Integer\n",
      "0 <= num_of_shipments_('Jan',_'New_York',_'Midwest') Integer\n",
      "0 <= num_of_shipments_('Jan',_'New_York',_'South') Integer\n",
      "0 <= num_of_shipments_('Jan',_'New_York',_'West') Integer\n",
      "0 <= num_of_shipments_('Jun',_'Atlanta',_'East') Integer\n",
      "0 <= num_of_shipments_('Jun',_'Atlanta',_'Midwest') Integer\n",
      "0 <= num_of_shipments_('Jun',_'Atlanta',_'South') Integer\n",
      "0 <= num_of_shipments_('Jun',_'Atlanta',_'West') Integer\n",
      "0 <= num_of_shipments_('Jun',_'New_York',_'East') Integer\n",
      "0 <= num_of_shipments_('Jun',_'New_York',_'Midwest') Integer\n",
      "0 <= num_of_shipments_('Jun',_'New_York',_'South') Integer\n",
      "0 <= num_of_shipments_('Jun',_'New_York',_'West') Integer\n",
      "0 <= num_of_shipments_('Mar',_'Atlanta',_'East') Integer\n",
      "0 <= num_of_shipments_('Mar',_'Atlanta',_'Midwest') Integer\n",
      "0 <= num_of_shipments_('Mar',_'Atlanta',_'South') Integer\n",
      "0 <= num_of_shipments_('Mar',_'Atlanta',_'West') Integer\n",
      "0 <= num_of_shipments_('Mar',_'New_York',_'East') Integer\n",
      "0 <= num_of_shipments_('Mar',_'New_York',_'Midwest') Integer\n",
      "0 <= num_of_shipments_('Mar',_'New_York',_'South') Integer\n",
      "0 <= num_of_shipments_('Mar',_'New_York',_'West') Integer\n",
      "0 <= num_of_shipments_('May',_'Atlanta',_'East') Integer\n",
      "0 <= num_of_shipments_('May',_'Atlanta',_'Midwest') Integer\n",
      "0 <= num_of_shipments_('May',_'Atlanta',_'South') Integer\n",
      "0 <= num_of_shipments_('May',_'Atlanta',_'West') Integer\n",
      "0 <= num_of_shipments_('May',_'New_York',_'East') Integer\n",
      "0 <= num_of_shipments_('May',_'New_York',_'Midwest') Integer\n",
      "0 <= num_of_shipments_('May',_'New_York',_'South') Integer\n",
      "0 <= num_of_shipments_('May',_'New_York',_'West') Integer\n",
      "\n"
     ]
    }
   ],
   "source": [
    "print(model)"
   ]
  }
 ],
 "metadata": {
  "kernelspec": {
   "display_name": "Python 3",
   "language": "python",
   "name": "python3"
  },
  "language_info": {
   "codemirror_mode": {
    "name": "ipython",
    "version": 3
   },
   "file_extension": ".py",
   "mimetype": "text/x-python",
   "name": "python",
   "nbconvert_exporter": "python",
   "pygments_lexer": "ipython3",
   "version": "3.7.0"
  }
 },
 "nbformat": 4,
 "nbformat_minor": 2
}
