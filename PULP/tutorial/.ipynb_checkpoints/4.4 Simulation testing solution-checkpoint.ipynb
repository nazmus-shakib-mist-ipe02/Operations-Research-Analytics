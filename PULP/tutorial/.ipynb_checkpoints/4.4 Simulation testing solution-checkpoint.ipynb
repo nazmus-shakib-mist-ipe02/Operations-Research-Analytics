{
 "cells": [
  {
   "cell_type": "code",
   "execution_count": 5,
   "metadata": {},
   "outputs": [],
   "source": [
    "from pulp import *\n",
    "import pandas as pd"
   ]
  },
  {
   "cell_type": "code",
   "execution_count": 6,
   "metadata": {},
   "outputs": [
    {
     "name": "stdout",
     "output_type": "stream",
     "text": [
      "6.666667    75\n",
      "0.000000    18\n",
      "8.000000     7\n",
      "Name: A, dtype: int64\n",
      "4.000000    75\n",
      "5.454546    18\n",
      "2.400000     7\n",
      "Name: B, dtype: int64\n",
      "0.000000    82\n",
      "4.090909    18\n",
      "Name: C, dtype: int64\n"
     ]
    }
   ],
   "source": [
    "# Initialize Class\n",
    "from random import normalvariate\n",
    "# Step 1\n",
    "def run_pulp_model():\n",
    "    model = LpProblem(\"Maximize Glass Co. Profits\", LpMaximize)\n",
    "\n",
    "    # Define Decision Variables\n",
    "    A = LpVariable('A', lowBound=0)\n",
    "    B = LpVariable('B', lowBound=0)\n",
    "    C = LpVariable('C', lowBound=0)\n",
    "\n",
    "    # Step 2\n",
    "    a, b, c = normalvariate(0, 25),normalvariate(0, 25),normalvariate(0, 25)\n",
    "\n",
    "    # Define Objective Function\n",
    "    model += (500+a) * A + (450+b) * B + (600+c) * C\n",
    "\n",
    "    # Define Constraints\n",
    "    model += 6 * A + 5 * B + 8 * C <= 60\n",
    "    model += 10.5 * A + 20 * B + 10 * C <= 150\n",
    "    model += A <= 8\n",
    "\n",
    "    # Solve Model\n",
    "    model.solve()\n",
    "    o = {'A':A.varValue,'B':B.varValue,'C':C.varValue,'Obj':value(model.objective)}\n",
    "    return(o)\n",
    "\n",
    "# Step 4\n",
    "output = []\n",
    "for i in range(100):\n",
    "    output.append(run_pulp_model())\n",
    "    \n",
    "df = pd.DataFrame(output)\n",
    "\n",
    "# Step 5\n",
    "print(df['A'].value_counts())\n",
    "print(df['B'].value_counts())\n",
    "print(df['C'].value_counts())"
   ]
  }
 ],
 "metadata": {
  "kernelspec": {
   "display_name": "Python 3",
   "language": "python",
   "name": "python3"
  },
  "language_info": {
   "codemirror_mode": {
    "name": "ipython",
    "version": 3
   },
   "file_extension": ".py",
   "mimetype": "text/x-python",
   "name": "python",
   "nbconvert_exporter": "python",
   "pygments_lexer": "ipython3",
   "version": "3.7.0"
  }
 },
 "nbformat": 4,
 "nbformat_minor": 2
}
