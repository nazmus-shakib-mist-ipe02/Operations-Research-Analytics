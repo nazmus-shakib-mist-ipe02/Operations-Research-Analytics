{
 "cells": [
  {
   "cell_type": "markdown",
   "metadata": {},
   "source": [
    "max Z= 3*X1 + 5*X2\n",
    "\n",
    "X1 <=4\n",
    "\n",
    "2X2 <=12\n",
    "\n",
    "3X1 + 2X2 <18\n",
    "\n",
    "X1>0\n",
    "\n",
    "X2>0\n"
   ]
  },
  {
   "cell_type": "code",
   "execution_count": 1,
   "metadata": {},
   "outputs": [
    {
     "name": "stdout",
     "output_type": "stream",
     "text": [
      "Optimization terminated successfully.\n",
      "         Current function value: -36.000000  \n",
      "         Iterations: 2\n",
      "     fun: -36.0\n",
      " message: 'Optimization terminated successfully.'\n",
      "     nit: 2\n",
      "   slack: array([2., 0., 0.])\n",
      "  status: 0\n",
      " success: True\n",
      "       x: array([2., 6.])\n"
     ]
    }
   ],
   "source": [
    "# Define the Linear Programming\n",
    "c = [-3, -5] # Coefficient of Objective function (Minimization)\n",
    "A = [[1, 0], [0, 2], [3, 2]] # LHS of the constraints\n",
    "b = [4, 12, 18]  # RHS of the constraints\n",
    "x0_bounds = (0, None)\n",
    "x1_bounds = (0, None)\n",
    "\n",
    "# Import the Optimization library\n",
    "from scipy.optimize import linprog\n",
    "# Solve the problem by Simplex method in Optimization\n",
    "result = linprog(c, A_ub=A, b_ub=b,  bounds=(x0_bounds, x1_bounds), method='simplex', options={\"disp\": True})\n",
    "print(result)"
   ]
  },
  {
   "cell_type": "code",
   "execution_count": null,
   "metadata": {},
   "outputs": [],
   "source": []
  }
 ],
 "metadata": {
  "kernelspec": {
   "display_name": "Python 3",
   "language": "python",
   "name": "python3"
  },
  "language_info": {
   "codemirror_mode": {
    "name": "ipython",
    "version": 3
   },
   "file_extension": ".py",
   "mimetype": "text/x-python",
   "name": "python",
   "nbconvert_exporter": "python",
   "pygments_lexer": "ipython3",
   "version": "3.7.0"
  },
  "latex_envs": {
   "LaTeX_envs_menu_present": true,
   "autoclose": false,
   "autocomplete": true,
   "bibliofile": "biblio.bib",
   "cite_by": "apalike",
   "current_citInitial": 1,
   "eqLabelWithNumbers": true,
   "eqNumInitial": 1,
   "hotkeys": {
    "equation": "Ctrl-E",
    "itemize": "Ctrl-I"
   },
   "labels_anchors": false,
   "latex_user_defs": false,
   "report_style_numbering": false,
   "user_envs_cfg": false
  }
 },
 "nbformat": 4,
 "nbformat_minor": 2
}
