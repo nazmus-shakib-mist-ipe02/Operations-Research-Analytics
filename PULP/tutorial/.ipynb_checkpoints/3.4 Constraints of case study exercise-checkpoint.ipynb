{
 "cells": [
  {
   "cell_type": "markdown",
   "metadata": {},
   "source": [
    "Constraints of case study exercise\n",
    "Continue the case study of the Capacitated Plant Location model of a car manufacture. You are given four Pandas data frames demand, var_cost, fix_cost, and cap containing the regional demand (thous. of cars), variable production costs (thous. $US), fixed production costs (thous. $US), and production capacity (thous. of cars). Two python lists loc, and size have also been created, containing the different locations, and the two types of plant capacities. All these variables have been printed to the console for your viewing. The code to initialize the decision variables, define them and create the objective function has been completed for you.\n",
    "\n",
    "\n",
    "Define the constraint that sets total production shipped to a particular region equal to the total demand of that region.\n",
    "\n",
    "Complete the code to define constraint that sets total production of a particular region is less than or equal to the total production capacity of that region."
   ]
  },
  {
   "cell_type": "code",
   "execution_count": 1,
   "metadata": {},
   "outputs": [],
   "source": [
    "import pandas as pd\n",
    "from pulp import *"
   ]
  },
  {
   "cell_type": "code",
   "execution_count": 2,
   "metadata": {},
   "outputs": [],
   "source": [
    "d = {'Supply_Region':['USA', 'Germany', 'Japan', 'Brazil', 'India'], 'Dmd':[2719.6,84.1,1676.8,145.4,156.4]}\n",
    "v = {'Supply_Region':['USA', 'Germany', 'Japan', 'Brazil', 'India'],\n",
    "    'USA':[6,13,20,12,22],'Germany':[13,6,14,14,13],'Japan':[20,14,3,21,10], \n",
    "    'Brazil':[12,14,21,8,23], 'India':[17,13,9,21,8]}\n",
    "f = {'Supply_Region':['USA', 'Germany', 'Japan', 'Brazil', 'India'],\n",
    "    'Low_Cap':[6500,4980,6230,3230,2110], 'High_Cap':[9500,7270,9100,4730,3080]}\n",
    "p = {'Supply_Region':['USA', 'Germany', 'Japan', 'Brazil', 'India'],\n",
    "    'Low_Cap':[500,500,500,500,500], 'High_Cap':[1500,1500,1500,1500,1500]}\n",
    "\n",
    "demand = pd.DataFrame(data = d)\n",
    "demand = demand.set_index('Supply_Region')\n",
    "\n",
    "var_cost = pd.DataFrame(data = v)\n",
    "var_cost = var_cost.set_index('Supply_Region')\n",
    "\n",
    "fix_cost = pd.DataFrame(data = f)\n",
    "fix_cost = fix_cost.set_index('Supply_Region')\n",
    "\n",
    "cap = pd.DataFrame(data = p)\n",
    "cap = cap.set_index('Supply_Region')\n"
   ]
  },
  {
   "cell_type": "code",
   "execution_count": 3,
   "metadata": {},
   "outputs": [
    {
     "name": "stdout",
     "output_type": "stream",
     "text": [
      "                  Dmd\n",
      "Supply_Region        \n",
      "USA            2719.6\n",
      "Germany          84.1\n",
      "Japan          1676.8\n",
      "Brazil          145.4\n",
      "India           156.4\n",
      "               USA  Germany  Japan  Brazil  India\n",
      "Supply_Region                                    \n",
      "USA              6       13     20      12     17\n",
      "Germany         13        6     14      14     13\n",
      "Japan           20       14      3      21      9\n",
      "Brazil          12       14     21       8     21\n",
      "India           22       13     10      23      8\n",
      "               Low_Cap  High_Cap\n",
      "Supply_Region                   \n",
      "USA               6500      9500\n",
      "Germany           4980      7270\n",
      "Japan             6230      9100\n",
      "Brazil            3230      4730\n",
      "India             2110      3080\n",
      "               Low_Cap  High_Cap\n",
      "Supply_Region                   \n",
      "USA                500      1500\n",
      "Germany            500      1500\n",
      "Japan              500      1500\n",
      "Brazil             500      1500\n",
      "India              500      1500\n"
     ]
    }
   ],
   "source": [
    "print(demand)\n",
    "print(var_cost)\n",
    "print(fix_cost)\n",
    "print(cap)"
   ]
  },
  {
   "cell_type": "code",
   "execution_count": 4,
   "metadata": {},
   "outputs": [],
   "source": [
    "model = LpProblem(\"Capacitated Plant Location Method\", LpMinimize)\n",
    "\n",
    "loc = ['USA', 'Germany', 'Japan', 'Brazil', 'India']\n",
    "size = ['Low_Cap','High_Cap']\n",
    "\n",
    "x = LpVariable.dicts(\"production\",[(i,j) for i in loc for j in loc], lowBound=0, upBound=None, cat='Continous')\n",
    "\n",
    "y = LpVariable.dicts(\"plant\",[(i,s) for s in size for i in loc], cat='Binary')\n"
   ]
  },
  {
   "cell_type": "code",
   "execution_count": 5,
   "metadata": {},
   "outputs": [
    {
     "name": "stdout",
     "output_type": "stream",
     "text": [
      "{('USA', 'USA'): production_('USA',_'USA'), ('USA', 'Germany'): production_('USA',_'Germany'), ('USA', 'Japan'): production_('USA',_'Japan'), ('USA', 'Brazil'): production_('USA',_'Brazil'), ('USA', 'India'): production_('USA',_'India'), ('Germany', 'USA'): production_('Germany',_'USA'), ('Germany', 'Germany'): production_('Germany',_'Germany'), ('Germany', 'Japan'): production_('Germany',_'Japan'), ('Germany', 'Brazil'): production_('Germany',_'Brazil'), ('Germany', 'India'): production_('Germany',_'India'), ('Japan', 'USA'): production_('Japan',_'USA'), ('Japan', 'Germany'): production_('Japan',_'Germany'), ('Japan', 'Japan'): production_('Japan',_'Japan'), ('Japan', 'Brazil'): production_('Japan',_'Brazil'), ('Japan', 'India'): production_('Japan',_'India'), ('Brazil', 'USA'): production_('Brazil',_'USA'), ('Brazil', 'Germany'): production_('Brazil',_'Germany'), ('Brazil', 'Japan'): production_('Brazil',_'Japan'), ('Brazil', 'Brazil'): production_('Brazil',_'Brazil'), ('Brazil', 'India'): production_('Brazil',_'India'), ('India', 'USA'): production_('India',_'USA'), ('India', 'Germany'): production_('India',_'Germany'), ('India', 'Japan'): production_('India',_'Japan'), ('India', 'Brazil'): production_('India',_'Brazil'), ('India', 'India'): production_('India',_'India')}\n",
      "{('USA', 'Low_Cap'): plant_('USA',_'Low_Cap'), ('Germany', 'Low_Cap'): plant_('Germany',_'Low_Cap'), ('Japan', 'Low_Cap'): plant_('Japan',_'Low_Cap'), ('Brazil', 'Low_Cap'): plant_('Brazil',_'Low_Cap'), ('India', 'Low_Cap'): plant_('India',_'Low_Cap'), ('USA', 'High_Cap'): plant_('USA',_'High_Cap'), ('Germany', 'High_Cap'): plant_('Germany',_'High_Cap'), ('Japan', 'High_Cap'): plant_('Japan',_'High_Cap'), ('Brazil', 'High_Cap'): plant_('Brazil',_'High_Cap'), ('India', 'High_Cap'): plant_('India',_'High_Cap')}\n"
     ]
    }
   ],
   "source": [
    "print(x)\n",
    "print(y)"
   ]
  },
  {
   "cell_type": "code",
   "execution_count": 6,
   "metadata": {},
   "outputs": [],
   "source": [
    "model += (lpSum([fix_cost.loc[i,s] * y[(i,s)]] for s in size for i in loc) + \n",
    "         lpSum([var_cost.loc[i,j] * x[(i,j)]] for i in loc for j in loc))\n",
    "\n",
    "# Constraint 1\n",
    "for j in loc:\n",
    "    model += lpSum([x[(i, j)] for i in loc]) == demand.loc[j,'Dmd']\n",
    "\n",
    "# Constraint 2\n",
    "for i in loc:\n",
    "    model += lpSum([x[(i, j)] for j in loc]) <= lpSum([cap.loc[i,s] * y[i,s] \n",
    "                                                       for s in size])"
   ]
  },
  {
   "cell_type": "code",
   "execution_count": 10,
   "metadata": {},
   "outputs": [
    {
     "data": {
      "text/plain": [
       "1"
      ]
     },
     "execution_count": 10,
     "metadata": {},
     "output_type": "execute_result"
    }
   ],
   "source": [
    "model.solve()"
   ]
  },
  {
   "cell_type": "code",
   "execution_count": 11,
   "metadata": {},
   "outputs": [
    {
     "ename": "KeyError",
     "evalue": "'Continous'",
     "output_type": "error",
     "traceback": [
      "\u001b[1;31m---------------------------------------------------------------------------\u001b[0m",
      "\u001b[1;31mKeyError\u001b[0m                                  Traceback (most recent call last)",
      "\u001b[1;32m<ipython-input-11-a87813ffe34d>\u001b[0m in \u001b[0;36m<module>\u001b[1;34m()\u001b[0m\n\u001b[1;32m----> 1\u001b[1;33m \u001b[0mprint\u001b[0m\u001b[1;33m(\u001b[0m\u001b[0mmodel\u001b[0m\u001b[1;33m)\u001b[0m\u001b[1;33m\u001b[0m\u001b[0m\n\u001b[0m",
      "\u001b[1;32m~\\Anaconda3\\lib\\site-packages\\pulp\\pulp.py\u001b[0m in \u001b[0;36m__repr__\u001b[1;34m(self)\u001b[0m\n\u001b[0;32m   1142\u001b[0m         \u001b[0ms\u001b[0m \u001b[1;33m+=\u001b[0m \u001b[1;34m\"VARIABLES\\n\"\u001b[0m\u001b[1;33m\u001b[0m\u001b[0m\n\u001b[0;32m   1143\u001b[0m         \u001b[1;32mfor\u001b[0m \u001b[0mv\u001b[0m \u001b[1;32min\u001b[0m \u001b[0mself\u001b[0m\u001b[1;33m.\u001b[0m\u001b[0mvariables\u001b[0m\u001b[1;33m(\u001b[0m\u001b[1;33m)\u001b[0m\u001b[1;33m:\u001b[0m\u001b[1;33m\u001b[0m\u001b[0m\n\u001b[1;32m-> 1144\u001b[1;33m             \u001b[0ms\u001b[0m \u001b[1;33m+=\u001b[0m \u001b[0mv\u001b[0m\u001b[1;33m.\u001b[0m\u001b[0masCplexLpVariable\u001b[0m\u001b[1;33m(\u001b[0m\u001b[1;33m)\u001b[0m \u001b[1;33m+\u001b[0m \u001b[1;34m\" \"\u001b[0m \u001b[1;33m+\u001b[0m \u001b[0mLpCategories\u001b[0m\u001b[1;33m[\u001b[0m\u001b[0mv\u001b[0m\u001b[1;33m.\u001b[0m\u001b[0mcat\u001b[0m\u001b[1;33m]\u001b[0m \u001b[1;33m+\u001b[0m \u001b[1;34m\"\\n\"\u001b[0m\u001b[1;33m\u001b[0m\u001b[0m\n\u001b[0m\u001b[0;32m   1145\u001b[0m         \u001b[1;32mreturn\u001b[0m \u001b[0ms\u001b[0m\u001b[1;33m\u001b[0m\u001b[0m\n\u001b[0;32m   1146\u001b[0m \u001b[1;33m\u001b[0m\u001b[0m\n",
      "\u001b[1;31mKeyError\u001b[0m: 'Continous'"
     ]
    }
   ],
   "source": [
    "print(model)"
   ]
  }
 ],
 "metadata": {
  "kernelspec": {
   "display_name": "Python 3",
   "language": "python",
   "name": "python3"
  },
  "language_info": {
   "codemirror_mode": {
    "name": "ipython",
    "version": 3
   },
   "file_extension": ".py",
   "mimetype": "text/x-python",
   "name": "python",
   "nbconvert_exporter": "python",
   "pygments_lexer": "ipython3",
   "version": "3.7.0"
  }
 },
 "nbformat": 4,
 "nbformat_minor": 2
}
