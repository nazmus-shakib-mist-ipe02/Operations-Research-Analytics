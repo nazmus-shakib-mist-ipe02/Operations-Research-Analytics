{
 "cells": [
  {
   "cell_type": "markdown",
   "metadata": {},
   "source": [
    "Scheduling workers problem\n",
    "You are looking to hire workers to work in a warehouse. Each worker is expected to work 5 consecutive days and then have two days off. The chart below has the estimated number of workers you will need each day. You are looking to hire the minimum number of workers to handle the workload for each day.\n",
    "\n",
    "Expected Workload\n",
    "\n",
    "    Day of Week\tEmployees Needed\n",
    "    0 = Monday\t31\n",
    "    1 = Tuesday\t45\n",
    "    2 = Wednesday\t40\n",
    "    3 = Thursday\t40\n",
    "    4 = Friday\t48\n",
    "    5 = Saturday\t30\n",
    "    6 = Sunday\t25"
   ]
  },
  {
   "cell_type": "code",
   "execution_count": 1,
   "metadata": {},
   "outputs": [],
   "source": [
    "from pulp import *\n",
    "import pandas as pd"
   ]
  },
  {
   "cell_type": "code",
   "execution_count": 2,
   "metadata": {},
   "outputs": [],
   "source": [
    "# The class has been initialize, and x, days, and objective function defined\n",
    "model = LpProblem(\"Minimize Staffing\", LpMinimize)\n",
    "days = list(range(7))"
   ]
  },
  {
   "cell_type": "code",
   "execution_count": 3,
   "metadata": {},
   "outputs": [],
   "source": [
    "x = LpVariable.dicts('staff', days, lowBound=0, cat='Integer')\n",
    "\n",
    "model += lpSum([x[i] for i in days])\n",
    "\n",
    "# Define Constraints\n",
    "model += x[0] + x[3] + x[4] + x[5] + x[6] >= 31\n",
    "model += x[0] + x[1] + x[4] + x[5] + x[6] >= 45\n",
    "model += x[0] + x[1] + x[2] + x[5] + x[6] >= 40\n",
    "model += x[0] + x[1] + x[2] + x[3] + x[6] >= 40\n",
    "model += x[0] + x[1] + x[2] + x[3] + x[4] >= 48\n",
    "model += x[1] + x[2] + x[3] + x[4] + x[5] >= 30\n",
    "model += x[2] + x[3] + x[4] + x[5] + x[6] >= 25"
   ]
  },
  {
   "cell_type": "code",
   "execution_count": 4,
   "metadata": {},
   "outputs": [
    {
     "name": "stdout",
     "output_type": "stream",
     "text": [
      "Model Status: Optimal\n",
      "staff_0 = 14.0\n",
      "staff_1 = 14.0\n",
      "staff_2 = 8.0\n",
      "staff_3 = 0.0\n",
      "staff_4 = 13.0\n",
      "staff_5 = 0.0\n",
      "staff_6 = 4.0\n",
      "Objective (number of drivers needed) =  53.0\n",
      "  name  shadow price  slack\n",
      "0  _C1           0.0   -0.0\n",
      "1  _C2           0.0   -0.0\n",
      "2  _C3           0.0   -0.0\n",
      "3  _C4           0.0   -0.0\n",
      "4  _C5           0.0   -1.0\n",
      "5  _C6           0.0   -5.0\n",
      "6  _C7           0.0   -0.0\n"
     ]
    }
   ],
   "source": [
    "model.solve()\n",
    "\n",
    "print(\"Model Status: {}\".format(pulp.LpStatus[model.status]))\n",
    "for v in model.variables():\n",
    "    print(v.name, \"=\", v.varValue)\n",
    "print(\"Objective (number of drivers needed) = \", value(model.objective))\n",
    "o = [{'name':name, 'shadow price':c.pi, 'slack': c.slack} \n",
    "     for name, c in model.constraints.items()]\n",
    "print(pd.DataFrame(o))"
   ]
  }
 ],
 "metadata": {
  "kernelspec": {
   "display_name": "Python 3",
   "language": "python",
   "name": "python3"
  },
  "language_info": {
   "codemirror_mode": {
    "name": "ipython",
    "version": 3
   },
   "file_extension": ".py",
   "mimetype": "text/x-python",
   "name": "python",
   "nbconvert_exporter": "python",
   "pygments_lexer": "ipython3",
   "version": "3.7.0"
  }
 },
 "nbformat": 4,
 "nbformat_minor": 2
}
