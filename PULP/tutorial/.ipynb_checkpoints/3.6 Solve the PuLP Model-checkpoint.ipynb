{
 "cells": [
  {
   "cell_type": "code",
   "execution_count": 2,
   "metadata": {},
   "outputs": [],
   "source": [
    "import pandas as pd\n",
    "from pulp import *"
   ]
  },
  {
   "cell_type": "code",
   "execution_count": 3,
   "metadata": {},
   "outputs": [
    {
     "name": "stdout",
     "output_type": "stream",
     "text": [
      "Optimal\n",
      "s_('W1',_'A') = 1500.0\n",
      "s_('W1',_'B') = 0.0\n",
      "s_('W1',_'C') = 0.0\n",
      "s_('W2',_'A') = 0.0\n",
      "s_('W2',_'B') = 900.0\n",
      "s_('W2',_'C') = 800.0\n",
      "Objective =  757700.0\n"
     ]
    },
    {
     "data": {
      "text/html": [
       "<div>\n",
       "<style scoped>\n",
       "    .dataframe tbody tr th:only-of-type {\n",
       "        vertical-align: middle;\n",
       "    }\n",
       "\n",
       "    .dataframe tbody tr th {\n",
       "        vertical-align: top;\n",
       "    }\n",
       "\n",
       "    .dataframe thead th {\n",
       "        text-align: right;\n",
       "    }\n",
       "</style>\n",
       "<table border=\"1\" class=\"dataframe\">\n",
       "  <thead>\n",
       "    <tr style=\"text-align: right;\">\n",
       "      <th></th>\n",
       "      <th>A</th>\n",
       "      <th>B</th>\n",
       "      <th>C</th>\n",
       "    </tr>\n",
       "  </thead>\n",
       "  <tbody>\n",
       "    <tr>\n",
       "      <th>W1</th>\n",
       "      <td>1500.0</td>\n",
       "      <td>0.0</td>\n",
       "      <td>0.0</td>\n",
       "    </tr>\n",
       "    <tr>\n",
       "      <th>W2</th>\n",
       "      <td>0.0</td>\n",
       "      <td>900.0</td>\n",
       "      <td>800.0</td>\n",
       "    </tr>\n",
       "  </tbody>\n",
       "</table>\n",
       "</div>"
      ],
      "text/plain": [
       "         A      B      C\n",
       "W1  1500.0    0.0    0.0\n",
       "W2     0.0  900.0  800.0"
      ]
     },
     "execution_count": 3,
     "metadata": {},
     "output_type": "execute_result"
    }
   ],
   "source": [
    "model = LpProblem('Minimize Transportation Cost', LpMinimize)\n",
    "cust = ['A','B','C']\n",
    "warehouse = ['W1','W2']\n",
    "demand = {'A':1500,'B':900,'C':800}\n",
    "\n",
    "costs = {('W1','A'):232, ('W1','B'):255, ('W1','C'):264,\n",
    "       ('W2','A'):255, ('W2','B'):233, ('W2','C'):250}\n",
    "\n",
    "ship = LpVariable.dicts('s',[(w,c) for w in warehouse for c in cust], lowBound=0, cat='Integer')\n",
    "model += lpSum([costs[(w,c)] * ship[(w,c)] for w in warehouse for c in cust])\n",
    "\n",
    "for c in cust:\n",
    "    model += lpSum([ship[(w,c)] for w in warehouse]) == demand[c]\n",
    "    \n",
    "model.solve()\n",
    "print(LpStatus[model.status])\n",
    "\n",
    "for v in model.variables():\n",
    "    print(v.name,\"=\",v.varValue)\n",
    "    \n",
    "o = [{'A': ship[(w, 'A')].varValue,'B': ship[(w, 'B')].varValue,'C': ship[(w, 'C')].varValue} for w in warehouse]\n",
    "output = pd.DataFrame(data=o, index=warehouse)\n",
    "\n",
    "print(\"Objective = \", value(model.objective))\n",
    "\n",
    "output"
   ]
  }
 ],
 "metadata": {
  "kernelspec": {
   "display_name": "Python 3",
   "language": "python",
   "name": "python3"
  },
  "language_info": {
   "codemirror_mode": {
    "name": "ipython",
    "version": 3
   },
   "file_extension": ".py",
   "mimetype": "text/x-python",
   "name": "python",
   "nbconvert_exporter": "python",
   "pygments_lexer": "ipython3",
   "version": "3.7.0"
  }
 },
 "nbformat": 4,
 "nbformat_minor": 2
}
