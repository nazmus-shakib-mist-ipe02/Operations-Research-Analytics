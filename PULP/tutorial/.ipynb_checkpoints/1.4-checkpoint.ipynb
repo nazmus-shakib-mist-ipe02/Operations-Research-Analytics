{
 "cells": [
  {
   "cell_type": "code",
   "execution_count": 8,
   "metadata": {},
   "outputs": [],
   "source": [
    "from pulp import *\n",
    "\n",
    "# Initialize Model\n",
    "model = LpProblem(\"Minimize Transportation Costs\", LpMinimize)\n",
    "\n",
    "warehouse = [\"New York\", \"Atlanta\"]\n",
    "customers = [\"East\", \"South\", \"Midwest\", \"West\"]\n",
    "regional_demand = [1800, 1200, 1100, 1000]\n",
    "demand = dict(zip(customer, regional_demand))"
   ]
  },
  {
   "cell_type": "code",
   "execution_count": 9,
   "metadata": {},
   "outputs": [
    {
     "name": "stdout",
     "output_type": "stream",
     "text": [
      "{'East': 1800, 'South': 1200, 'Midwest': 1100, 'West': 1000}\n"
     ]
    }
   ],
   "source": [
    "print(demand)"
   ]
  },
  {
   "cell_type": "code",
   "execution_count": 11,
   "metadata": {},
   "outputs": [],
   "source": [
    "atle = LpVariable('cb', lowBound=0, cat='Integer')\n",
    "atlm = LpVariable('mb', lowBound=0, cat='Integer')\n",
    "atls = LpVariable('sb', lowBound=0, cat='Integer')\n",
    "atlw = LpVariable('cp', lowBound=0, cat='Integer')\n",
    "ne = LpVariable('cb', lowBound=0, cat='Integer')\n",
    "nm = LpVariable('mb', lowBound=0, cat='Integer')\n",
    "ns = LpVariable('sb', lowBound=0, cat='Integer')\n",
    "nw = LpVariable('cp', lowBound=0, cat='Integer')"
   ]
  },
  {
   "cell_type": "code",
   "execution_count": 12,
   "metadata": {},
   "outputs": [],
   "source": [
    "costs = {('Atlanta', 'East'): 232,\n",
    " ('Atlanta', 'Midwest'): 230,\n",
    " ('Atlanta', 'South'): 212,\n",
    " ('Atlanta', 'West'): 280,\n",
    " ('New York', 'East'): 211,\n",
    " ('New York', 'Midwest'): 240,\n",
    " ('New York', 'South'): 232,\n",
    " ('New York', 'West'): 300}"
   ]
  },
  {
   "cell_type": "code",
   "execution_count": 13,
   "metadata": {},
   "outputs": [],
   "source": [
    "var_dict = {('Atlanta', 'East'): atle,\n",
    " ('Atlanta', 'Midwest'): atlm,\n",
    " ('Atlanta', 'South'): atls,\n",
    " ('Atlanta', 'West'): atlw,\n",
    " ('New York', 'East'): ne,\n",
    " ('New York', 'Midwest'): nm,\n",
    " ('New York', 'South'): ns,\n",
    " ('New York', 'West'): nw}"
   ]
  },
  {
   "cell_type": "code",
   "execution_count": 16,
   "metadata": {},
   "outputs": [
    {
     "name": "stderr",
     "output_type": "stream",
     "text": [
      "C:\\Users\\shakib\\Anaconda3\\lib\\site-packages\\pulp\\pulp.py:1349: UserWarning: Overwriting previously set objective.\n",
      "  warnings.warn(\"Overwriting previously set objective.\")\n"
     ]
    }
   ],
   "source": [
    "# Define Objective\n",
    "model += lpSum([costs[(w, c)] * var_dict[(w, c)] \n",
    "                for c in customers for w in warehouse])"
   ]
  },
  {
   "cell_type": "code",
   "execution_count": 17,
   "metadata": {},
   "outputs": [],
   "source": [
    "# For each customer, sum warehouse shipments and set equal to customer demand\n",
    "for c in customers:\n",
    "    model += lpSum([var_dict[(w, c)] for w in warehouse]) == demand[c]"
   ]
  },
  {
   "cell_type": "code",
   "execution_count": 18,
   "metadata": {},
   "outputs": [
    {
     "data": {
      "text/plain": [
       "Minimize Transportation Costs:\n",
       "MINIMIZE\n",
       "211*cb + 232*cb + 300*cp + 280*cp + 240*mb + 230*mb + 232*sb + 212*sb + 0\n",
       "SUBJECT TO\n",
       "_C1: cb + cb = 1800\n",
       "\n",
       "_C2: sb + sb = 1200\n",
       "\n",
       "_C3: mb + mb = 1100\n",
       "\n",
       "_C4: cp + cp = 1000\n",
       "\n",
       "_C5: cb + cb = 1800\n",
       "\n",
       "_C6: sb + sb = 1200\n",
       "\n",
       "_C7: mb + mb = 1100\n",
       "\n",
       "_C8: cp + cp = 1000\n",
       "\n",
       "VARIABLES\n",
       "0 <= cb Integer\n",
       "0 <= cb Integer\n",
       "0 <= cp Integer\n",
       "0 <= cp Integer\n",
       "0 <= mb Integer\n",
       "0 <= mb Integer\n",
       "0 <= sb Integer\n",
       "0 <= sb Integer"
      ]
     },
     "execution_count": 18,
     "metadata": {},
     "output_type": "execute_result"
    }
   ],
   "source": [
    "model"
   ]
  }
 ],
 "metadata": {
  "kernelspec": {
   "display_name": "Python 3",
   "language": "python",
   "name": "python3"
  },
  "language_info": {
   "codemirror_mode": {
    "name": "ipython",
    "version": 3
   },
   "file_extension": ".py",
   "mimetype": "text/x-python",
   "name": "python",
   "nbconvert_exporter": "python",
   "pygments_lexer": "ipython3",
   "version": "3.7.0"
  }
 },
 "nbformat": 4,
 "nbformat_minor": 2
}
