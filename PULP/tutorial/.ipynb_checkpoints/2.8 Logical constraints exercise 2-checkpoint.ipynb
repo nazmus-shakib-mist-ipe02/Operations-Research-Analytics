{
 "cells": [
  {
   "cell_type": "markdown",
   "metadata": {},
   "source": [
    "    Logical constraints exercise 2\n",
    "    You work at a trucking distribution center and you need to decide which of 6 customer locations you will send a truck to. Your goal is to minimize the distance a truck travels.\n",
    "\n",
    "    Product\tDistance\n",
    "    A\t86\n",
    "    B\t95\n",
    "    C\t205\n",
    "    D\t229\n",
    "    E\t101\n",
    "    F\t209"
   ]
  },
  {
   "cell_type": "code",
   "execution_count": 1,
   "metadata": {},
   "outputs": [],
   "source": [
    "from pulp import *"
   ]
  },
  {
   "cell_type": "code",
   "execution_count": 2,
   "metadata": {},
   "outputs": [],
   "source": [
    "dist = {'A': 86, 'B': 95, 'C': 205, 'D': 229, 'E': 101, 'F': 209}\n",
    "cust = ['A', 'B', 'C', 'D', 'E', 'F']"
   ]
  },
  {
   "cell_type": "code",
   "execution_count": 3,
   "metadata": {},
   "outputs": [],
   "source": [
    "model = LpProblem(\"Loading Truck Problem\", LpMinimize)\n",
    "\n",
    "x = LpVariable.dicts('ship', cust, cat='Binary')"
   ]
  },
  {
   "cell_type": "code",
   "execution_count": 4,
   "metadata": {},
   "outputs": [
    {
     "name": "stdout",
     "output_type": "stream",
     "text": [
      "{'A': ship_A, 'B': ship_B, 'C': ship_C, 'D': ship_D, 'E': ship_E, 'F': ship_F}\n"
     ]
    }
   ],
   "source": [
    "print(x)"
   ]
  },
  {
   "cell_type": "code",
   "execution_count": 5,
   "metadata": {},
   "outputs": [],
   "source": [
    "model += lpSum([dist[i]*x[i] for i in cust])"
   ]
  },
  {
   "cell_type": "code",
   "execution_count": 6,
   "metadata": {},
   "outputs": [],
   "source": [
    "# Define Constraint\n",
    "model += x['A'] + x['B'] + x['C'] + x['D'] + x['E'] + x['F'] >= 1\n",
    "model += x['A'] - x['D'] <= 0\n",
    "model += x['B'] - x['E'] <= 0"
   ]
  },
  {
   "cell_type": "code",
   "execution_count": 7,
   "metadata": {},
   "outputs": [
    {
     "data": {
      "text/plain": [
       "Loading Truck Problem:\n",
       "MINIMIZE\n",
       "86*ship_A + 95*ship_B + 205*ship_C + 229*ship_D + 101*ship_E + 209*ship_F + 0\n",
       "SUBJECT TO\n",
       "_C1: ship_A + ship_B + ship_C + ship_D + ship_E + ship_F >= 1\n",
       "\n",
       "_C2: ship_A - ship_D <= 0\n",
       "\n",
       "_C3: ship_B - ship_E <= 0\n",
       "\n",
       "VARIABLES\n",
       "0 <= ship_A <= 1 Integer\n",
       "0 <= ship_B <= 1 Integer\n",
       "0 <= ship_C <= 1 Integer\n",
       "0 <= ship_D <= 1 Integer\n",
       "0 <= ship_E <= 1 Integer\n",
       "0 <= ship_F <= 1 Integer"
      ]
     },
     "execution_count": 7,
     "metadata": {},
     "output_type": "execute_result"
    }
   ],
   "source": [
    "model"
   ]
  },
  {
   "cell_type": "code",
   "execution_count": 8,
   "metadata": {},
   "outputs": [
    {
     "name": "stdout",
     "output_type": "stream",
     "text": [
      "ship_A = 0.0\n",
      "ship_B = 0.0\n",
      "ship_C = 0.0\n",
      "ship_D = 0.0\n",
      "ship_E = 1.0\n",
      "ship_F = 0.0\n"
     ]
    }
   ],
   "source": [
    "model.solve()\n",
    "for v in model.variables():\n",
    "    print(v.name, \"=\", v.varValue)\n",
    "\n",
    "# The optimised objective function value is printed to the screen\n",
    "#print(\"The optimised objective function= \", value(model.objective))"
   ]
  }
 ],
 "metadata": {
  "kernelspec": {
   "display_name": "Python 3",
   "language": "python",
   "name": "python3"
  },
  "language_info": {
   "codemirror_mode": {
    "name": "ipython",
    "version": 3
   },
   "file_extension": ".py",
   "mimetype": "text/x-python",
   "name": "python",
   "nbconvert_exporter": "python",
   "pygments_lexer": "ipython3",
   "version": "3.7.0"
  }
 },
 "nbformat": 4,
 "nbformat_minor": 2
}
