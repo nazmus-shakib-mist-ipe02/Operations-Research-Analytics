{
 "cells": [
  {
   "cell_type": "markdown",
   "metadata": {},
   "source": [
    "Adding logical constraint in case study exercise\n",
    "Continue the case study of the Capacitated Plant Location model of a car manufacture. You are given four Pandas data frames demand, var_cost, fix_cost, and cap containing the regional demand (thous. of cars), variable production costs (thous. $US), fixed production costs (thous. $US), and production capacity (thous. of cars). Two python lists loc, and size have also been created, containing the different locations, and the two types of plant capacities. All these variables have been printed to the console for your viewing. The code to initialize, defined the decision variables, create the objective function, and constraints has been completed for you.\n",
    "\n",
    "\n",
    "Add a logical constraint so that if the high capacity plant in USA is open, then a low capacity plant in Germany is also opened."
   ]
  },
  {
   "cell_type": "code",
   "execution_count": 1,
   "metadata": {},
   "outputs": [],
   "source": [
    "import pandas as pd\n",
    "from pulp import *"
   ]
  },
  {
   "cell_type": "code",
   "execution_count": 2,
   "metadata": {},
   "outputs": [],
   "source": [
    "d = {'Supply_Region':['USA', 'Germany', 'Japan', 'Brazil', 'India'], 'Dmd':[2719.6,84.1,1676.8,145.4,156.4]}\n",
    "v = {'Supply_Region':['USA', 'Germany', 'Japan', 'Brazil', 'India'],\n",
    "    'USA':[6,13,20,12,22],'Germany':[13,6,14,14,13],'Japan':[20,14,3,21,10], \n",
    "    'Brazil':[12,14,21,8,23], 'India':[17,13,9,21,8]}\n",
    "f = {'Supply_Region':['USA', 'Germany', 'Japan', 'Brazil', 'India'],\n",
    "    'Low_Cap':[6500,4980,6230,3230,2110], 'High_Cap':[9500,7270,9100,4730,3080]}\n",
    "p = {'Supply_Region':['USA', 'Germany', 'Japan', 'Brazil', 'India'],\n",
    "    'Low_Cap':[500,500,500,500,500], 'High_Cap':[1500,1500,1500,1500,1500]}\n",
    "\n",
    "demand = pd.DataFrame(data = d)\n",
    "demand = demand.set_index('Supply_Region')\n",
    "\n",
    "var_cost = pd.DataFrame(data = v)\n",
    "var_cost = var_cost.set_index('Supply_Region')\n",
    "\n",
    "fix_cost = pd.DataFrame(data = f)\n",
    "fix_cost = fix_cost.set_index('Supply_Region')\n",
    "\n",
    "cap = pd.DataFrame(data = p)\n",
    "cap = cap.set_index('Supply_Region')\n"
   ]
  },
  {
   "cell_type": "code",
   "execution_count": 3,
   "metadata": {},
   "outputs": [
    {
     "name": "stdout",
     "output_type": "stream",
     "text": [
      "                  Dmd\n",
      "Supply_Region        \n",
      "USA            2719.6\n",
      "Germany          84.1\n",
      "Japan          1676.8\n",
      "Brazil          145.4\n",
      "India           156.4\n",
      "               USA  Germany  Japan  Brazil  India\n",
      "Supply_Region                                    \n",
      "USA              6       13     20      12     17\n",
      "Germany         13        6     14      14     13\n",
      "Japan           20       14      3      21      9\n",
      "Brazil          12       14     21       8     21\n",
      "India           22       13     10      23      8\n",
      "               Low_Cap  High_Cap\n",
      "Supply_Region                   \n",
      "USA               6500      9500\n",
      "Germany           4980      7270\n",
      "Japan             6230      9100\n",
      "Brazil            3230      4730\n",
      "India             2110      3080\n",
      "               Low_Cap  High_Cap\n",
      "Supply_Region                   \n",
      "USA                500      1500\n",
      "Germany            500      1500\n",
      "Japan              500      1500\n",
      "Brazil             500      1500\n",
      "India              500      1500\n"
     ]
    }
   ],
   "source": [
    "print(demand)\n",
    "print(var_cost)\n",
    "print(fix_cost)\n",
    "print(cap)"
   ]
  },
  {
   "cell_type": "code",
   "execution_count": 4,
   "metadata": {},
   "outputs": [],
   "source": [
    "# Initialize, Define Decision Vars., Object. Fun., and Constraints\n",
    "model = LpProblem(\"Capacitated Plant Location Model\", LpMinimize)\n",
    "loc = ['USA', 'Germany', 'Japan', 'Brazil', 'India']\n",
    "size = ['Low_Cap','High_Cap']\n",
    "x = LpVariable.dicts(\"production\", [(i,j) for i in loc for j in loc],\n",
    "                     lowBound=0, upBound=None, cat='Integer')\n",
    "y = LpVariable.dicts(\"plant\", \n",
    "                     [(i,s) for s in size for i in loc], cat='Binary')"
   ]
  },
  {
   "cell_type": "code",
   "execution_count": 5,
   "metadata": {},
   "outputs": [
    {
     "name": "stdout",
     "output_type": "stream",
     "text": [
      "{('USA', 'USA'): production_('USA',_'USA'), ('USA', 'Germany'): production_('USA',_'Germany'), ('USA', 'Japan'): production_('USA',_'Japan'), ('USA', 'Brazil'): production_('USA',_'Brazil'), ('USA', 'India'): production_('USA',_'India'), ('Germany', 'USA'): production_('Germany',_'USA'), ('Germany', 'Germany'): production_('Germany',_'Germany'), ('Germany', 'Japan'): production_('Germany',_'Japan'), ('Germany', 'Brazil'): production_('Germany',_'Brazil'), ('Germany', 'India'): production_('Germany',_'India'), ('Japan', 'USA'): production_('Japan',_'USA'), ('Japan', 'Germany'): production_('Japan',_'Germany'), ('Japan', 'Japan'): production_('Japan',_'Japan'), ('Japan', 'Brazil'): production_('Japan',_'Brazil'), ('Japan', 'India'): production_('Japan',_'India'), ('Brazil', 'USA'): production_('Brazil',_'USA'), ('Brazil', 'Germany'): production_('Brazil',_'Germany'), ('Brazil', 'Japan'): production_('Brazil',_'Japan'), ('Brazil', 'Brazil'): production_('Brazil',_'Brazil'), ('Brazil', 'India'): production_('Brazil',_'India'), ('India', 'USA'): production_('India',_'USA'), ('India', 'Germany'): production_('India',_'Germany'), ('India', 'Japan'): production_('India',_'Japan'), ('India', 'Brazil'): production_('India',_'Brazil'), ('India', 'India'): production_('India',_'India')}\n",
      "{('USA', 'Low_Cap'): plant_('USA',_'Low_Cap'), ('Germany', 'Low_Cap'): plant_('Germany',_'Low_Cap'), ('Japan', 'Low_Cap'): plant_('Japan',_'Low_Cap'), ('Brazil', 'Low_Cap'): plant_('Brazil',_'Low_Cap'), ('India', 'Low_Cap'): plant_('India',_'Low_Cap'), ('USA', 'High_Cap'): plant_('USA',_'High_Cap'), ('Germany', 'High_Cap'): plant_('Germany',_'High_Cap'), ('Japan', 'High_Cap'): plant_('Japan',_'High_Cap'), ('Brazil', 'High_Cap'): plant_('Brazil',_'High_Cap'), ('India', 'High_Cap'): plant_('India',_'High_Cap')}\n"
     ]
    }
   ],
   "source": [
    "print(x)\n",
    "print(y)"
   ]
  },
  {
   "cell_type": "code",
   "execution_count": 6,
   "metadata": {},
   "outputs": [],
   "source": [
    "model += (lpSum([fix_cost.loc[i,s] * y[(i,s)] for s in size for i in loc])\n",
    "          + lpSum([var_cost.loc[i,j] * x[(i,j)] for i in loc for j in loc]))\n",
    "for j in loc:\n",
    "    model += lpSum([x[(i, j)] for i in loc]) == demand.loc[j,'Dmd']\n",
    "for i in loc:\n",
    "    model += lpSum([x[(i, j)] for j in loc]) <= lpSum([cap.loc[i,s]*y[(i,s)] \n",
    "                                                       for s in size])\n",
    "# Define logical constraint\n",
    "model += y[('USA','High_Cap')] - y[('Germany','Low_Cap')] <= 0\n"
   ]
  },
  {
   "cell_type": "code",
   "execution_count": 7,
   "metadata": {},
   "outputs": [
    {
     "name": "stdout",
     "output_type": "stream",
     "text": [
      "plant_('Brazil',_'High_Cap') = 0.63273333\n",
      "plant_('Brazil',_'Low_Cap') = 0.0\n",
      "plant_('Germany',_'High_Cap') = 0.0\n",
      "plant_('Germany',_'Low_Cap') = 1.0\n",
      "plant_('India',_'High_Cap') = 0.22213333\n",
      "plant_('India',_'Low_Cap') = 0.0\n",
      "plant_('Japan',_'High_Cap') = 1.0\n",
      "plant_('Japan',_'Low_Cap') = 0.0\n",
      "plant_('USA',_'High_Cap') = 1.0\n",
      "plant_('USA',_'Low_Cap') = 0.0\n",
      "production_('Brazil',_'Brazil') = 145.4\n",
      "production_('Brazil',_'Germany') = 0.0\n",
      "production_('Brazil',_'India') = 0.0\n",
      "production_('Brazil',_'Japan') = 0.0\n",
      "production_('Brazil',_'USA') = 803.7\n",
      "production_('Germany',_'Brazil') = 0.0\n",
      "production_('Germany',_'Germany') = 84.1\n",
      "production_('Germany',_'India') = 0.0\n",
      "production_('Germany',_'Japan') = 0.0\n",
      "production_('Germany',_'USA') = 415.9\n",
      "production_('India',_'Brazil') = 0.0\n",
      "production_('India',_'Germany') = 0.0\n",
      "production_('India',_'India') = 156.4\n",
      "production_('India',_'Japan') = 176.8\n",
      "production_('India',_'USA') = 0.0\n",
      "production_('Japan',_'Brazil') = 0.0\n",
      "production_('Japan',_'Germany') = 0.0\n",
      "production_('Japan',_'India') = 0.0\n",
      "production_('Japan',_'Japan') = 1500.0\n",
      "production_('Japan',_'USA') = 0.0\n",
      "production_('USA',_'Brazil') = 0.0\n",
      "production_('USA',_'Germany') = 0.0\n",
      "production_('USA',_'India') = 0.0\n",
      "production_('USA',_'Japan') = 0.0\n",
      "production_('USA',_'USA') = 1500.0\n"
     ]
    },
    {
     "data": {
      "text/plain": [
       "Capacitated Plant Location Model:\n",
       "MINIMIZE\n",
       "4730*plant_('Brazil',_'High_Cap') + 3230*plant_('Brazil',_'Low_Cap') + 7270*plant_('Germany',_'High_Cap') + 4980*plant_('Germany',_'Low_Cap') + 3080*plant_('India',_'High_Cap') + 2110*plant_('India',_'Low_Cap') + 9100*plant_('Japan',_'High_Cap') + 6230*plant_('Japan',_'Low_Cap') + 9500*plant_('USA',_'High_Cap') + 6500*plant_('USA',_'Low_Cap') + 8*production_('Brazil',_'Brazil') + 14*production_('Brazil',_'Germany') + 21*production_('Brazil',_'India') + 21*production_('Brazil',_'Japan') + 12*production_('Brazil',_'USA') + 14*production_('Germany',_'Brazil') + 6*production_('Germany',_'Germany') + 13*production_('Germany',_'India') + 14*production_('Germany',_'Japan') + 13*production_('Germany',_'USA') + 23*production_('India',_'Brazil') + 13*production_('India',_'Germany') + 8*production_('India',_'India') + 10*production_('India',_'Japan') + 22*production_('India',_'USA') + 21*production_('Japan',_'Brazil') + 14*production_('Japan',_'Germany') + 9*production_('Japan',_'India') + 3*production_('Japan',_'Japan') + 20*production_('Japan',_'USA') + 12*production_('USA',_'Brazil') + 13*production_('USA',_'Germany') + 17*production_('USA',_'India') + 20*production_('USA',_'Japan') + 6*production_('USA',_'USA') + 0\n",
       "SUBJECT TO\n",
       "_C1: production_('Brazil',_'USA') + production_('Germany',_'USA')\n",
       " + production_('India',_'USA') + production_('Japan',_'USA')\n",
       " + production_('USA',_'USA') = 2719.6\n",
       "\n",
       "_C2: production_('Brazil',_'Germany') + production_('Germany',_'Germany')\n",
       " + production_('India',_'Germany') + production_('Japan',_'Germany')\n",
       " + production_('USA',_'Germany') = 84.1\n",
       "\n",
       "_C3: production_('Brazil',_'Japan') + production_('Germany',_'Japan')\n",
       " + production_('India',_'Japan') + production_('Japan',_'Japan')\n",
       " + production_('USA',_'Japan') = 1676.8\n",
       "\n",
       "_C4: production_('Brazil',_'Brazil') + production_('Germany',_'Brazil')\n",
       " + production_('India',_'Brazil') + production_('Japan',_'Brazil')\n",
       " + production_('USA',_'Brazil') = 145.4\n",
       "\n",
       "_C5: production_('Brazil',_'India') + production_('Germany',_'India')\n",
       " + production_('India',_'India') + production_('Japan',_'India')\n",
       " + production_('USA',_'India') = 156.4\n",
       "\n",
       "_C6: - 1500 plant_('USA',_'High_Cap') - 500 plant_('USA',_'Low_Cap')\n",
       " + production_('USA',_'Brazil') + production_('USA',_'Germany')\n",
       " + production_('USA',_'India') + production_('USA',_'Japan')\n",
       " + production_('USA',_'USA') <= 0\n",
       "\n",
       "_C7: - 1500 plant_('Germany',_'High_Cap') - 500 plant_('Germany',_'Low_Cap')\n",
       " + production_('Germany',_'Brazil') + production_('Germany',_'Germany')\n",
       " + production_('Germany',_'India') + production_('Germany',_'Japan')\n",
       " + production_('Germany',_'USA') <= 0\n",
       "\n",
       "_C8: - 1500 plant_('Japan',_'High_Cap') - 500 plant_('Japan',_'Low_Cap')\n",
       " + production_('Japan',_'Brazil') + production_('Japan',_'Germany')\n",
       " + production_('Japan',_'India') + production_('Japan',_'Japan')\n",
       " + production_('Japan',_'USA') <= 0\n",
       "\n",
       "_C9: - 1500 plant_('Brazil',_'High_Cap') - 500 plant_('Brazil',_'Low_Cap')\n",
       " + production_('Brazil',_'Brazil') + production_('Brazil',_'Germany')\n",
       " + production_('Brazil',_'India') + production_('Brazil',_'Japan')\n",
       " + production_('Brazil',_'USA') <= 0\n",
       "\n",
       "_C10: - 1500 plant_('India',_'High_Cap') - 500 plant_('India',_'Low_Cap')\n",
       " + production_('India',_'Brazil') + production_('India',_'Germany')\n",
       " + production_('India',_'India') + production_('India',_'Japan')\n",
       " + production_('India',_'USA') <= 0\n",
       "\n",
       "_C11: - plant_('Germany',_'Low_Cap') + plant_('USA',_'High_Cap') <= 0\n",
       "\n",
       "VARIABLES\n",
       "0 <= plant_('Brazil',_'High_Cap') <= 1 Integer\n",
       "0 <= plant_('Brazil',_'Low_Cap') <= 1 Integer\n",
       "0 <= plant_('Germany',_'High_Cap') <= 1 Integer\n",
       "0 <= plant_('Germany',_'Low_Cap') <= 1 Integer\n",
       "0 <= plant_('India',_'High_Cap') <= 1 Integer\n",
       "0 <= plant_('India',_'Low_Cap') <= 1 Integer\n",
       "0 <= plant_('Japan',_'High_Cap') <= 1 Integer\n",
       "0 <= plant_('Japan',_'Low_Cap') <= 1 Integer\n",
       "0 <= plant_('USA',_'High_Cap') <= 1 Integer\n",
       "0 <= plant_('USA',_'Low_Cap') <= 1 Integer\n",
       "0 <= production_('Brazil',_'Brazil') Integer\n",
       "0 <= production_('Brazil',_'Germany') Integer\n",
       "0 <= production_('Brazil',_'India') Integer\n",
       "0 <= production_('Brazil',_'Japan') Integer\n",
       "0 <= production_('Brazil',_'USA') Integer\n",
       "0 <= production_('Germany',_'Brazil') Integer\n",
       "0 <= production_('Germany',_'Germany') Integer\n",
       "0 <= production_('Germany',_'India') Integer\n",
       "0 <= production_('Germany',_'Japan') Integer\n",
       "0 <= production_('Germany',_'USA') Integer\n",
       "0 <= production_('India',_'Brazil') Integer\n",
       "0 <= production_('India',_'Germany') Integer\n",
       "0 <= production_('India',_'India') Integer\n",
       "0 <= production_('India',_'Japan') Integer\n",
       "0 <= production_('India',_'USA') Integer\n",
       "0 <= production_('Japan',_'Brazil') Integer\n",
       "0 <= production_('Japan',_'Germany') Integer\n",
       "0 <= production_('Japan',_'India') Integer\n",
       "0 <= production_('Japan',_'Japan') Integer\n",
       "0 <= production_('Japan',_'USA') Integer\n",
       "0 <= production_('USA',_'Brazil') Integer\n",
       "0 <= production_('USA',_'Germany') Integer\n",
       "0 <= production_('USA',_'India') Integer\n",
       "0 <= production_('USA',_'Japan') Integer\n",
       "0 <= production_('USA',_'USA') Integer"
      ]
     },
     "execution_count": 7,
     "metadata": {},
     "output_type": "execute_result"
    }
   ],
   "source": [
    "model.solve()\n",
    "LpStatus[model.status]\n",
    "for v in model.variables():\n",
    "    print(v.name,\"=\",v.varValue)\n",
    "model"
   ]
  }
 ],
 "metadata": {
  "kernelspec": {
   "display_name": "Python 3",
   "language": "python",
   "name": "python3"
  },
  "language_info": {
   "codemirror_mode": {
    "name": "ipython",
    "version": 3
   },
   "file_extension": ".py",
   "mimetype": "text/x-python",
   "name": "python",
   "nbconvert_exporter": "python",
   "pygments_lexer": "ipython3",
   "version": "3.7.0"
  }
 },
 "nbformat": 4,
 "nbformat_minor": 2
}
