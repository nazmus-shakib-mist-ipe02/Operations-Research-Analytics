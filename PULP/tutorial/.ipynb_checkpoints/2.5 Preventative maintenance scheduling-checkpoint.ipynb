{
 "cells": [
  {
   "cell_type": "markdown",
   "metadata": {},
   "source": [
    "Preventative maintenance scheduling\n",
    "At a quarry they use diamond saws to cut slabs of marble. For preventative maintenance the saws are only allowed to run for 4 consecutive hours, afterwards a 1 hour inspection is completed before they are allowed to go back into service. The quarry operates 10-hour shifts. At the end of the shift if the saw blades have not been used for 4 consecutive hours the remaining time will be used at the start of the next shift. The expected number of saw blades needed for each hour is listed below. Our goal is to determine the minimum number of saw blades are needed for the shift.\n",
    "\n",
    "Expected Workload - (Note that the chart at hour 0)\n",
    "\n",
    "    Hour\tSaws Needed\n",
    "    0\t7\n",
    "    1\t7\n",
    "    2\t7\n",
    "    3\t6\n",
    "    4\t5\n",
    "    5\t6\n",
    "    6\t6\n",
    "    7\t7"
   ]
  },
  {
   "cell_type": "code",
   "execution_count": 2,
   "metadata": {},
   "outputs": [],
   "source": [
    "from pulp import *\n",
    "import pandas as pd"
   ]
  },
  {
   "cell_type": "code",
   "execution_count": 3,
   "metadata": {},
   "outputs": [],
   "source": [
    "# The class has been initialize, and x, hours and objective fuction defined\n",
    "model = LpProblem(\"Minimize Staffing\", LpMinimize)\n",
    "hours = list(range(10))\n",
    "\n",
    "x = LpVariable.dicts('saws', hours, lowBound=0, cat='Integer')\n",
    "model += lpSum([x[i] for i in hours])\n",
    "\n",
    "# Define Constraints\n",
    "model += x[0] + x[2] + x[3] + x[4] + x[5] + x[7] + x[8] + x[9] >= 7\n",
    "model += x[0] + x[1] + x[3] + x[4] + x[5] + x[6] + x[8] + x[9] >= 7\n",
    "model += x[0] + x[1] + x[2] + x[4] + x[5] + x[6] + x[7] + x[9] >= 7\n",
    "model += x[0] + x[1] + x[2] + x[3] + x[5] + x[6] + x[7] + x[8] >= 6\n",
    "model += x[1] + x[2] + x[3] + x[4] + x[6] + x[7] + x[8] + x[9] >= 5\n",
    "model += x[2] + x[3] + x[4] + x[5] + x[7] + x[8] + x[9] + x[0] >= 6\n",
    "model += x[3] + x[4] + x[5] + x[6] + x[8] + x[9] + x[0] + x[1] >= 6\n",
    "model += x[4] + x[5] + x[6] + x[7] + x[9] + x[0] + x[1] + x[2] >= 7\n",
    "model += x[5] + x[6] + x[7] + x[8] + x[0] + x[1] + x[2] + x[3] >= 7\n",
    "model += x[6] + x[7] + x[8] + x[9] + x[1] + x[2] + x[3] + x[4] >= 6"
   ]
  },
  {
   "cell_type": "code",
   "execution_count": 4,
   "metadata": {},
   "outputs": [
    {
     "name": "stdout",
     "output_type": "stream",
     "text": [
      "Model Status: Optimal\n",
      "saws_0 = 3.0\n",
      "saws_1 = 0.0\n",
      "saws_2 = 2.0\n",
      "saws_3 = 2.0\n",
      "saws_4 = 2.0\n",
      "saws_5 = 0.0\n",
      "saws_6 = 0.0\n",
      "saws_7 = 0.0\n",
      "saws_8 = 0.0\n",
      "saws_9 = 0.0\n",
      "Objective (number of saw needed) =  9.0\n",
      "   name  shadow price  slack\n",
      "0   _C1           0.0   -2.0\n",
      "1   _C2           0.0   -0.0\n",
      "2   _C3           0.0   -0.0\n",
      "3   _C4           0.0   -1.0\n",
      "4   _C5           0.0   -1.0\n",
      "5   _C6           0.0   -3.0\n",
      "6   _C7           0.0   -1.0\n",
      "7   _C8           0.0   -0.0\n",
      "8   _C9           0.0   -0.0\n",
      "9  _C10           0.0   -0.0\n"
     ]
    }
   ],
   "source": [
    "model.solve()\n",
    "\n",
    "print(\"Model Status: {}\".format(pulp.LpStatus[model.status]))\n",
    "for v in model.variables():\n",
    "    print(v.name, \"=\", v.varValue)\n",
    "print(\"Objective (number of saw needed) = \", value(model.objective))\n",
    "o = [{'name':name, 'shadow price':c.pi, 'slack': c.slack} \n",
    "     for name, c in model.constraints.items()]\n",
    "print(pd.DataFrame(o))"
   ]
  }
 ],
 "metadata": {
  "kernelspec": {
   "display_name": "Python 3",
   "language": "python",
   "name": "python3"
  },
  "language_info": {
   "codemirror_mode": {
    "name": "ipython",
    "version": 3
   },
   "file_extension": ".py",
   "mimetype": "text/x-python",
   "name": "python",
   "nbconvert_exporter": "python",
   "pygments_lexer": "ipython3",
   "version": "3.7.0"
  }
 },
 "nbformat": 4,
 "nbformat_minor": 2
}
