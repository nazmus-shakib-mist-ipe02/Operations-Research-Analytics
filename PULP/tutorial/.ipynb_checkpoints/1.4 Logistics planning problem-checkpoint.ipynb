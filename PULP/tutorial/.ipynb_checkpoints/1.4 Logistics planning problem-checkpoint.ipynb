{
 "cells": [
  {
   "cell_type": "markdown",
   "metadata": {},
   "source": [
    "    You are consulting for kitchen oven manufacturer helping to plan their logistics for next month. There are two warehouse locations (New York, and Atlanta), and four regional customer locations (East, South, Midwest, West). The expected demand next month for East it is 1,800, for South it is 1,200, for the Midwest it is 1,100, and for West it is 1000. The cost for shipping each of the warehouse locations to the regional customer's is listed in the table below. Your goal is to fulfill the regional demand at the lowest price.\n",
    "\n",
    "    Customer\tNew York\tAtlanta\n",
    "        East\t$211\t$232\n",
    "        South\t$232\t$212\n",
    "        Midwest\t$240\t$230\n",
    "        West\t$300\t$280\n",
    "       \n",
    "       Two Python dictionaries costs and var_dict have been created for you containing the costs and decision variables of the model. You can explore them in the console."
   ]
  },
  {
   "cell_type": "code",
   "execution_count": 1,
   "metadata": {},
   "outputs": [],
   "source": [
    "from pulp import *\n",
    "\n",
    "# Initialize Model\n",
    "model = LpProblem(\"Minimize Transportation Costs\", LpMinimize)\n",
    "\n",
    "warehouse = [\"New York\", \"Atlanta\"]\n",
    "customers = [\"East\", \"South\", \"Midwest\", \"West\"]\n",
    "regional_demand = [1800, 1200, 1100, 1000]\n",
    "demand = dict(zip(customers, regional_demand))"
   ]
  },
  {
   "cell_type": "code",
   "execution_count": 2,
   "metadata": {},
   "outputs": [
    {
     "name": "stdout",
     "output_type": "stream",
     "text": [
      "{'East': 1800, 'South': 1200, 'Midwest': 1100, 'West': 1000}\n"
     ]
    }
   ],
   "source": [
    "print(demand)"
   ]
  },
  {
   "cell_type": "code",
   "execution_count": 3,
   "metadata": {},
   "outputs": [],
   "source": [
    "atle = LpVariable('A', lowBound=0, cat='Integer')\n",
    "atlm = LpVariable('B', lowBound=0, cat='Integer')\n",
    "atls = LpVariable('C', lowBound=0, cat='Integer')\n",
    "atlw = LpVariable('D', lowBound=0, cat='Integer')\n",
    "ne = LpVariable('E', lowBound=0, cat='Integer')\n",
    "nm = LpVariable('F', lowBound=0, cat='Integer')\n",
    "ns = LpVariable('G', lowBound=0, cat='Integer')\n",
    "nw = LpVariable('H', lowBound=0, cat='Integer')"
   ]
  },
  {
   "cell_type": "code",
   "execution_count": 4,
   "metadata": {},
   "outputs": [],
   "source": [
    "costs = {('Atlanta', 'East'): 232,\n",
    " ('Atlanta', 'Midwest'): 230,\n",
    " ('Atlanta', 'South'): 212,\n",
    " ('Atlanta', 'West'): 280,\n",
    " ('New York', 'East'): 211,\n",
    " ('New York', 'Midwest'): 240,\n",
    " ('New York', 'South'): 232,\n",
    " ('New York', 'West'): 300}"
   ]
  },
  {
   "cell_type": "code",
   "execution_count": 5,
   "metadata": {},
   "outputs": [],
   "source": [
    "var_dict = {('Atlanta', 'East'): atle,\n",
    " ('Atlanta', 'Midwest'): atlm,\n",
    " ('Atlanta', 'South'): atls,\n",
    " ('Atlanta', 'West'): atlw,\n",
    " ('New York', 'East'): ne,\n",
    " ('New York', 'Midwest'): nm,\n",
    " ('New York', 'South'): ns,\n",
    " ('New York', 'West'): nw}"
   ]
  },
  {
   "cell_type": "code",
   "execution_count": 6,
   "metadata": {},
   "outputs": [],
   "source": [
    "# Define Objective\n",
    "model += lpSum([costs[(w, c)] * var_dict[(w, c)] \n",
    "                for c in customers for w in warehouse])"
   ]
  },
  {
   "cell_type": "code",
   "execution_count": 7,
   "metadata": {},
   "outputs": [
    {
     "name": "stdout",
     "output_type": "stream",
     "text": [
      "211*E\n",
      "E\n",
      "232*A\n",
      "A\n",
      "232*G\n",
      "G\n",
      "212*C\n",
      "C\n",
      "240*F\n",
      "F\n",
      "230*B\n",
      "B\n",
      "300*H\n",
      "H\n",
      "280*D\n",
      "D\n"
     ]
    }
   ],
   "source": [
    "for c in customers:\n",
    "    for w in warehouse: \n",
    "        print(costs[(w, c)]  *  var_dict[(w, c)])\n",
    "        print(var_dict[(w, c)]) \n"
   ]
  },
  {
   "cell_type": "code",
   "execution_count": 10,
   "metadata": {},
   "outputs": [
    {
     "data": {
      "text/plain": [
       "{'East': 1800, 'South': 1200, 'Midwest': 1100, 'West': 1000}"
      ]
     },
     "execution_count": 10,
     "metadata": {},
     "output_type": "execute_result"
    }
   ],
   "source": [
    "demand"
   ]
  },
  {
   "cell_type": "code",
   "execution_count": 8,
   "metadata": {},
   "outputs": [],
   "source": [
    "# For each customer, sum warehouse shipments and set equal to customer demand\n",
    "for c in customers:\n",
    "    model += lpSum([var_dict[(w, c)] for w in warehouse]) == demand[c]"
   ]
  },
  {
   "cell_type": "code",
   "execution_count": 9,
   "metadata": {},
   "outputs": [
    {
     "data": {
      "text/plain": [
       "Minimize Transportation Costs:\n",
       "MINIMIZE\n",
       "232*A + 230*B + 212*C + 280*D + 211*E + 240*F + 232*G + 300*H + 0\n",
       "SUBJECT TO\n",
       "_C1: A + E = 1800\n",
       "\n",
       "_C2: C + G = 1200\n",
       "\n",
       "_C3: B + F = 1100\n",
       "\n",
       "_C4: D + H = 1000\n",
       "\n",
       "VARIABLES\n",
       "0 <= A Integer\n",
       "0 <= B Integer\n",
       "0 <= C Integer\n",
       "0 <= D Integer\n",
       "0 <= E Integer\n",
       "0 <= F Integer\n",
       "0 <= G Integer\n",
       "0 <= H Integer"
      ]
     },
     "execution_count": 9,
     "metadata": {},
     "output_type": "execute_result"
    }
   ],
   "source": [
    "model"
   ]
  }
 ],
 "metadata": {
  "kernelspec": {
   "display_name": "Python 3",
   "language": "python",
   "name": "python3"
  },
  "language_info": {
   "codemirror_mode": {
    "name": "ipython",
    "version": 3
   },
   "file_extension": ".py",
   "mimetype": "text/x-python",
   "name": "python",
   "nbconvert_exporter": "python",
   "pygments_lexer": "ipython3",
   "version": "3.7.0"
  }
 },
 "nbformat": 4,
 "nbformat_minor": 2
}
