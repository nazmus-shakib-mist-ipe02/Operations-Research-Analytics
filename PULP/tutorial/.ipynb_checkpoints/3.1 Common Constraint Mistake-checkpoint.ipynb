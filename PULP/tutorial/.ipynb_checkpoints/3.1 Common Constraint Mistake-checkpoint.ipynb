{
 "cells": [
  {
   "cell_type": "code",
   "execution_count": 1,
   "metadata": {},
   "outputs": [],
   "source": [
    "from pulp import *"
   ]
  },
  {
   "cell_type": "code",
   "execution_count": 2,
   "metadata": {},
   "outputs": [],
   "source": [
    "demand = {'A':[0,0,0],'B':[8,7,6]}\n",
    "costs = {'A':[20,17,18],'B':[15,16,15]}\n",
    "\n",
    "time = [0,1,2]\n",
    "prod = ['A','B']"
   ]
  },
  {
   "cell_type": "code",
   "execution_count": 3,
   "metadata": {},
   "outputs": [],
   "source": [
    "model = LpProblem('Aggregate Production Planning', LpMinimize)"
   ]
  },
  {
   "cell_type": "code",
   "execution_count": 4,
   "metadata": {},
   "outputs": [],
   "source": [
    "X = LpVariable.dicts('prod',[(p,t) for p in prod for t in time], lowBound=0, cat='Integer')"
   ]
  },
  {
   "cell_type": "code",
   "execution_count": 5,
   "metadata": {},
   "outputs": [],
   "source": [
    "model += lpSum([costs[p][t] * X[(p, t)] for p in prod for t in time])"
   ]
  },
  {
   "cell_type": "code",
   "execution_count": 6,
   "metadata": {},
   "outputs": [],
   "source": [
    "for p in prod:\n",
    "    for t in time:\n",
    "        model += X[(p,t)] >= demand[p][t]"
   ]
  },
  {
   "cell_type": "code",
   "execution_count": 7,
   "metadata": {
    "scrolled": true
   },
   "outputs": [
    {
     "data": {
      "text/plain": [
       "Aggregate Production Planning:\n",
       "MINIMIZE\n",
       "20*prod_('A',_0) + 17*prod_('A',_1) + 18*prod_('A',_2) + 15*prod_('B',_0) + 16*prod_('B',_1) + 15*prod_('B',_2) + 0\n",
       "SUBJECT TO\n",
       "_C1: prod_('A',_0) >= 0\n",
       "\n",
       "_C2: prod_('A',_1) >= 0\n",
       "\n",
       "_C3: prod_('A',_2) >= 0\n",
       "\n",
       "_C4: prod_('B',_0) >= 8\n",
       "\n",
       "_C5: prod_('B',_1) >= 7\n",
       "\n",
       "_C6: prod_('B',_2) >= 6\n",
       "\n",
       "_C7: - prod_('A',_0) + 3 prod_('B',_0) <= 0\n",
       "\n",
       "_C8: - prod_('A',_1) + 3 prod_('B',_1) <= 0\n",
       "\n",
       "_C9: - prod_('A',_2) + 3 prod_('B',_2) <= 0\n",
       "\n",
       "VARIABLES\n",
       "0 <= prod_('A',_0) Integer\n",
       "0 <= prod_('A',_1) Integer\n",
       "0 <= prod_('A',_2) Integer\n",
       "0 <= prod_('B',_0) Integer\n",
       "0 <= prod_('B',_1) Integer\n",
       "0 <= prod_('B',_2) Integer"
      ]
     },
     "execution_count": 7,
     "metadata": {},
     "output_type": "execute_result"
    }
   ],
   "source": [
    "for t in time:\n",
    "    model += 3* X[('B', t)] <= X[('A', t)]\n",
    "model"
   ]
  },
  {
   "cell_type": "code",
   "execution_count": 8,
   "metadata": {},
   "outputs": [
    {
     "name": "stdout",
     "output_type": "stream",
     "text": [
      "prod_('A',_0) = 24.0\n",
      "prod_('A',_1) = 21.0\n",
      "prod_('A',_2) = 18.0\n",
      "prod_('B',_0) = 8.0\n",
      "prod_('B',_1) = 7.0\n",
      "prod_('B',_2) = 6.0\n",
      "The optimised objective function=  1483.0\n"
     ]
    }
   ],
   "source": [
    "model.solve()\n",
    "for v in model.variables():\n",
    "    print(v.name, \"=\", v.varValue)\n",
    "\n",
    "# The optimised objective function value is printed to the screen\n",
    "print(\"The optimised objective function= \", value(model.objective))"
   ]
  }
 ],
 "metadata": {
  "kernelspec": {
   "display_name": "Python 3",
   "language": "python",
   "name": "python3"
  },
  "language_info": {
   "codemirror_mode": {
    "name": "ipython",
    "version": 3
   },
   "file_extension": ".py",
   "mimetype": "text/x-python",
   "name": "python",
   "nbconvert_exporter": "python",
   "pygments_lexer": "ipython3",
   "version": "3.7.0"
  }
 },
 "nbformat": 4,
 "nbformat_minor": 2
}
