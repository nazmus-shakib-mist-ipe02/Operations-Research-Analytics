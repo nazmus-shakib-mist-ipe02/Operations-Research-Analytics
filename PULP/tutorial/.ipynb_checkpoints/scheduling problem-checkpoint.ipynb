{
 "cells": [
  {
   "cell_type": "markdown",
   "metadata": {},
   "source": [
    "Supply Chain Analytics in Python\n",
    "A scheduling problem\n",
    "The situation: The expected demand of drivers: {Days_of_week, Numbers_of_drivers_needed = Monday : 20, Tuesday : 14, Wednesday : 11, Thursday : 15, Friday : 22, Saturday : 12, Sunday : 25}\n",
    "\n",
    "Objective Function: How many drivers we require to hire\n",
    "\n",
    "Constraints: Each driver works for 5 consecutive days, followed by 2 days off, repeated weekly"
   ]
  },
  {
   "cell_type": "code",
   "execution_count": 1,
   "metadata": {},
   "outputs": [
    {
     "name": "stdout",
     "output_type": "stream",
     "text": [
      "PuLP for Optimization Problem - start\n"
     ]
    },
    {
     "data": {
      "text/plain": [
       "1"
      ]
     },
     "execution_count": 1,
     "metadata": {},
     "output_type": "execute_result"
    }
   ],
   "source": [
    "print('PuLP for Optimization Problem - start')\n",
    "from pulp import *\n",
    "model = LpProblem(\"Minimization problem - Scheduling: \", LpMinimize)\n",
    "days = list(range(7))\n",
    "\n",
    "x = LpVariable.dicts('staff_', days, lowBound=0, cat='Integer')\n",
    "model += lpSum(x[i] for i in days)\n",
    "model += x[0] + x[3] + x[4] + x[5] + x[6] >= 20\n",
    "model += x[0] + x[1] + x[4] + x[5] + x[6] >= 14\n",
    "model += x[0] + x[1] + x[2] + x[5] + x[6] >= 11\n",
    "model += x[0] + x[1] + x[2] + x[3] + x[6] >= 15\n",
    "model += x[0] + x[1] + x[2] + x[3] + x[4] >= 22\n",
    "model += x[1] + x[2] + x[3] + x[4] + x[5] >= 12\n",
    "model += x[2] + x[3] + x[4] + x[5] + x[6] >= 25\n",
    "\n",
    "model.solve()"
   ]
  },
  {
   "cell_type": "code",
   "execution_count": 4,
   "metadata": {},
   "outputs": [
    {
     "name": "stdout",
     "output_type": "stream",
     "text": [
      "Model Status: Optimal\n",
      "staff__0 = 1.0\n",
      "staff__1 = 0.0\n",
      "staff__2 = 6.0\n",
      "staff__3 = 4.0\n",
      "staff__4 = 11.0\n",
      "staff__5 = 0.0\n",
      "staff__6 = 4.0\n",
      "The optimised objective function=  26.0\n",
      "PuLP for Optimization Problem - end\n"
     ]
    }
   ],
   "source": [
    "#                    Solution\n",
    "\n",
    "\n",
    "# The status of the solution is printed to the screen\n",
    "print(\"Model Status:\", LpStatus[model.status])\n",
    "\n",
    "# Each of the variables is printed with it's resolved optimum value\n",
    "for v in model.variables():\n",
    "    print(v.name, \"=\", v.varValue)\n",
    "\n",
    "# The optimised objective function value is printed to the screen\n",
    "print(\"The optimised objective function= \", value(model.objective))\n",
    "\n",
    "print('PuLP for Optimization Problem - end')"
   ]
  },
  {
   "cell_type": "code",
   "execution_count": null,
   "metadata": {},
   "outputs": [],
   "source": []
  }
 ],
 "metadata": {
  "kernelspec": {
   "display_name": "Python 3",
   "language": "python",
   "name": "python3"
  },
  "language_info": {
   "codemirror_mode": {
    "name": "ipython",
    "version": 3
   },
   "file_extension": ".py",
   "mimetype": "text/x-python",
   "name": "python",
   "nbconvert_exporter": "python",
   "pygments_lexer": "ipython3",
   "version": "3.7.0"
  },
  "latex_envs": {
   "LaTeX_envs_menu_present": true,
   "autoclose": false,
   "autocomplete": true,
   "bibliofile": "biblio.bib",
   "cite_by": "apalike",
   "current_citInitial": 1,
   "eqLabelWithNumbers": true,
   "eqNumInitial": 1,
   "hotkeys": {
    "equation": "Ctrl-E",
    "itemize": "Ctrl-I"
   },
   "labels_anchors": false,
   "latex_user_defs": false,
   "report_style_numbering": false,
   "user_envs_cfg": false
  }
 },
 "nbformat": 4,
 "nbformat_minor": 2
}
