{
 "cells": [
  {
   "cell_type": "markdown",
   "metadata": {},
   "source": [
    "Scheduling workers problem\n",
    "You are looking to hire workers to work in a warehouse. Each worker is expected to work 5 consecutive days and then have two days off. The chart below has the estimated number of workers you will need each day. You are looking to hire the minimum number of workers to handle the workload for each day.\n",
    "\n",
    "Expected Workload\n",
    "\n",
    "    Day of Week\tEmployees Needed\n",
    "    0 = Monday 31\n",
    "    1 = Tuesday\t45\n",
    "    2 = Wednesday\t40\n",
    "    3 = Thursday\t40\n",
    "    4 = Friday\t48\n",
    "    5 = Saturday\t30\n",
    "    6 = Sunday\t25\n",
    "The pulp module has been imported and the model has been initialized for you. Also, the variable days has been defined for you as a list of number from 0-6."
   ]
  },
  {
   "cell_type": "code",
   "execution_count": 14,
   "metadata": {},
   "outputs": [],
   "source": [
    "from pulp import *"
   ]
  },
  {
   "cell_type": "code",
   "execution_count": 16,
   "metadata": {},
   "outputs": [],
   "source": [
    "# The class has been initialize, and x, days, and objective function defined\n",
    "model = LpProblem(\"Minimize Staffing\", LpMinimize)\n",
    "days = list(range(7))"
   ]
  },
  {
   "cell_type": "code",
   "execution_count": 17,
   "metadata": {},
   "outputs": [],
   "source": [
    "x = LpVariable.dicts('staff_', days, lowBound=0, cat='Integer')\n",
    "model += lpSum([x[i] for i in days])"
   ]
  },
  {
   "cell_type": "code",
   "execution_count": 18,
   "metadata": {},
   "outputs": [],
   "source": [
    "# Define Constraints\n",
    "model += x[0] + x[3] + x[4] + x[5] + x[6] >= 31\n",
    "model += x[0] + x[1] + x[4] + x[5] + x[6] >= 45\n",
    "model += x[0] + x[1] + x[2] + x[5] + x[6] >= 40\n",
    "model += x[0] + x[1] + x[2] + x[3] + x[6] >= 40\n",
    "model += x[0] + x[1] + x[2] + x[3] + x[4] >= 48\n",
    "model += x[1] + x[2] + x[3] + x[4] + x[5] >= 30\n",
    "model += x[2] + x[3] + x[4] + x[5] + x[6] >= 25"
   ]
  },
  {
   "cell_type": "code",
   "execution_count": 19,
   "metadata": {},
   "outputs": [
    {
     "data": {
      "text/plain": [
       "1"
      ]
     },
     "execution_count": 19,
     "metadata": {},
     "output_type": "execute_result"
    }
   ],
   "source": [
    "model.solve()"
   ]
  },
  {
   "cell_type": "code",
   "execution_count": null,
   "metadata": {},
   "outputs": [],
   "source": []
  }
 ],
 "metadata": {
  "kernelspec": {
   "display_name": "Python 3",
   "language": "python",
   "name": "python3"
  },
  "language_info": {
   "codemirror_mode": {
    "name": "ipython",
    "version": 3
   },
   "file_extension": ".py",
   "mimetype": "text/x-python",
   "name": "python",
   "nbconvert_exporter": "python",
   "pygments_lexer": "ipython3",
   "version": "3.7.0"
  }
 },
 "nbformat": 4,
 "nbformat_minor": 2
}
