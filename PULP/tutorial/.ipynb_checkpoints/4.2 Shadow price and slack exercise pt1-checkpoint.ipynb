{
 "cells": [
  {
   "cell_type": "markdown",
   "metadata": {},
   "source": [
    "Shadow price and slack exercise pt1\n",
    "You are planning what cupcakes a bakery should make. The bakery can make either:\n",
    "\n",
    "regular size cupcake: profit = $5\n",
    "\n",
    "a jumbo cupcake twice the regular size: profit = $10\n",
    "\n",
    "There are 2 constraints on oven hours (30) and worker hours (65). This scenario has been modeled in PuLP for you and a solution found. The model status, decision variables values, objective value (i.e. profit), the shadow prices and slack of the constraints have been printed in the shell.\n",
    "\n",
    "The sample script is a copy of that code. You will adjust the constraints to see how the optimal solution changes.\n",
    "\n",
    "\n",
    "Increase the 1st constraint to 31. Run the code and see the change in the objective compared to the original solution.\n",
    "\n",
    "Increase the 2nd constraint to 80. Run the code and see no change in the objective compared to the original solution.\n",
    "\n",
    "Decrease the 2nd constraint to 60. Run the code and see no change in the objective compared to the original solution.\n",
    "\n",
    "Decrease the 2nd constraint to 59. Run the code and see a change in the objective value, and the amount of production."
   ]
  },
  {
   "cell_type": "code",
   "execution_count": 1,
   "metadata": {},
   "outputs": [],
   "source": [
    "import pandas as pd\n",
    "from pulp import *"
   ]
  },
  {
   "cell_type": "code",
   "execution_count": 2,
   "metadata": {},
   "outputs": [],
   "source": [
    "# Define Constraints, Solve, Print Status, Variables, Objective\n",
    "model = LpProblem(\"Maximize Bakery Profits\", LpMaximize)\n",
    "\n",
    "R = LpVariable('Regular_production', lowBound=0, cat='Continuous')\n",
    "J = LpVariable('Jumbo_production', lowBound=0, cat='Continuous')\n",
    "\n",
    "model += 5 * R + 10 * J, \"Profit\"\n",
    "\n",
    "# Adjust the constraint\n",
    "model += 0.5 * R + 1 * J <= 30\n",
    "model += 1 * R + 2.5 * J <= 59"
   ]
  },
  {
   "cell_type": "code",
   "execution_count": 3,
   "metadata": {},
   "outputs": [
    {
     "name": "stdout",
     "output_type": "stream",
     "text": [
      "Model Status: Optimal\n",
      "Jumbo_production = 0.0\n",
      "Regular_production = 59.0\n",
      "Objective = $ 295.0\n"
     ]
    }
   ],
   "source": [
    "# Solve Model, Print Status, Variables, Objective, Shadow and Slack\n",
    "model.solve()\n",
    "print(\"Model Status: {}\".format(pulp.LpStatus[model.status]))\n",
    "\n",
    "\n",
    "for v in model.variables():\n",
    "    print(v.name, \"=\", v.varValue)\n",
    "print(\"Objective = $\", value(model.objective))"
   ]
  },
  {
   "cell_type": "code",
   "execution_count": 4,
   "metadata": {},
   "outputs": [
    {
     "data": {
      "text/plain": [
       "odict_items([('_C1', 1*Jumbo_production + 0.5*Regular_production + -30.0 <= 0), ('_C2', 2.5*Jumbo_production + 1*Regular_production + -59.0 <= 0)])"
      ]
     },
     "execution_count": 4,
     "metadata": {},
     "output_type": "execute_result"
    }
   ],
   "source": [
    "model.constraints.items()"
   ]
  },
  {
   "cell_type": "code",
   "execution_count": 5,
   "metadata": {},
   "outputs": [
    {
     "data": {
      "text/plain": [
       "odict_keys(['_C1', '_C2'])"
      ]
     },
     "execution_count": 5,
     "metadata": {},
     "output_type": "execute_result"
    }
   ],
   "source": [
    "model.constraints.keys()"
   ]
  },
  {
   "cell_type": "code",
   "execution_count": 6,
   "metadata": {},
   "outputs": [
    {
     "data": {
      "text/plain": [
       "odict_values([1*Jumbo_production + 0.5*Regular_production + -30.0 <= 0, 2.5*Jumbo_production + 1*Regular_production + -59.0 <= 0])"
      ]
     },
     "execution_count": 6,
     "metadata": {},
     "output_type": "execute_result"
    }
   ],
   "source": [
    "model.constraints.values()"
   ]
  },
  {
   "cell_type": "code",
   "execution_count": 7,
   "metadata": {},
   "outputs": [
    {
     "name": "stdout",
     "output_type": "stream",
     "text": [
      "  name  shadow price  slack\n",
      "0  _C1          -0.0    0.5\n",
      "1  _C2           5.0   -0.0\n"
     ]
    }
   ],
   "source": [
    "o = [{'name':name, 'shadow price':c.pi, 'slack': c.slack} \n",
    "     for name, c in model.constraints.items()]\n",
    "print(pd.DataFrame(o))"
   ]
  }
 ],
 "metadata": {
  "kernelspec": {
   "display_name": "Python 3",
   "language": "python",
   "name": "python3"
  },
  "language_info": {
   "codemirror_mode": {
    "name": "ipython",
    "version": 3
   },
   "file_extension": ".py",
   "mimetype": "text/x-python",
   "name": "python",
   "nbconvert_exporter": "python",
   "pygments_lexer": "ipython3",
   "version": "3.7.0"
  }
 },
 "nbformat": 4,
 "nbformat_minor": 2
}
