{
 "cells": [
  {
   "cell_type": "markdown",
   "metadata": {},
   "source": [
    "Dependent demand constraint exercise\n",
    "You are developing a production plan for 5 products (A through E). One unit of product E comprises 2 units of A, and 1 unit of C. Product C is also sold directly to customers. Your planning horizon is 3 months. You are looking to determine how much of each product to produce by month that meets the customer's demand and minimizes the total costs.\n",
    "\n",
    "A Pandas DataFrame named demand is printed in the console and contains the monthly customer demand for each product. Additionally, the code of the PuLP model to initialize, define decision variables, objective function, and constraint so production is greater than or equal to demand has been given to you.\n",
    "\n",
    "\n",
    "Complete the code for the constraints that includes the dependent demand for products A, and C."
   ]
  },
  {
   "cell_type": "code",
   "execution_count": 1,
   "metadata": {},
   "outputs": [],
   "source": [
    "from pulp import *\n",
    "import pandas as pd"
   ]
  },
  {
   "cell_type": "code",
   "execution_count": 2,
   "metadata": {},
   "outputs": [],
   "source": [
    "d = {'A':[0,0,0], 'B':[1000,700,600], 'C':[300,200,0], 'D':[300,0,0], 'E':[800,400,500]}\n",
    "c = {'A':[17,16,17], 'B':[19,19,19], 'C':[16,15,16], 'D':[8,7,8], 'E':[9,8,9]}\n",
    "\n",
    "demand = pd.DataFrame(data = d)\n",
    "costs = pd.DataFrame(data = c)"
   ]
  },
  {
   "cell_type": "code",
   "execution_count": 7,
   "metadata": {},
   "outputs": [
    {
     "name": "stdout",
     "output_type": "stream",
     "text": [
      "   A     B    C    D    E\n",
      "0  0  1000  300  300  800\n",
      "1  0   700  200    0  400\n",
      "2  0   600    0    0  500\n",
      "    A   B   C  D  E\n",
      "0  17  19  16  8  9\n",
      "1  16  19  15  7  8\n",
      "2  17  19  16  8  9\n"
     ]
    }
   ],
   "source": [
    "print(demand)\n",
    "print(costs)"
   ]
  },
  {
   "cell_type": "code",
   "execution_count": 3,
   "metadata": {},
   "outputs": [],
   "source": [
    "# Initialize, Define Decision Vars., Objective Function, and Constraints\n",
    "model = LpProblem(\"Aggregate Production Planning\", LpMinimize)\n",
    "time = [0, 1, 2]\n",
    "prod = ['A', 'B', 'C', 'D', 'E']\n",
    "X = LpVariable.dicts(\"prod\", [(t, p) for p in prod for t in time], \n",
    "                     lowBound=0, cat=\"Integer\")"
   ]
  },
  {
   "cell_type": "code",
   "execution_count": 4,
   "metadata": {},
   "outputs": [],
   "source": [
    "model += lpSum([costs.loc[t, p]*X[(t, p)] for p in prod for t in time])"
   ]
  },
  {
   "cell_type": "code",
   "execution_count": 6,
   "metadata": {},
   "outputs": [
    {
     "name": "stdout",
     "output_type": "stream",
     "text": [
      "prod_(0,_'A') >= 0\n",
      "prod_(1,_'A') >= 0\n",
      "prod_(2,_'A') >= 0\n",
      "prod_(0,_'B') >= 1000\n",
      "prod_(1,_'B') >= 700\n",
      "prod_(2,_'B') >= 600\n",
      "prod_(0,_'C') >= 300\n",
      "prod_(1,_'C') >= 200\n",
      "prod_(2,_'C') >= 0\n",
      "prod_(0,_'D') >= 300\n",
      "prod_(1,_'D') >= 0\n",
      "prod_(2,_'D') >= 0\n",
      "prod_(0,_'E') >= 800\n",
      "prod_(1,_'E') >= 400\n",
      "prod_(2,_'E') >= 500\n"
     ]
    }
   ],
   "source": [
    "for p in prod:\n",
    "    for t in time:\n",
    "        print(X[(t, p)] >= demand.loc[t, p])"
   ]
  },
  {
   "cell_type": "code",
   "execution_count": 8,
   "metadata": {},
   "outputs": [
    {
     "data": {
      "text/plain": [
       "Aggregate Production Planning:\n",
       "MINIMIZE\n",
       "17*prod_(0,_'A') + 19*prod_(0,_'B') + 16*prod_(0,_'C') + 8*prod_(0,_'D') + 9*prod_(0,_'E') + 16*prod_(1,_'A') + 19*prod_(1,_'B') + 15*prod_(1,_'C') + 7*prod_(1,_'D') + 8*prod_(1,_'E') + 17*prod_(2,_'A') + 19*prod_(2,_'B') + 16*prod_(2,_'C') + 8*prod_(2,_'D') + 9*prod_(2,_'E') + 0\n",
       "SUBJECT TO\n",
       "_C1: prod_(0,_'A') >= 0\n",
       "\n",
       "_C2: prod_(1,_'A') >= 0\n",
       "\n",
       "_C3: prod_(2,_'A') >= 0\n",
       "\n",
       "_C4: prod_(0,_'B') >= 1000\n",
       "\n",
       "_C5: prod_(1,_'B') >= 700\n",
       "\n",
       "_C6: prod_(2,_'B') >= 600\n",
       "\n",
       "_C7: prod_(0,_'C') >= 300\n",
       "\n",
       "_C8: prod_(1,_'C') >= 200\n",
       "\n",
       "_C9: prod_(2,_'C') >= 0\n",
       "\n",
       "_C10: prod_(0,_'D') >= 300\n",
       "\n",
       "_C11: prod_(1,_'D') >= 0\n",
       "\n",
       "_C12: prod_(2,_'D') >= 0\n",
       "\n",
       "_C13: prod_(0,_'E') >= 800\n",
       "\n",
       "_C14: prod_(1,_'E') >= 400\n",
       "\n",
       "_C15: prod_(2,_'E') >= 500\n",
       "\n",
       "_C16: - prod_(0,_'A') + 2 prod_(0,_'E') <= 0\n",
       "\n",
       "_C17: - prod_(0,_'C') + prod_(0,_'E') <= -300\n",
       "\n",
       "_C18: - prod_(1,_'A') + 2 prod_(1,_'E') <= 0\n",
       "\n",
       "_C19: - prod_(1,_'C') + prod_(1,_'E') <= -200\n",
       "\n",
       "_C20: - prod_(2,_'A') + 2 prod_(2,_'E') <= 0\n",
       "\n",
       "_C21: - prod_(2,_'C') + prod_(2,_'E') <= 0\n",
       "\n",
       "_C22: prod_(0,_'A') >= 0\n",
       "\n",
       "_C23: prod_(1,_'A') >= 0\n",
       "\n",
       "_C24: prod_(2,_'A') >= 0\n",
       "\n",
       "_C25: prod_(0,_'B') >= 1000\n",
       "\n",
       "_C26: prod_(1,_'B') >= 700\n",
       "\n",
       "_C27: prod_(2,_'B') >= 600\n",
       "\n",
       "_C28: prod_(0,_'C') >= 300\n",
       "\n",
       "_C29: prod_(1,_'C') >= 200\n",
       "\n",
       "_C30: prod_(2,_'C') >= 0\n",
       "\n",
       "_C31: prod_(0,_'D') >= 300\n",
       "\n",
       "_C32: prod_(1,_'D') >= 0\n",
       "\n",
       "_C33: prod_(2,_'D') >= 0\n",
       "\n",
       "_C34: prod_(0,_'E') >= 800\n",
       "\n",
       "_C35: prod_(1,_'E') >= 400\n",
       "\n",
       "_C36: prod_(2,_'E') >= 500\n",
       "\n",
       "_C37: - prod_(0,_'A') + 2 prod_(0,_'E') <= 0\n",
       "\n",
       "_C38: - prod_(0,_'C') + prod_(0,_'E') <= -300\n",
       "\n",
       "_C39: - prod_(1,_'A') + 2 prod_(1,_'E') <= 0\n",
       "\n",
       "_C40: - prod_(1,_'C') + prod_(1,_'E') <= -200\n",
       "\n",
       "_C41: - prod_(2,_'A') + 2 prod_(2,_'E') <= 0\n",
       "\n",
       "_C42: - prod_(2,_'C') + prod_(2,_'E') <= 0\n",
       "\n",
       "VARIABLES\n",
       "0 <= prod_(0,_'A') Integer\n",
       "0 <= prod_(0,_'B') Integer\n",
       "0 <= prod_(0,_'C') Integer\n",
       "0 <= prod_(0,_'D') Integer\n",
       "0 <= prod_(0,_'E') Integer\n",
       "0 <= prod_(1,_'A') Integer\n",
       "0 <= prod_(1,_'B') Integer\n",
       "0 <= prod_(1,_'C') Integer\n",
       "0 <= prod_(1,_'D') Integer\n",
       "0 <= prod_(1,_'E') Integer\n",
       "0 <= prod_(2,_'A') Integer\n",
       "0 <= prod_(2,_'B') Integer\n",
       "0 <= prod_(2,_'C') Integer\n",
       "0 <= prod_(2,_'D') Integer\n",
       "0 <= prod_(2,_'E') Integer"
      ]
     },
     "execution_count": 8,
     "metadata": {},
     "output_type": "execute_result"
    }
   ],
   "source": [
    "for p in prod:\n",
    "    for t in time:\n",
    "        model += X[(t, p)] >= demand.loc[t, p]\n",
    "\n",
    "# Define Dependent Demand Constraints\n",
    "for t in time:\n",
    "    model += 2 * X[(t, 'E')] <= X[(t, 'A')]\n",
    "    model += 1 * X[(t, 'E')] + demand.loc[t, 'C'] <= X[(t, 'C')]\n",
    "model"
   ]
  },
  {
   "cell_type": "code",
   "execution_count": 9,
   "metadata": {},
   "outputs": [
    {
     "name": "stdout",
     "output_type": "stream",
     "text": [
      "prod_(0,_'A') = 1600.0\n",
      "prod_(0,_'B') = 1000.0\n",
      "prod_(0,_'C') = 1100.0\n",
      "prod_(0,_'D') = 300.0\n",
      "prod_(0,_'E') = 800.0\n",
      "prod_(1,_'A') = 800.0\n",
      "prod_(1,_'B') = 700.0\n",
      "prod_(1,_'C') = 600.0\n",
      "prod_(1,_'D') = 0.0\n",
      "prod_(1,_'E') = 400.0\n",
      "prod_(2,_'A') = 1000.0\n",
      "prod_(2,_'B') = 600.0\n",
      "prod_(2,_'C') = 500.0\n",
      "prod_(2,_'D') = 0.0\n",
      "prod_(2,_'E') = 500.0\n",
      "The optimised objective function=  152600.0\n"
     ]
    }
   ],
   "source": [
    "model.solve()\n",
    "for v in model.variables():\n",
    "    print(v.name, \"=\", v.varValue)\n",
    "\n",
    "# The optimised objective function value is printed to the screen\n",
    "print(\"The optimised objective function= \", value(model.objective))"
   ]
  }
 ],
 "metadata": {
  "kernelspec": {
   "display_name": "Python 3",
   "language": "python",
   "name": "python3"
  },
  "language_info": {
   "codemirror_mode": {
    "name": "ipython",
    "version": 3
   },
   "file_extension": ".py",
   "mimetype": "text/x-python",
   "name": "python",
   "nbconvert_exporter": "python",
   "pygments_lexer": "ipython3",
   "version": "3.7.0"
  }
 },
 "nbformat": 4,
 "nbformat_minor": 2
}
