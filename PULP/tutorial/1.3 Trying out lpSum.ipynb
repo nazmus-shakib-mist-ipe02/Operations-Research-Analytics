{
 "cells": [
  {
   "cell_type": "markdown",
   "metadata": {},
   "source": [
    "In this exercise you are making two types (premium and budget) of ice cream, using heavy cream, whole milk, and sugar. One version is a premium version containing more cream than your budget version. You are looking to find the mixture of ingredients that minimizes the total costs of ingredients.\n",
    "\n",
    "Ingredient\tcup\n",
    "\n",
    "Cream:-     1.5\n",
    "\n",
    "Milk:-      0.125\n",
    "\n",
    "Sugar:-     0.10\n",
    "\n",
    "\n",
    "\n",
    "\n",
    "- Define the objective function using lpSum() with list comprehension and the information in the table above. Iterate over the product types and multiply the dictionary variable by the correct ingredient cost."
   ]
  },
  {
   "cell_type": "code",
   "execution_count": 1,
   "metadata": {},
   "outputs": [],
   "source": [
    "from pulp import *\n",
    "model = LpProblem('minimize profits', LpMinimize)"
   ]
  },
  {
   "cell_type": "code",
   "execution_count": 2,
   "metadata": {},
   "outputs": [],
   "source": [
    "# Define Objective Function\n",
    "cb = LpVariable('A', lowBound=0, cat='Continuous')\n",
    "mb = LpVariable('B', lowBound=0, cat='Continuous')\n",
    "sb = LpVariable('C', lowBound=0, cat='Continuous')\n",
    "cp = LpVariable('D', lowBound=0, cat='Continuous')\n",
    "mp = LpVariable('E', lowBound=0, cat='Continuous')\n",
    "sp = LpVariable('F', lowBound=0, cat='Continuous')"
   ]
  },
  {
   "cell_type": "code",
   "execution_count": 3,
   "metadata": {},
   "outputs": [],
   "source": [
    "var_dict = {('budget', 'cream'): cb,\n",
    "             ('budget', 'milk'): mb,\n",
    "             ('budget', 'sugar'): sb,\n",
    "             ('premium', 'cream'): cp,\n",
    "             ('premium', 'milk'): mp,\n",
    "             ('premium', 'sugar'): sp}\n"
   ]
  },
  {
   "cell_type": "code",
   "execution_count": 4,
   "metadata": {},
   "outputs": [],
   "source": [
    "prod_type = ['premium','budget']\n",
    "ingredient = ['cream', 'milk', 'sugar']"
   ]
  },
  {
   "cell_type": "code",
   "execution_count": 14,
   "metadata": {},
   "outputs": [
    {
     "name": "stdout",
     "output_type": "stream",
     "text": [
      "D\n",
      "premium cream\n",
      "A\n",
      "budget cream\n"
     ]
    }
   ],
   "source": [
    "for i in prod_type:\n",
    "    print(var_dict[(i, 'cream')])\n",
    "    print(i , 'cream')"
   ]
  },
  {
   "cell_type": "code",
   "execution_count": 11,
   "metadata": {},
   "outputs": [
    {
     "data": {
      "text/plain": [
       "A"
      ]
     },
     "execution_count": 11,
     "metadata": {},
     "output_type": "execute_result"
    }
   ],
   "source": [
    "cb"
   ]
  },
  {
   "cell_type": "code",
   "execution_count": 5,
   "metadata": {},
   "outputs": [],
   "source": [
    "model += lpSum([ 1.5 * var_dict[(i, 'cream')] + 0.125 * var_dict[(i, 'milk')] + 0.10 * var_dict[(i, 'sugar')] for i in prod_type])\n",
    "                \n",
    "# Iterate over product types "
   ]
  },
  {
   "cell_type": "code",
   "execution_count": null,
   "metadata": {},
   "outputs": [],
   "source": []
  },
  {
   "cell_type": "code",
   "execution_count": 6,
   "metadata": {},
   "outputs": [
    {
     "name": "stdout",
     "output_type": "stream",
     "text": [
      "E\n",
      "B\n"
     ]
    }
   ],
   "source": [
    "print(var_dict[('premium','milk')])\n",
    "print(var_dict[('budget','milk')])"
   ]
  },
  {
   "cell_type": "code",
   "execution_count": 7,
   "metadata": {},
   "outputs": [
    {
     "data": {
      "text/plain": [
       "minimize profits:\n",
       "MINIMIZE\n",
       "1.5*A + 0.125*B + 0.1*C + 1.5*D + 0.125*E + 0.1*F + 0.0\n",
       "VARIABLES\n",
       "A Continuous\n",
       "B Continuous\n",
       "C Continuous\n",
       "D Continuous\n",
       "E Continuous\n",
       "F Continuous"
      ]
     },
     "execution_count": 7,
     "metadata": {},
     "output_type": "execute_result"
    }
   ],
   "source": [
    "model"
   ]
  },
  {
   "cell_type": "code",
   "execution_count": 8,
   "metadata": {},
   "outputs": [
    {
     "data": {
      "text/plain": [
       "1"
      ]
     },
     "execution_count": 8,
     "metadata": {},
     "output_type": "execute_result"
    }
   ],
   "source": [
    "model.solve()"
   ]
  },
  {
   "cell_type": "code",
   "execution_count": 9,
   "metadata": {
    "scrolled": true
   },
   "outputs": [
    {
     "name": "stdout",
     "output_type": "stream",
     "text": [
      "[0.0]\n",
      "[0.0]\n",
      "[0.0]\n",
      "[0.0]\n",
      "[0.0]\n",
      "[0.0]\n"
     ]
    }
   ],
   "source": [
    "list = [cb,mb,sb,cp,mp,sp]\n",
    "for i in list:\n",
    "    print( [i.varValue])"
   ]
  },
  {
   "cell_type": "markdown",
   "metadata": {},
   "source": [
    "as there is no constraints"
   ]
  }
 ],
 "metadata": {
  "kernelspec": {
   "display_name": "Python 3",
   "language": "python",
   "name": "python3"
  },
  "language_info": {
   "codemirror_mode": {
    "name": "ipython",
    "version": 3
   },
   "file_extension": ".py",
   "mimetype": "text/x-python",
   "name": "python",
   "nbconvert_exporter": "python",
   "pygments_lexer": "ipython3",
   "version": "3.7.0"
  }
 },
 "nbformat": 4,
 "nbformat_minor": 2
}
