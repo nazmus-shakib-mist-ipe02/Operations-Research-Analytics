{
 "cells": [
  {
   "cell_type": "markdown",
   "metadata": {},
   "source": [
    "In this exercise you are making two types (premium and budget) of ice cream, using heavy cream, whole milk, and sugar. One version is a premium version containing more cream than your budget version. You are looking to find the mixture of ingredients that minimizes the total costs of ingredients.\n",
    "\n",
    "Ingredient\tcup\n",
    "\n",
    "Cream:-     1.5\n",
    "\n",
    "Milk:-      0.125\n",
    "\n",
    "Sugar:-     0.10\n",
    "\n",
    "\n",
    "\n",
    "\n",
    "- Define the objective function using lpSum() with list comprehension and the information in the table above. Iterate over the product types and multiply the dictionary variable by the correct ingredient cost."
   ]
  },
  {
   "cell_type": "code",
   "execution_count": 62,
   "metadata": {},
   "outputs": [],
   "source": [
    "from pulp import *\n",
    "model = LpProblem('minimize profits', LpMinimize)"
   ]
  },
  {
   "cell_type": "code",
   "execution_count": 64,
   "metadata": {},
   "outputs": [],
   "source": [
    "# Define Objective Function\n",
    "cb = LpVariable('cb', lowBound=0, cat='Continuous')\n",
    "mb = LpVariable('mb', lowBound=0, cat='Continuous')\n",
    "sb = LpVariable('sb', lowBound=0, cat='Continuous')\n",
    "cp = LpVariable('cp', lowBound=0, cat='Continuous')\n",
    "mp = LpVariable('mp', lowBound=0, cat='Continuous')\n",
    "sp = LpVariable('sp', lowBound=0, cat='Continuous')"
   ]
  },
  {
   "cell_type": "code",
   "execution_count": 65,
   "metadata": {},
   "outputs": [],
   "source": [
    "var_dict = {('budget', 'cream'): cb,\n",
    "             ('budget', 'milk'): mb,\n",
    "             ('budget', 'sugar'): sb,\n",
    "             ('premium', 'cream'): cp,\n",
    "             ('premium', 'milk'): mp,\n",
    "             ('premium', 'sugar'): sp}\n"
   ]
  },
  {
   "cell_type": "code",
   "execution_count": 66,
   "metadata": {},
   "outputs": [],
   "source": [
    "prod_type = ['premium','budget']\n",
    "ingredient = ['cream', 'milk', 'sugar']"
   ]
  },
  {
   "cell_type": "code",
   "execution_count": 67,
   "metadata": {},
   "outputs": [],
   "source": [
    "model += lpSum([1.5 * var_dict[(i, 'cream')] \n",
    "            + 0.125 * var_dict[(i, 'milk')] \n",
    "             + 0.10 * var_dict[(i, 'sugar')]\n",
    "                \n",
    "                # Iterate over product types\n",
    "                for i in prod_type])"
   ]
  },
  {
   "cell_type": "code",
   "execution_count": 68,
   "metadata": {},
   "outputs": [
    {
     "name": "stdout",
     "output_type": "stream",
     "text": [
      "mp\n",
      "mb\n"
     ]
    }
   ],
   "source": [
    "print(var_dict[('premium','milk')])\n",
    "print(var_dict[('budget','milk')])"
   ]
  },
  {
   "cell_type": "code",
   "execution_count": 69,
   "metadata": {},
   "outputs": [
    {
     "data": {
      "text/plain": [
       "1"
      ]
     },
     "execution_count": 69,
     "metadata": {},
     "output_type": "execute_result"
    }
   ],
   "source": [
    "model.solve()"
   ]
  },
  {
   "cell_type": "code",
   "execution_count": 70,
   "metadata": {},
   "outputs": [
    {
     "name": "stdout",
     "output_type": "stream",
     "text": [
      "[0.0]\n",
      "[0.0]\n",
      "[0.0]\n",
      "[0.0]\n",
      "[0.0]\n",
      "[0.0]\n"
     ]
    }
   ],
   "source": [
    "list = [cb,mb,sb,cp,mp,sp]\n",
    "for i in list:\n",
    "    print( [i.varValue])"
   ]
  }
 ],
 "metadata": {
  "kernelspec": {
   "display_name": "Python 3",
   "language": "python",
   "name": "python3"
  },
  "language_info": {
   "codemirror_mode": {
    "name": "ipython",
    "version": 3
   },
   "file_extension": ".py",
   "mimetype": "text/x-python",
   "name": "python",
   "nbconvert_exporter": "python",
   "pygments_lexer": "ipython3",
   "version": "3.7.0"
  }
 },
 "nbformat": 4,
 "nbformat_minor": 2
}
