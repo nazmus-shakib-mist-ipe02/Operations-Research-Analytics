{
 "cells": [
  {
   "cell_type": "code",
   "execution_count": 1,
   "metadata": {},
   "outputs": [],
   "source": [
    "from pulp import *\n",
    "model = LpProblem('minimize profits', LpMinimize)\n",
    "model1 = LpProblem('minimize profits', LpMinimize)\n",
    "A = LpVariable('A', lowBound=0, cat='Integer')\n",
    "B = LpVariable('B', lowBound=0, cat='Integer')\n",
    "C = LpVariable('C', lowBound=0, cat='Integer')\n",
    "D = LpVariable('D', lowBound=0, cat='Integer')\n",
    "E = LpVariable('E', lowBound=0, cat='Integer')\n",
    "F = LpVariable('F', lowBound=0, cat='Integer')\n",
    "\n",
    "var_list = [20*A, 40*B, 33*C, 14*D, 6*E, 60*F]\n",
    "model += lpSum(var_list)"
   ]
  },
  {
   "cell_type": "code",
   "execution_count": 2,
   "metadata": {
    "scrolled": true
   },
   "outputs": [
    {
     "name": "stderr",
     "output_type": "stream",
     "text": [
      "C:\\Users\\shakib\\Anaconda3\\lib\\site-packages\\pulp\\pulp.py:1349: UserWarning: Overwriting previously set objective.\n",
      "  warnings.warn(\"Overwriting previously set objective.\")\n"
     ]
    }
   ],
   "source": [
    "cake_types = ['A','B','C','D','E','F']\n",
    "profit_by_cake = {\"A\":20, \"B\":40, \"C\":33,\"D\":14,\"E\":6,\"F\":60}\n",
    "var_dict = {\"A\":A,\"B\":B,\"C\":C,\"D\":D,\"E\":E,\"F\":F}\n",
    "\n",
    "# print(profit_by_cake['A'])\n",
    "\n",
    "model += lpSum([ profit_by_cake[type] * var_dict[type] for type in cake_types])"
   ]
  },
  {
   "cell_type": "code",
   "execution_count": 3,
   "metadata": {},
   "outputs": [
    {
     "name": "stdout",
     "output_type": "stream",
     "text": [
      "minimize profits:\n",
      "MINIMIZE\n",
      "20*A + 40*B + 33*C + 14*D + 6*E + 60*F + 0\n",
      "VARIABLES\n",
      "0 <= A Integer\n",
      "0 <= B Integer\n",
      "0 <= C Integer\n",
      "0 <= D Integer\n",
      "0 <= E Integer\n",
      "0 <= F Integer\n",
      "\n"
     ]
    }
   ],
   "source": [
    "print(model)"
   ]
  },
  {
   "cell_type": "code",
   "execution_count": 4,
   "metadata": {},
   "outputs": [
    {
     "data": {
      "text/plain": [
       "{'A': A, 'B': B, 'C': C, 'D': D, 'E': E, 'F': F}"
      ]
     },
     "execution_count": 4,
     "metadata": {},
     "output_type": "execute_result"
    }
   ],
   "source": [
    "var_dict"
   ]
  },
  {
   "cell_type": "code",
   "execution_count": 5,
   "metadata": {
    "scrolled": true
   },
   "outputs": [
    {
     "name": "stdout",
     "output_type": "stream",
     "text": [
      "A\n",
      "B\n",
      "C\n",
      "D\n",
      "E\n",
      "F\n"
     ]
    }
   ],
   "source": [
    "for type in cake_types:\n",
    "    print(var_dict[type])"
   ]
  },
  {
   "cell_type": "code",
   "execution_count": 6,
   "metadata": {},
   "outputs": [
    {
     "name": "stdout",
     "output_type": "stream",
     "text": [
      "['A']\n",
      "['B']\n",
      "['C']\n",
      "['D']\n",
      "['E']\n",
      "['F']\n"
     ]
    }
   ],
   "source": [
    "for type in cake_types:\n",
    "    print([type])"
   ]
  },
  {
   "cell_type": "code",
   "execution_count": 12,
   "metadata": {},
   "outputs": [
    {
     "name": "stdout",
     "output_type": "stream",
     "text": [
      "{A: 20, B: 40, C: 33, D: 14, E: 6, F: 60}\n"
     ]
    },
    {
     "name": "stderr",
     "output_type": "stream",
     "text": [
      "C:\\Users\\shakib\\Anaconda3\\lib\\site-packages\\pulp\\pulp.py:1349: UserWarning: Overwriting previously set objective.\n",
      "  warnings.warn(\"Overwriting previously set objective.\")\n"
     ]
    }
   ],
   "source": [
    "cake_types = [A,B,C,D,E,F]\n",
    "profit_by_cake = {A:20, B:40, C:33,D:14,E:6,F:60}\n",
    "#var_dict = {\"A\":A,\"B\":B,\"C\":C,\"D\":D,\"E\":E,\"F\":F}\n",
    "print(profit_by_cake)\n",
    "\n",
    "\n",
    "\n",
    "model1 += lpSum([ profit_by_cake[type] * [type] for type in cake_types])"
   ]
  },
  {
   "cell_type": "code",
   "execution_count": 8,
   "metadata": {},
   "outputs": [
    {
     "name": "stdout",
     "output_type": "stream",
     "text": [
      "minimize profits:\n",
      "MINIMIZE\n",
      "20*A + 40*B + 33*C + 14*D + 6*E + 60*F + 0\n",
      "VARIABLES\n",
      "0 <= A Integer\n",
      "0 <= B Integer\n",
      "0 <= C Integer\n",
      "0 <= D Integer\n",
      "0 <= E Integer\n",
      "0 <= F Integer\n",
      "\n"
     ]
    }
   ],
   "source": [
    "print(model1)"
   ]
  },
  {
   "cell_type": "code",
   "execution_count": 9,
   "metadata": {},
   "outputs": [],
   "source": [
    "# the function will not run, cause A errror\n",
    "#  so need to change the cake types with the '' as like the print functions"
   ]
  },
  {
   "cell_type": "markdown",
   "metadata": {},
   "source": [
    " It is a guard against a stack overflow, yes. Python (or rather, the CPython implementation) doesn't optimize tail recursion, and unbridled recursion causes stack overflows. You can check the recursion limit with sys.getrecursionlimit and change the recursion limit with sys.setrecursionlimit, but doing so is dangerous -- the standard limit is a little conservative, but Python stackframes can be quite big.\n",
    "\n",
    " Python isn't a functional language and tail recursion is not a particularly efficient technique. Rewriting the algorithm iteratively, if possible, is generally a better idea."
   ]
  },
  {
   "cell_type": "code",
   "execution_count": 10,
   "metadata": {},
   "outputs": [],
   "source": [
    "import sys\n",
    "sys.setrecursionlimit(1500)"
   ]
  }
 ],
 "metadata": {
  "kernelspec": {
   "display_name": "Python 3",
   "language": "python",
   "name": "python3"
  },
  "language_info": {
   "codemirror_mode": {
    "name": "ipython",
    "version": 3
   },
   "file_extension": ".py",
   "mimetype": "text/x-python",
   "name": "python",
   "nbconvert_exporter": "python",
   "pygments_lexer": "ipython3",
   "version": "3.7.0"
  }
 },
 "nbformat": 4,
 "nbformat_minor": 2
}
