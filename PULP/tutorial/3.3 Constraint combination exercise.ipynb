{
 "cells": [
  {
   "cell_type": "markdown",
   "metadata": {},
   "source": [
    "Constraint combination exercise\n",
    "You are working on a distribution plan for a warehouse network. The network has two warehouses (W1, and W2) and each can ship three different types of products (A, B, and C). W1 is small and can either ship 10 products A per a week or 15 products B per a week or 20 products C per a week. You are looking to minimize the total costs.\n",
    "\n",
    "A Pandas DataFrame named demand is printed in the console and contains the monthly demand for each product. Additionally, the code of the PuLP model to initialize, define decision variables, objective function, and constraint so total shipment of each product equals its demand.\n",
    "\n",
    "\n",
    "Complete the code for the constraint that models the shipping limitations of warehouse W1 for 4 weeks."
   ]
  },
  {
   "cell_type": "code",
   "execution_count": 1,
   "metadata": {},
   "outputs": [],
   "source": [
    "import pandas as pd\n",
    "from pulp import *"
   ]
  },
  {
   "cell_type": "code",
   "execution_count": 2,
   "metadata": {},
   "outputs": [],
   "source": [
    "d = {'C1':[10,17,23], 'C2':[8,11,20], 'C3':[28,10,25], 'C4':[0,6,13], 'Product':['A','B','C']}\n",
    "c = {'C1':[81,117,107,102,189,108], 'C2':[92,77,97,105,132,98], 'C3':[110,108,102,115,200,103], 'C4':[130,98,104,130,192,105],\n",
    "    'Product':['A','B','C','A','B','C'], 'WH':['W1','W1','W1','W2','W2','W2']}\n",
    "\n",
    "demand = pd.DataFrame(data = d)\n",
    "demand = demand.set_index('Product')\n",
    "\n",
    "costs = pd.DataFrame(data = c)\n",
    "costs = costs.set_index(['WH','Product'])"
   ]
  },
  {
   "cell_type": "code",
   "execution_count": 3,
   "metadata": {},
   "outputs": [
    {
     "name": "stdout",
     "output_type": "stream",
     "text": [
      "         C1  C2  C3  C4\n",
      "Product                \n",
      "A        10   8  28   0\n",
      "B        17  11  10   6\n",
      "C        23  20  25  13\n",
      "             C1   C2   C3   C4\n",
      "WH Product                    \n",
      "W1 A         81   92  110  130\n",
      "   B        117   77  108   98\n",
      "   C        107   97  102  104\n",
      "W2 A        102  105  115  130\n",
      "   B        189  132  200  192\n",
      "   C        108   98  103  105\n"
     ]
    }
   ],
   "source": [
    "print(demand)\n",
    "print(costs)"
   ]
  },
  {
   "cell_type": "code",
   "execution_count": 4,
   "metadata": {},
   "outputs": [],
   "source": [
    "# Initialize, Define Decision Vars., Objective Function, and Constraints\n",
    "model = LpProblem(\"Distribution Planning\", LpMinimize)\n",
    "wh = ['W1','W2']\n",
    "prod = ['A', 'B', 'C']\n",
    "cust = ['C1', 'C2', 'C3', 'C4']"
   ]
  },
  {
   "cell_type": "code",
   "execution_count": 5,
   "metadata": {},
   "outputs": [],
   "source": [
    "X = LpVariable.dicts(\"ship\", [(w, p, c) for c in cust for p in prod for w in wh], \n",
    "                     lowBound=0, cat=\"Integer\")\n"
   ]
  },
  {
   "cell_type": "code",
   "execution_count": 6,
   "metadata": {},
   "outputs": [
    {
     "name": "stdout",
     "output_type": "stream",
     "text": [
      "{('W1', 'A', 'C1'): ship_('W1',_'A',_'C1'), ('W2', 'A', 'C1'): ship_('W2',_'A',_'C1'), ('W1', 'B', 'C1'): ship_('W1',_'B',_'C1'), ('W2', 'B', 'C1'): ship_('W2',_'B',_'C1'), ('W1', 'C', 'C1'): ship_('W1',_'C',_'C1'), ('W2', 'C', 'C1'): ship_('W2',_'C',_'C1'), ('W1', 'A', 'C2'): ship_('W1',_'A',_'C2'), ('W2', 'A', 'C2'): ship_('W2',_'A',_'C2'), ('W1', 'B', 'C2'): ship_('W1',_'B',_'C2'), ('W2', 'B', 'C2'): ship_('W2',_'B',_'C2'), ('W1', 'C', 'C2'): ship_('W1',_'C',_'C2'), ('W2', 'C', 'C2'): ship_('W2',_'C',_'C2'), ('W1', 'A', 'C3'): ship_('W1',_'A',_'C3'), ('W2', 'A', 'C3'): ship_('W2',_'A',_'C3'), ('W1', 'B', 'C3'): ship_('W1',_'B',_'C3'), ('W2', 'B', 'C3'): ship_('W2',_'B',_'C3'), ('W1', 'C', 'C3'): ship_('W1',_'C',_'C3'), ('W2', 'C', 'C3'): ship_('W2',_'C',_'C3'), ('W1', 'A', 'C4'): ship_('W1',_'A',_'C4'), ('W2', 'A', 'C4'): ship_('W2',_'A',_'C4'), ('W1', 'B', 'C4'): ship_('W1',_'B',_'C4'), ('W2', 'B', 'C4'): ship_('W2',_'B',_'C4'), ('W1', 'C', 'C4'): ship_('W1',_'C',_'C4'), ('W2', 'C', 'C4'): ship_('W2',_'C',_'C4')}\n"
     ]
    }
   ],
   "source": [
    "print(X)"
   ]
  },
  {
   "cell_type": "code",
   "execution_count": 7,
   "metadata": {},
   "outputs": [
    {
     "name": "stdout",
     "output_type": "stream",
     "text": [
      "81\n",
      "102\n",
      "117\n",
      "189\n",
      "107\n",
      "108\n",
      "92\n",
      "105\n",
      "77\n",
      "132\n",
      "97\n",
      "98\n",
      "110\n",
      "115\n",
      "108\n",
      "200\n",
      "102\n",
      "103\n",
      "130\n",
      "130\n",
      "98\n",
      "192\n",
      "104\n",
      "105\n"
     ]
    }
   ],
   "source": [
    "for c in cust:\n",
    "    for p in prod:\n",
    "        for w in wh:\n",
    "            print(costs.loc[(w, p), c])"
   ]
  },
  {
   "cell_type": "code",
   "execution_count": 8,
   "metadata": {},
   "outputs": [],
   "source": [
    "model += lpSum([ X[(w, p, c)] * costs.loc[(w, p), c] for c in cust for p in prod for w in wh ])"
   ]
  },
  {
   "cell_type": "code",
   "execution_count": 9,
   "metadata": {},
   "outputs": [],
   "source": [
    "for c in cust:\n",
    "    for p in prod:\n",
    "        model += lpSum([X[(w, p, c)] for w in wh]) == demand.loc[p, c]"
   ]
  },
  {
   "cell_type": "code",
   "execution_count": 10,
   "metadata": {},
   "outputs": [],
   "source": [
    "# Define Dependent Demand Constraints\n",
    "model += ((1/10) * lpSum([X[('W1', 'A', c)] for c in cust]) \n",
    "          + (1/15) * lpSum([X[('W1', 'B', c)] for c in cust])\n",
    "          + (1/20) * lpSum([X[('W1', 'C', c)] for c in cust])) <= 4"
   ]
  },
  {
   "cell_type": "code",
   "execution_count": 11,
   "metadata": {},
   "outputs": [
    {
     "data": {
      "text/plain": [
       "Distribution Planning:\n",
       "MINIMIZE\n",
       "81*ship_('W1',_'A',_'C1') + 92*ship_('W1',_'A',_'C2') + 110*ship_('W1',_'A',_'C3') + 130*ship_('W1',_'A',_'C4') + 117*ship_('W1',_'B',_'C1') + 77*ship_('W1',_'B',_'C2') + 108*ship_('W1',_'B',_'C3') + 98*ship_('W1',_'B',_'C4') + 107*ship_('W1',_'C',_'C1') + 97*ship_('W1',_'C',_'C2') + 102*ship_('W1',_'C',_'C3') + 104*ship_('W1',_'C',_'C4') + 102*ship_('W2',_'A',_'C1') + 105*ship_('W2',_'A',_'C2') + 115*ship_('W2',_'A',_'C3') + 130*ship_('W2',_'A',_'C4') + 189*ship_('W2',_'B',_'C1') + 132*ship_('W2',_'B',_'C2') + 200*ship_('W2',_'B',_'C3') + 192*ship_('W2',_'B',_'C4') + 108*ship_('W2',_'C',_'C1') + 98*ship_('W2',_'C',_'C2') + 103*ship_('W2',_'C',_'C3') + 105*ship_('W2',_'C',_'C4') + 0\n",
       "SUBJECT TO\n",
       "_C1: ship_('W1',_'A',_'C1') + ship_('W2',_'A',_'C1') = 10\n",
       "\n",
       "_C2: ship_('W1',_'B',_'C1') + ship_('W2',_'B',_'C1') = 17\n",
       "\n",
       "_C3: ship_('W1',_'C',_'C1') + ship_('W2',_'C',_'C1') = 23\n",
       "\n",
       "_C4: ship_('W1',_'A',_'C2') + ship_('W2',_'A',_'C2') = 8\n",
       "\n",
       "_C5: ship_('W1',_'B',_'C2') + ship_('W2',_'B',_'C2') = 11\n",
       "\n",
       "_C6: ship_('W1',_'C',_'C2') + ship_('W2',_'C',_'C2') = 20\n",
       "\n",
       "_C7: ship_('W1',_'A',_'C3') + ship_('W2',_'A',_'C3') = 28\n",
       "\n",
       "_C8: ship_('W1',_'B',_'C3') + ship_('W2',_'B',_'C3') = 10\n",
       "\n",
       "_C9: ship_('W1',_'C',_'C3') + ship_('W2',_'C',_'C3') = 25\n",
       "\n",
       "_C10: ship_('W1',_'A',_'C4') + ship_('W2',_'A',_'C4') = 0\n",
       "\n",
       "_C11: ship_('W1',_'B',_'C4') + ship_('W2',_'B',_'C4') = 6\n",
       "\n",
       "_C12: ship_('W1',_'C',_'C4') + ship_('W2',_'C',_'C4') = 13\n",
       "\n",
       "_C13: 0.1 ship_('W1',_'A',_'C1') + 0.1 ship_('W1',_'A',_'C2')\n",
       " + 0.1 ship_('W1',_'A',_'C3') + 0.1 ship_('W1',_'A',_'C4')\n",
       " + 0.0666666666667 ship_('W1',_'B',_'C1')\n",
       " + 0.0666666666667 ship_('W1',_'B',_'C2')\n",
       " + 0.0666666666667 ship_('W1',_'B',_'C3')\n",
       " + 0.0666666666667 ship_('W1',_'B',_'C4') + 0.05 ship_('W1',_'C',_'C1')\n",
       " + 0.05 ship_('W1',_'C',_'C2') + 0.05 ship_('W1',_'C',_'C3')\n",
       " + 0.05 ship_('W1',_'C',_'C4') <= 4\n",
       "\n",
       "VARIABLES\n",
       "0 <= ship_('W1',_'A',_'C1') Integer\n",
       "0 <= ship_('W1',_'A',_'C2') Integer\n",
       "0 <= ship_('W1',_'A',_'C3') Integer\n",
       "0 <= ship_('W1',_'A',_'C4') Integer\n",
       "0 <= ship_('W1',_'B',_'C1') Integer\n",
       "0 <= ship_('W1',_'B',_'C2') Integer\n",
       "0 <= ship_('W1',_'B',_'C3') Integer\n",
       "0 <= ship_('W1',_'B',_'C4') Integer\n",
       "0 <= ship_('W1',_'C',_'C1') Integer\n",
       "0 <= ship_('W1',_'C',_'C2') Integer\n",
       "0 <= ship_('W1',_'C',_'C3') Integer\n",
       "0 <= ship_('W1',_'C',_'C4') Integer\n",
       "0 <= ship_('W2',_'A',_'C1') Integer\n",
       "0 <= ship_('W2',_'A',_'C2') Integer\n",
       "0 <= ship_('W2',_'A',_'C3') Integer\n",
       "0 <= ship_('W2',_'A',_'C4') Integer\n",
       "0 <= ship_('W2',_'B',_'C1') Integer\n",
       "0 <= ship_('W2',_'B',_'C2') Integer\n",
       "0 <= ship_('W2',_'B',_'C3') Integer\n",
       "0 <= ship_('W2',_'B',_'C4') Integer\n",
       "0 <= ship_('W2',_'C',_'C1') Integer\n",
       "0 <= ship_('W2',_'C',_'C2') Integer\n",
       "0 <= ship_('W2',_'C',_'C3') Integer\n",
       "0 <= ship_('W2',_'C',_'C4') Integer"
      ]
     },
     "execution_count": 11,
     "metadata": {},
     "output_type": "execute_result"
    }
   ],
   "source": [
    "model"
   ]
  },
  {
   "cell_type": "code",
   "execution_count": 12,
   "metadata": {},
   "outputs": [
    {
     "name": "stdout",
     "output_type": "stream",
     "text": [
      "ship_('W1',_'A',_'C1') = 10.0\n",
      "ship_('W1',_'A',_'C2') = 0.0\n",
      "ship_('W1',_'A',_'C3') = 0.0\n",
      "ship_('W1',_'A',_'C4') = 0.0\n",
      "ship_('W1',_'B',_'C1') = 17.0\n",
      "ship_('W1',_'B',_'C2') = 11.0\n",
      "ship_('W1',_'B',_'C3') = 10.0\n",
      "ship_('W1',_'B',_'C4') = 6.0\n",
      "ship_('W1',_'C',_'C1') = 0.0\n",
      "ship_('W1',_'C',_'C2') = 0.0\n",
      "ship_('W1',_'C',_'C3') = 0.0\n",
      "ship_('W1',_'C',_'C4') = 1.0\n",
      "ship_('W2',_'A',_'C1') = 0.0\n",
      "ship_('W2',_'A',_'C2') = 8.0\n",
      "ship_('W2',_'A',_'C3') = 28.0\n",
      "ship_('W2',_'A',_'C4') = 0.0\n",
      "ship_('W2',_'B',_'C1') = 0.0\n",
      "ship_('W2',_'B',_'C2') = 0.0\n",
      "ship_('W2',_'B',_'C3') = 0.0\n",
      "ship_('W2',_'B',_'C4') = 0.0\n",
      "ship_('W2',_'C',_'C1') = 23.0\n",
      "ship_('W2',_'C',_'C2') = 20.0\n",
      "ship_('W2',_'C',_'C3') = 25.0\n",
      "ship_('W2',_'C',_'C4') = 12.0\n",
      "The optimised objective function=  17757.0\n"
     ]
    }
   ],
   "source": [
    "model.solve()\n",
    "for v in model.variables():\n",
    "    print(v.name, \"=\", v.varValue)\n",
    "\n",
    "# The optimised objective function value is printed to the screen\n",
    "print(\"The optimised objective function= \", value(model.objective))"
   ]
  }
 ],
 "metadata": {
  "kernelspec": {
   "display_name": "Python 3",
   "language": "python",
   "name": "python3"
  },
  "language_info": {
   "codemirror_mode": {
    "name": "ipython",
    "version": 3
   },
   "file_extension": ".py",
   "mimetype": "text/x-python",
   "name": "python",
   "nbconvert_exporter": "python",
   "pygments_lexer": "ipython3",
   "version": "3.7.0"
  }
 },
 "nbformat": 4,
 "nbformat_minor": 2
}
