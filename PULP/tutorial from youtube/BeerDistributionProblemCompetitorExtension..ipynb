{
 "cells": [
  {
   "cell_type": "code",
   "execution_count": 1,
   "metadata": {},
   "outputs": [],
   "source": [
    "# Import PuLP modeler functions\n",
    "from pulp import *\n",
    "\n",
    "# Creates a list of all the supply nodes\n",
    "Warehouses = [\"A\", \"B\", \"C\"]\n",
    "\n",
    "# Creates a dictionary for the number of units of supply for each supply node\n",
    "supply = {\"A\": 1000,\n",
    "          \"B\": 4000,\n",
    "          \"C\": 100}\n",
    "\n",
    "# Creates a list of all demand nodes\n",
    "Bars = [\"1\", \"2\", \"3\", \"4\", \"5\"]\n",
    "\n",
    "# Creates a dictionary for the number of units of demand for each demand node\n",
    "demand = {\"1\":500,\n",
    "          \"2\":900,\n",
    "          \"3\":1800,\n",
    "          \"4\":200,\n",
    "          \"5\":700,}\n",
    "\n",
    "# Creates a list of costs of each transportation path\n",
    "costs = [   #Bars\n",
    "         #1 2 3 4 5\n",
    "         [2,4,5,2,1],#A   Warehouses\n",
    "         [3,1,3,2,3], #B\n",
    "         [0,0,0,0,0]\n",
    "         ]"
   ]
  },
  {
   "cell_type": "code",
   "execution_count": 2,
   "metadata": {},
   "outputs": [],
   "source": [
    "# The cost data is made into a dictionary\n",
    "costs = makeDict([Warehouses,Bars],costs,0)"
   ]
  },
  {
   "cell_type": "code",
   "execution_count": 10,
   "metadata": {},
   "outputs": [
    {
     "data": {
      "text/plain": [
       "defaultdict(<function pulp.pulp.__makeDict.<locals>.<lambda>()>,\n",
       "            {'A': defaultdict(<function pulp.pulp.__makeDict.<locals>.<lambda>()>,\n",
       "                         {'1': 2, '2': 4, '3': 5, '4': 2, '5': 1}),\n",
       "             'B': defaultdict(<function pulp.pulp.__makeDict.<locals>.<lambda>()>,\n",
       "                         {'1': 3, '2': 1, '3': 3, '4': 2, '5': 3}),\n",
       "             'C': defaultdict(<function pulp.pulp.__makeDict.<locals>.<lambda>()>,\n",
       "                         {'1': 0, '2': 0, '3': 0, '4': 0, '5': 0})})"
      ]
     },
     "execution_count": 10,
     "metadata": {},
     "output_type": "execute_result"
    }
   ],
   "source": [
    "costs"
   ]
  },
  {
   "cell_type": "code",
   "execution_count": 3,
   "metadata": {},
   "outputs": [],
   "source": [
    "# Creates the 'prob' variable to contain the problem data\n",
    "prob = LpProblem(\"Beer Distribution Problem\",LpMinimize)"
   ]
  },
  {
   "cell_type": "code",
   "execution_count": 4,
   "metadata": {},
   "outputs": [],
   "source": [
    "# Creates a list of tuples containing all the possible routes for transport\n",
    "Routes = [(w,b) for w in Warehouses for b in Bars]"
   ]
  },
  {
   "cell_type": "code",
   "execution_count": 11,
   "metadata": {
    "scrolled": true
   },
   "outputs": [
    {
     "data": {
      "text/plain": [
       "[('A', '1'),\n",
       " ('A', '2'),\n",
       " ('A', '3'),\n",
       " ('A', '4'),\n",
       " ('A', '5'),\n",
       " ('B', '1'),\n",
       " ('B', '2'),\n",
       " ('B', '3'),\n",
       " ('B', '4'),\n",
       " ('B', '5'),\n",
       " ('C', '1'),\n",
       " ('C', '2'),\n",
       " ('C', '3'),\n",
       " ('C', '4'),\n",
       " ('C', '5')]"
      ]
     },
     "execution_count": 11,
     "metadata": {},
     "output_type": "execute_result"
    }
   ],
   "source": [
    "Routes"
   ]
  },
  {
   "cell_type": "code",
   "execution_count": 12,
   "metadata": {},
   "outputs": [
    {
     "data": {
      "text/plain": [
       "(['A', 'B', 'C'], ['1', '2', '3', '4', '5'])"
      ]
     },
     "execution_count": 12,
     "metadata": {},
     "output_type": "execute_result"
    }
   ],
   "source": [
    "(Warehouses,Bars)"
   ]
  },
  {
   "cell_type": "code",
   "execution_count": 5,
   "metadata": {},
   "outputs": [],
   "source": [
    "# A dictionary called 'Vars' is created to contain the referenced variables(the routes)\n",
    "vars = LpVariable.dicts(\"Route\",(Warehouses,Bars),0,None,LpInteger)"
   ]
  },
  {
   "cell_type": "code",
   "execution_count": 13,
   "metadata": {},
   "outputs": [
    {
     "data": {
      "text/plain": [
       "{'A': {'1': Route_A_1,\n",
       "  '2': Route_A_2,\n",
       "  '3': Route_A_3,\n",
       "  '4': Route_A_4,\n",
       "  '5': Route_A_5},\n",
       " 'B': {'1': Route_B_1,\n",
       "  '2': Route_B_2,\n",
       "  '3': Route_B_3,\n",
       "  '4': Route_B_4,\n",
       "  '5': Route_B_5},\n",
       " 'C': {'1': Route_C_1,\n",
       "  '2': Route_C_2,\n",
       "  '3': Route_C_3,\n",
       "  '4': Route_C_4,\n",
       "  '5': Route_C_5}}"
      ]
     },
     "execution_count": 13,
     "metadata": {},
     "output_type": "execute_result"
    }
   ],
   "source": [
    "vars"
   ]
  },
  {
   "cell_type": "code",
   "execution_count": 17,
   "metadata": {},
   "outputs": [
    {
     "name": "stdout",
     "output_type": "stream",
     "text": [
      "Route_A_1\n",
      "Route_A_2\n",
      "Route_A_3\n",
      "Route_A_4\n",
      "Route_A_5\n",
      "Route_B_1\n",
      "Route_B_2\n",
      "Route_B_3\n",
      "Route_B_4\n",
      "Route_B_5\n",
      "Route_C_1\n",
      "Route_C_2\n",
      "Route_C_3\n",
      "Route_C_4\n",
      "Route_C_5\n"
     ]
    }
   ],
   "source": [
    "for (i,j) in Routes:\n",
    "    print(vars[i][j])"
   ]
  },
  {
   "cell_type": "code",
   "execution_count": 6,
   "metadata": {},
   "outputs": [],
   "source": [
    "# The objective function is added to 'prob' first\n",
    "prob += lpSum([vars[w][b]*costs[w][b] for (w,b) in Routes]), \"Sum_of_Transporting_Costs\""
   ]
  },
  {
   "cell_type": "code",
   "execution_count": 7,
   "metadata": {},
   "outputs": [],
   "source": [
    "# The supply maximum constraints are added to prob for each supply node (warehouse)\n",
    "for w in Warehouses:\n",
    "    prob += lpSum([vars[w][b] for b in Bars])<=supply[w], \"Sum_of_Products_out_of_Warehouse_%s\"%w\n",
    "\n",
    "# The demand minimum constraints are added to prob for each demand node (bar)\n",
    "for b in Bars:\n",
    "    prob += lpSum([vars[w][b] for w in Warehouses])>=demand[b], \"Sum_of_Products_into_Bar%s\"%b"
   ]
  },
  {
   "cell_type": "code",
   "execution_count": 8,
   "metadata": {},
   "outputs": [
    {
     "name": "stdout",
     "output_type": "stream",
     "text": [
      "Status: Optimal\n",
      "Route_A_1 = 300.0\n",
      "Route_A_2 = 0.0\n",
      "Route_A_3 = 0.0\n",
      "Route_A_4 = 0.0\n",
      "Route_A_5 = 700.0\n",
      "Route_B_1 = 200.0\n",
      "Route_B_2 = 900.0\n",
      "Route_B_3 = 1700.0\n",
      "Route_B_4 = 200.0\n",
      "Route_B_5 = 0.0\n",
      "Route_C_1 = 0.0\n",
      "Route_C_2 = 0.0\n",
      "Route_C_3 = 100.0\n",
      "Route_C_4 = 0.0\n",
      "Route_C_5 = 0.0\n"
     ]
    }
   ],
   "source": [
    "# The problem data is written to an .lp file\n",
    "prob.writeLP(\"BeerDistributionProblem.lp\")\n",
    "\n",
    "# The problem is solved using PuLP's choice of Solver\n",
    "prob.solve()\n",
    "\n",
    "# The status of the solution is printed to the screen\n",
    "print(\"Status:\", LpStatus[prob.status])\n",
    "\n",
    "# Each of the variables is printed with it's resolved optimum value\n",
    "for v in prob.variables():\n",
    "    print(v.name, \"=\", v.varValue)"
   ]
  },
  {
   "cell_type": "code",
   "execution_count": 9,
   "metadata": {},
   "outputs": [
    {
     "name": "stdout",
     "output_type": "stream",
     "text": [
      "Total Cost of Transportation =  8300.0\n"
     ]
    }
   ],
   "source": [
    "# The optimised objective function value is printed to the screen    \n",
    "print(\"Total Cost of Transportation = \", value(prob.objective))"
   ]
  }
 ],
 "metadata": {
  "kernelspec": {
   "display_name": "Python 3",
   "language": "python",
   "name": "python3"
  },
  "language_info": {
   "codemirror_mode": {
    "name": "ipython",
    "version": 3
   },
   "file_extension": ".py",
   "mimetype": "text/x-python",
   "name": "python",
   "nbconvert_exporter": "python",
   "pygments_lexer": "ipython3",
   "version": "3.7.0"
  }
 },
 "nbformat": 4,
 "nbformat_minor": 2
}
