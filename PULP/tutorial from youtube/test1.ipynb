{
 "cells": [
  {
   "cell_type": "code",
   "execution_count": 1,
   "metadata": {},
   "outputs": [
    {
     "name": "stdout",
     "output_type": "stream",
     "text": [
      "Status: Optimal\n",
      "x = 4.0\n",
      "y = -1.0\n",
      "z = 6.0\n",
      "objective= 54.0\n"
     ]
    }
   ],
   "source": [
    "# Import PuLP modeler functions\n",
    "from pulp import *\n",
    "\n",
    "# A new LP problem\n",
    "prob = LpProblem(\"test1\", LpMinimize)\n",
    "\n",
    "# Variables\n",
    "# 0 <= x <= 4\n",
    "x = LpVariable(\"x\", 0, 4)\n",
    "# -1 <= y <= 1\n",
    "y = LpVariable(\"y\", -1, 1)\n",
    "# 0 <= z\n",
    "z = LpVariable(\"z\", 0)\n",
    "# Use None for +/- Infinity, i.e. z <= 0 -> LpVariable(\"z\", None, 0)\n",
    "\n",
    "# Objective\n",
    "prob += x + 4*y + 9*z, \"obj\"\n",
    "# (the name at the end is facultative)\n",
    "\n",
    "# Constraints\n",
    "prob += x+y <= 5, \"c1\"\n",
    "prob += x+z >= 10, \"c2\"\n",
    "prob += -y+z == 7, \"c3\"\n",
    "# (the names at the end are facultative)\n",
    "\n",
    "# Write the problem as an LP file\n",
    "prob.writeLP(\"test1.lp\")\n",
    "\n",
    "# Solve the problem using the default solver\n",
    "prob.solve()\n",
    "# Use prob.solve(GLPK()) instead to choose GLPK as the solver\n",
    "# Use GLPK(msg = 0) to suppress GLPK messages\n",
    "# If GLPK is not in your path and you lack the pulpGLPK module,\n",
    "# replace GLPK() with GLPK(\"/path/\")\n",
    "# Where /path/ is the path to glpsol (excluding glpsol itself).\n",
    "# If you want to use CPLEX, use CPLEX() instead of GLPK().\n",
    "# If you want to use XPRESS, use XPRESS() instead of GLPK().\n",
    "# If you want to use COIN, use COIN() instead of GLPK(). In this last case,\n",
    "# two paths may be provided (one to clp, one to cbc).\n",
    "\n",
    "# Print the status of the solved LP\n",
    "print(\"Status:\", LpStatus[prob.status])\n",
    "\n",
    "# Print the value of the variables at the optimum\n",
    "for v in prob.variables():\n",
    "\tprint(v.name, \"=\", v.varValue)\n",
    "\n",
    "# Print the value of the objective\n",
    "print(\"objective=\", value(prob.objective))"
   ]
  }
 ],
 "metadata": {
  "kernelspec": {
   "display_name": "Python 3",
   "language": "python",
   "name": "python3"
  },
  "language_info": {
   "codemirror_mode": {
    "name": "ipython",
    "version": 3
   },
   "file_extension": ".py",
   "mimetype": "text/x-python",
   "name": "python",
   "nbconvert_exporter": "python",
   "pygments_lexer": "ipython3",
   "version": "3.7.0"
  }
 },
 "nbformat": 4,
 "nbformat_minor": 2
}
