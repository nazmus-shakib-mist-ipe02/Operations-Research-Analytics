{
 "cells": [
  {
   "cell_type": "code",
   "execution_count": 1,
   "metadata": {},
   "outputs": [],
   "source": [
    "# Import PuLP modeler functions\n",
    "from pulp import *\n",
    "\n",
    "# A list of all the roll lengths is created\n",
    "LenOpts = [\"5\",\"7\",\"9\"]\n",
    "\n",
    "rollData = {#Length Demand SalePrice\n",
    "              \"5\":   [150,   0.25],\n",
    "              \"7\":   [200,   0.33],\n",
    "              \"9\":   [300,   0.40]}\n",
    "\n",
    "# A list of all the patterns is created\n",
    "PatternNames = [\"A\",\"B\",\"C\"]\n",
    "\n",
    "# Creates a list of the number of rolls in each pattern for each different roll length\n",
    "patterns = [#A B C\n",
    "            [0,2,2],# 5\n",
    "            [1,1,0],# 7\n",
    "            [1,0,1] # 9\n",
    "            ]\n",
    "\n",
    "# A dictionary of the number of cms of trim in each pattern is created\n",
    "trim = {\"A\": 4,\n",
    "        \"B\": 2,\n",
    "        \"C\": 1}\n",
    "\n",
    "# The cost of each 20cm long sponge roll used\n",
    "cost = 1\n",
    "\n",
    "# The sale value of each cm of trim\n",
    "trimValue = 0.04"
   ]
  },
  {
   "cell_type": "code",
   "execution_count": 2,
   "metadata": {},
   "outputs": [],
   "source": [
    "# The rollData is made into separate dictionaries\n",
    "(rollDemand,surplusPrice) = splitDict(rollData)"
   ]
  },
  {
   "cell_type": "code",
   "execution_count": 3,
   "metadata": {},
   "outputs": [],
   "source": [
    "# The pattern data is made into a dictionary\n",
    "patterns = makeDict([LenOpts,PatternNames],patterns,0)"
   ]
  },
  {
   "cell_type": "code",
   "execution_count": 4,
   "metadata": {},
   "outputs": [],
   "source": [
    "# The problem variables of the number of each pattern to make are created\n",
    "pattVars = LpVariable.dicts(\"Patt\",PatternNames,0,None,LpInteger)"
   ]
  },
  {
   "cell_type": "code",
   "execution_count": 5,
   "metadata": {},
   "outputs": [],
   "source": [
    "# The problem variables of the number of surplus rolls for each length are created\n",
    "surplusVars = LpVariable.dicts(\"Surp\",LenOpts,0,None,LpInteger)"
   ]
  },
  {
   "cell_type": "code",
   "execution_count": 6,
   "metadata": {},
   "outputs": [],
   "source": [
    "# The variable 'prob' is created\n",
    "prob = LpProblem(\"Cutting Stock Problem\",LpMinimize)"
   ]
  },
  {
   "cell_type": "code",
   "execution_count": 7,
   "metadata": {},
   "outputs": [],
   "source": [
    "# The objective function is entered: the total number of large rolls used * the fixed cost of each minus the surplus\n",
    "# sales and the trim sales\n",
    "prob += lpSum([pattVars[i]*cost for i in PatternNames]) - lpSum([surplusVars[i]*surplusPrice[i] for i in LenOpts]) \\\n",
    "- lpSum([pattVars[i]*trim[i]*trimValue for i in PatternNames]),\"Net Production Cost\""
   ]
  },
  {
   "cell_type": "code",
   "execution_count": 8,
   "metadata": {},
   "outputs": [],
   "source": [
    "# The demand minimum constraint is entered\n",
    "for i in LenOpts:\n",
    "    prob += lpSum([pattVars[j]*patterns[i][j] for j in PatternNames]) - surplusVars[i]\\\n",
    "    >= rollDemand[i],\"Ensuring enough %s cm rolls\"%i"
   ]
  },
  {
   "cell_type": "code",
   "execution_count": 9,
   "metadata": {},
   "outputs": [
    {
     "name": "stdout",
     "output_type": "stream",
     "text": [
      "Status: Optimal\n",
      "Patt_A = 200.0\n",
      "Patt_B = 0.0\n",
      "Patt_C = 100.0\n",
      "Surp_5 = 50.0\n",
      "Surp_7 = 0.0\n",
      "Surp_9 = 0.0\n",
      "Production Costs =  251.5\n"
     ]
    }
   ],
   "source": [
    "# The problem data is written to an .lp file\n",
    "prob.writeLP(\"SpongeRollProblem.lp\")\n",
    "\n",
    "# The problem is solved using PuLP's choice of Solver\n",
    "prob.solve()\n",
    "\n",
    "# The status of the solution is printed to the screen\n",
    "print(\"Status:\", LpStatus[prob.status])\n",
    "\n",
    "# Each of the variables is printed with it's resolved optimum value\n",
    "for v in prob.variables():\n",
    "    print(v.name, \"=\", v.varValue)\n",
    "\n",
    "# The optimised objective function value is printed to the screen    \n",
    "print(\"Production Costs = \", value(prob.objective))"
   ]
  }
 ],
 "metadata": {
  "kernelspec": {
   "display_name": "Python 3",
   "language": "python",
   "name": "python3"
  },
  "language_info": {
   "codemirror_mode": {
    "name": "ipython",
    "version": 3
   },
   "file_extension": ".py",
   "mimetype": "text/x-python",
   "name": "python",
   "nbconvert_exporter": "python",
   "pygments_lexer": "ipython3",
   "version": "3.7.0"
  }
 },
 "nbformat": 4,
 "nbformat_minor": 2
}
