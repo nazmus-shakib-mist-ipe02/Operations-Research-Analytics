{
 "cells": [
  {
   "cell_type": "code",
   "execution_count": 1,
   "metadata": {},
   "outputs": [
    {
     "ename": "ModuleNotFoundError",
     "evalue": "No module named '__main__.CG'; '__main__' is not a package",
     "output_type": "error",
     "traceback": [
      "\u001b[1;31m---------------------------------------------------------------------------\u001b[0m",
      "\u001b[1;31mModuleNotFoundError\u001b[0m                       Traceback (most recent call last)",
      "\u001b[1;32m<ipython-input-1-17946d7f99d3>\u001b[0m in \u001b[0;36m<module>\u001b[1;34m()\u001b[0m\n\u001b[0;32m      1\u001b[0m \u001b[1;31m# Import Column Generation functions\u001b[0m\u001b[1;33m\u001b[0m\u001b[1;33m\u001b[0m\u001b[0m\n\u001b[1;32m----> 2\u001b[1;33m \u001b[1;32mfrom\u001b[0m \u001b[1;33m.\u001b[0m\u001b[0mCG\u001b[0m \u001b[1;32mimport\u001b[0m \u001b[1;33m*\u001b[0m\u001b[1;33m\u001b[0m\u001b[0m\n\u001b[0m\u001b[0;32m      3\u001b[0m \u001b[1;33m\u001b[0m\u001b[0m\n\u001b[0;32m      4\u001b[0m \u001b[1;31m# The roll data is created\u001b[0m\u001b[1;33m\u001b[0m\u001b[1;33m\u001b[0m\u001b[0m\n\u001b[0;32m      5\u001b[0m rollData = {#Length Demand SalePrice\n",
      "\u001b[1;31mModuleNotFoundError\u001b[0m: No module named '__main__.CG'; '__main__' is not a package"
     ]
    }
   ],
   "source": [
    "# Import Column Generation functions\n",
    "from .CG import *\n",
    "\n",
    "# The roll data is created\n",
    "rollData = {#Length Demand SalePrice\n",
    "            \"5\":   [150,   0.25],\n",
    "            \"7\":   [200,   0.33],\n",
    "            \"9\":   [300,   0.40]}\n",
    "\n",
    "# The boolean variable morePatterns is set to True to test for more patterns\n",
    "morePatterns = True\n",
    "\n",
    "# A list of starting patterns is created\n",
    "patternslist = [[4,0,0],[0,2,0],[0,0,2]]\n",
    "\n",
    "# The starting patterns are instantiated with the Pattern class\n",
    "Patterns = []\n",
    "for i in patternslist:\n",
    "    Patterns += [Pattern(\"P\" + str(len(Patterns)), i)]\n",
    "\n",
    "# This loop will be repeated until morePatterns is set to False\n",
    "while morePatterns == True:\n",
    "    \n",
    "    # Solve the problem as a Relaxed LP\n",
    "    duals = masterSolve(Patterns, rollData)\n",
    "    \n",
    "    # Find another pattern\n",
    "    Patterns, morePatterns = subSolve(Patterns, duals)\n",
    "        \n",
    "# Re-solve as an Integer Problem\n",
    "solution, varsdict = masterSolve(Patterns, rollData, relax = False)\n",
    "\n",
    "# Display Solution\n",
    "for i,j in list(varsdict.items()):\n",
    "    print(i, \"=\", j)\n",
    "    \n",
    "print(\"objective = \", solution)"
   ]
  },
  {
   "cell_type": "code",
   "execution_count": null,
   "metadata": {},
   "outputs": [],
   "source": []
  }
 ],
 "metadata": {
  "kernelspec": {
   "display_name": "Python 3",
   "language": "python",
   "name": "python3"
  },
  "language_info": {
   "codemirror_mode": {
    "name": "ipython",
    "version": 3
   },
   "file_extension": ".py",
   "mimetype": "text/x-python",
   "name": "python",
   "nbconvert_exporter": "python",
   "pygments_lexer": "ipython3",
   "version": "3.7.0"
  }
 },
 "nbformat": 4,
 "nbformat_minor": 2
}
