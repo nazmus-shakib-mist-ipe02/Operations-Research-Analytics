{
 "cells": [
  {
   "cell_type": "code",
   "execution_count": 1,
   "metadata": {},
   "outputs": [
    {
     "name": "stdout",
     "output_type": "stream",
     "text": [
      "Status: Optimal\n",
      "s_0 = 0.0\n",
      "s_1 = 0.0\n",
      "s_2 = 0.0\n",
      "w_0 = 2.5\n",
      "w_1 = 0.0\n",
      "w_2 = 0.5\n",
      "x_0 = 1.0\n",
      "x_1 = 0.0\n",
      "x_10 = 0.0\n",
      "x_11 = 1.0\n",
      "x_12 = 1.0\n",
      "x_13 = 0.0\n",
      "x_14 = 1.0\n",
      "x_15 = 0.0\n",
      "x_16 = 0.0\n",
      "x_17 = 1.0\n",
      "x_18 = 0.0\n",
      "x_19 = 0.0\n",
      "x_2 = 1.0\n",
      "x_3 = 1.0\n",
      "x_4 = 1.0\n",
      "x_5 = 0.0\n",
      "x_6 = 0.0\n",
      "x_7 = 1.0\n",
      "x_8 = 1.0\n",
      "x_9 = 0.0\n",
      "objective= 3.0\n"
     ]
    }
   ],
   "source": [
    "# Import PuLP modeler functions\n",
    "from pulp import *\n",
    "\n",
    "# Import random number generation functions\n",
    "from random import *\n",
    "\n",
    "# A new LP problem\n",
    "prob = LpProblem(\"test5\", LpMinimize)\n",
    "\n",
    "# Parameters\n",
    "# Number of constraints\n",
    "m = 3\n",
    "# Size of the integers involved\n",
    "D = 100\n",
    "\n",
    "# Number of variables\n",
    "n = 10*(m-1)\n",
    "\n",
    "# A vector of n binary variables\n",
    "x = LpVariable.matrix(\"x\", list(range(n)), 0, 1, LpInteger)\n",
    "\n",
    "# Slacks\n",
    "s = LpVariable.matrix(\"s\", list(range(m)), 0)\n",
    "w = LpVariable.matrix(\"w\", list(range(m)), 0)\n",
    "\n",
    "# Objective\n",
    "prob += lpSum(s) + lpSum(w)\n",
    "\n",
    "# Constraints\n",
    "d = [[randint(0,D) for i in range(n)] for j in range(m)]\n",
    "for j in range(m):\n",
    "\tprob += lpDot(d[j], x) + s[j] - w[j] == lpSum(d[j])/2\n",
    "\n",
    "# Resolution\n",
    "prob.solve()\n",
    "\n",
    "# Print the status of the solved LP\n",
    "print(\"Status:\", LpStatus[prob.status])\n",
    "\n",
    "# Print the value of the variables at the optimum\n",
    "for v in prob.variables():\n",
    "\tprint(v.name, \"=\", v.varValue)\n",
    "\n",
    "# Print the value of the objective\n",
    "print(\"objective=\", value(prob.objective))"
   ]
  }
 ],
 "metadata": {
  "kernelspec": {
   "display_name": "Python 3",
   "language": "python",
   "name": "python3"
  },
  "language_info": {
   "codemirror_mode": {
    "name": "ipython",
    "version": 3
   },
   "file_extension": ".py",
   "mimetype": "text/x-python",
   "name": "python",
   "nbconvert_exporter": "python",
   "pygments_lexer": "ipython3",
   "version": "3.7.0"
  }
 },
 "nbformat": 4,
 "nbformat_minor": 2
}
