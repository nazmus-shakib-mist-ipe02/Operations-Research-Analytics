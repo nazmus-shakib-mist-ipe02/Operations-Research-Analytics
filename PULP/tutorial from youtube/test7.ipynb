{
 "cells": [
  {
   "cell_type": "code",
   "execution_count": 1,
   "metadata": {},
   "outputs": [
    {
     "name": "stdout",
     "output_type": "stream",
     "text": [
      "Status: Optimal\n",
      "x = 4.0 \tReduced Cost = 0.0\n",
      "y = -1.0 \tReduced Cost = 12.0\n",
      "z = 6.0 \tReduced Cost = 0.0\n",
      "objective= 54.0\n",
      "\n",
      "Sensitivity Analysis\n",
      "Constraint\t\tShadow Price\tSlack\n",
      "c1 : x + y <= 5 \t 0.0 \t\t 2.0\n",
      "c2 : x + z >= 10 \t 1.0 \t\t -0.0\n",
      "c3 : -y + z = 7 \t 8.0 \t\t -0.0\n"
     ]
    }
   ],
   "source": [
    "# Import PuLP modeler functions\n",
    "from pulp import *\n",
    "\n",
    "# A new LP problem\n",
    "prob = LpProblem(\"test7\", LpMinimize)\n",
    "\n",
    "x = LpVariable(\"x\", 0, 4)\n",
    "\n",
    "y = LpVariable(\"y\", -1, 1)\n",
    "\n",
    "z = LpVariable(\"z\", 0)\n",
    "\n",
    "prob += x + 4*y + 9*z, \"obj\"\n",
    "\n",
    "prob += x + y <= 5, \"c1\"\n",
    "prob += x + z >= 10,\"c2\"\n",
    "prob += -y+ z == 7,\"c3\"\n",
    "\n",
    "prob.writeLP(\"test7.lp\")\n",
    "\n",
    "prob.solve()\n",
    "\n",
    "print(\"Status:\", LpStatus[prob.status])\n",
    "\n",
    "for v in prob.variables():\n",
    "\tprint(v.name, \"=\", v.varValue, \"\\tReduced Cost =\", v.dj)\n",
    "\n",
    "print(\"objective=\", value(prob.objective))\n",
    "\n",
    "print(\"\\nSensitivity Analysis\\nConstraint\\t\\tShadow Price\\tSlack\")\n",
    "for name, c in list(prob.constraints.items()):\n",
    "\tprint(name, \":\", c, \"\\t\", c.pi, \"\\t\\t\", c.slack)"
   ]
  },
  {
   "cell_type": "code",
   "execution_count": null,
   "metadata": {},
   "outputs": [],
   "source": []
  }
 ],
 "metadata": {
  "kernelspec": {
   "display_name": "Python 3",
   "language": "python",
   "name": "python3"
  },
  "language_info": {
   "codemirror_mode": {
    "name": "ipython",
    "version": 3
   },
   "file_extension": ".py",
   "mimetype": "text/x-python",
   "name": "python",
   "nbconvert_exporter": "python",
   "pygments_lexer": "ipython3",
   "version": "3.7.0"
  }
 },
 "nbformat": 4,
 "nbformat_minor": 2
}
