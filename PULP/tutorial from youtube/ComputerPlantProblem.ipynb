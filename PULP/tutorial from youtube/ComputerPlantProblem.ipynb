{
 "cells": [
  {
   "cell_type": "code",
   "execution_count": 9,
   "metadata": {},
   "outputs": [],
   "source": [
    "# Import PuLP modeler functions\n",
    "from pulp import *\n",
    "\n",
    "# Creates a list of all the supply nodes\n",
    "Plants = [\"San Francisco\",\n",
    "          \"Los Angeles\",\n",
    "          \"Phoenix\",\n",
    "          \"Denver\"]\n",
    "\n",
    "# Creates a dictionary of lists for the number of units of supply at\n",
    "# each plant and the fixed cost of running each plant\n",
    "supplyData = {#Plant     Supply  Fixed Cost\n",
    "          \"San Francisco\":[1700, 70000],\n",
    "          \"Los Angeles\"  :[2000, 70000],\n",
    "          \"Phoenix\"      :[1700, 65000],\n",
    "          \"Denver\"       :[2000, 70000]\n",
    "          }\n",
    "\n",
    "# Creates a list of all demand nodes\n",
    "Stores = [\"San Diego\",\n",
    "          \"Barstow\",\n",
    "          \"Tucson\",\n",
    "          \"Dallas\"]\n",
    "\n",
    "# Creates a dictionary for the number of units of demand at each store\n",
    "demand = { #Store    Demand\n",
    "          \"San Diego\":1700,\n",
    "          \"Barstow\"  :1000,\n",
    "          \"Tucson\"   :1500,\n",
    "          \"Dallas\"   :1200\n",
    "          }\n",
    "\n",
    "# Creates a list of costs for each transportation path\n",
    "costs = [  #Stores\n",
    "         #SD BA TU DA\n",
    "         [5, 3, 2, 6], #SF\n",
    "         [4, 7, 8, 10],#LA    Plants\n",
    "         [6, 5, 3, 8], #PH\n",
    "         [9, 8, 6, 5]  #DE         \n",
    "]"
   ]
  },
  {
   "cell_type": "code",
   "execution_count": 10,
   "metadata": {},
   "outputs": [],
   "source": [
    "# Creates a list of tuples containing all the possible routes for transport\n",
    "Routes = [(p,s) for p in Plants for s in Stores]"
   ]
  },
  {
   "cell_type": "code",
   "execution_count": 11,
   "metadata": {},
   "outputs": [
    {
     "data": {
      "text/plain": [
       "[('San Francisco', 'San Diego'),\n",
       " ('San Francisco', 'Barstow'),\n",
       " ('San Francisco', 'Tucson'),\n",
       " ('San Francisco', 'Dallas'),\n",
       " ('Los Angeles', 'San Diego'),\n",
       " ('Los Angeles', 'Barstow'),\n",
       " ('Los Angeles', 'Tucson'),\n",
       " ('Los Angeles', 'Dallas'),\n",
       " ('Phoenix', 'San Diego'),\n",
       " ('Phoenix', 'Barstow'),\n",
       " ('Phoenix', 'Tucson'),\n",
       " ('Phoenix', 'Dallas'),\n",
       " ('Denver', 'San Diego'),\n",
       " ('Denver', 'Barstow'),\n",
       " ('Denver', 'Tucson'),\n",
       " ('Denver', 'Dallas')]"
      ]
     },
     "execution_count": 11,
     "metadata": {},
     "output_type": "execute_result"
    }
   ],
   "source": [
    "Routes"
   ]
  },
  {
   "cell_type": "code",
   "execution_count": 12,
   "metadata": {},
   "outputs": [],
   "source": [
    "# Splits the dictionaries to be more understandable\n",
    "(supply,fixedCost) = splitDict(supplyData)"
   ]
  },
  {
   "cell_type": "code",
   "execution_count": 13,
   "metadata": {},
   "outputs": [
    {
     "data": {
      "text/plain": [
       "({'San Francisco': 1700, 'Los Angeles': 2000, 'Phoenix': 1700, 'Denver': 2000},\n",
       " {'San Francisco': 70000,\n",
       "  'Los Angeles': 70000,\n",
       "  'Phoenix': 65000,\n",
       "  'Denver': 70000})"
      ]
     },
     "execution_count": 13,
     "metadata": {},
     "output_type": "execute_result"
    }
   ],
   "source": [
    "(supply,fixedCost)"
   ]
  },
  {
   "cell_type": "code",
   "execution_count": 14,
   "metadata": {},
   "outputs": [],
   "source": [
    "# The cost data is made into a dictionary\n",
    "costs = makeDict([Plants,Stores],costs,0)"
   ]
  },
  {
   "cell_type": "code",
   "execution_count": 15,
   "metadata": {},
   "outputs": [
    {
     "data": {
      "text/plain": [
       "defaultdict(<function pulp.pulp.__makeDict.<locals>.<lambda>()>,\n",
       "            {'San Francisco': defaultdict(<function pulp.pulp.__makeDict.<locals>.<lambda>()>,\n",
       "                         {'San Diego': 5,\n",
       "                          'Barstow': 3,\n",
       "                          'Tucson': 2,\n",
       "                          'Dallas': 6}),\n",
       "             'Los Angeles': defaultdict(<function pulp.pulp.__makeDict.<locals>.<lambda>()>,\n",
       "                         {'San Diego': 4,\n",
       "                          'Barstow': 7,\n",
       "                          'Tucson': 8,\n",
       "                          'Dallas': 10}),\n",
       "             'Phoenix': defaultdict(<function pulp.pulp.__makeDict.<locals>.<lambda>()>,\n",
       "                         {'San Diego': 6,\n",
       "                          'Barstow': 5,\n",
       "                          'Tucson': 3,\n",
       "                          'Dallas': 8}),\n",
       "             'Denver': defaultdict(<function pulp.pulp.__makeDict.<locals>.<lambda>()>,\n",
       "                         {'San Diego': 9,\n",
       "                          'Barstow': 8,\n",
       "                          'Tucson': 6,\n",
       "                          'Dallas': 5})})"
      ]
     },
     "execution_count": 15,
     "metadata": {},
     "output_type": "execute_result"
    }
   ],
   "source": [
    "costs"
   ]
  },
  {
   "cell_type": "code",
   "execution_count": 16,
   "metadata": {},
   "outputs": [],
   "source": [
    "# Creates the problem variables of the Flow on the Arcs\n",
    "flow = LpVariable.dicts(\"Route\",(Plants,Stores),0,None,LpInteger)"
   ]
  },
  {
   "cell_type": "code",
   "execution_count": 17,
   "metadata": {},
   "outputs": [
    {
     "data": {
      "text/plain": [
       "{'San Francisco': {'San Diego': Route_San_Francisco_San_Diego,\n",
       "  'Barstow': Route_San_Francisco_Barstow,\n",
       "  'Tucson': Route_San_Francisco_Tucson,\n",
       "  'Dallas': Route_San_Francisco_Dallas},\n",
       " 'Los Angeles': {'San Diego': Route_Los_Angeles_San_Diego,\n",
       "  'Barstow': Route_Los_Angeles_Barstow,\n",
       "  'Tucson': Route_Los_Angeles_Tucson,\n",
       "  'Dallas': Route_Los_Angeles_Dallas},\n",
       " 'Phoenix': {'San Diego': Route_Phoenix_San_Diego,\n",
       "  'Barstow': Route_Phoenix_Barstow,\n",
       "  'Tucson': Route_Phoenix_Tucson,\n",
       "  'Dallas': Route_Phoenix_Dallas},\n",
       " 'Denver': {'San Diego': Route_Denver_San_Diego,\n",
       "  'Barstow': Route_Denver_Barstow,\n",
       "  'Tucson': Route_Denver_Tucson,\n",
       "  'Dallas': Route_Denver_Dallas}}"
      ]
     },
     "execution_count": 17,
     "metadata": {},
     "output_type": "execute_result"
    }
   ],
   "source": [
    "flow"
   ]
  },
  {
   "cell_type": "code",
   "execution_count": 18,
   "metadata": {},
   "outputs": [],
   "source": [
    "# Creates the master problem variables of whether to build the Plants or not\n",
    "build = LpVariable.dicts(\"BuildaPlant\",Plants,0,1,LpInteger)"
   ]
  },
  {
   "cell_type": "code",
   "execution_count": 20,
   "metadata": {},
   "outputs": [
    {
     "data": {
      "text/plain": [
       "{'San Francisco': BuildaPlant_San_Francisco,\n",
       " 'Los Angeles': BuildaPlant_Los_Angeles,\n",
       " 'Phoenix': BuildaPlant_Phoenix,\n",
       " 'Denver': BuildaPlant_Denver}"
      ]
     },
     "execution_count": 20,
     "metadata": {},
     "output_type": "execute_result"
    }
   ],
   "source": [
    "build"
   ]
  },
  {
   "cell_type": "code",
   "execution_count": 21,
   "metadata": {},
   "outputs": [],
   "source": [
    "# Creates the 'prob' variable to contain the problem data\n",
    "prob = LpProblem(\"Computer Plant Problem\",LpMinimize)"
   ]
  },
  {
   "cell_type": "code",
   "execution_count": 22,
   "metadata": {},
   "outputs": [],
   "source": [
    "# The objective function is added to prob - The sum of the transportation costs and the building fixed costs\n",
    "prob += lpSum([flow[p][s]*costs[p][s] for (p,s) in Routes])+lpSum([fixedCost[p]*build[p] for p in Plants]),\"Total Costs\""
   ]
  },
  {
   "cell_type": "code",
   "execution_count": 23,
   "metadata": {},
   "outputs": [],
   "source": [
    "# The Supply maximum constraints are added for each supply node (plant)\n",
    "for p in Plants:\n",
    "    prob += lpSum([flow[p][s] for s in Stores])<=supply[p]*build[p], \"Sum of Products out of Plant %s\"%p\n",
    "\n",
    "# The Demand minimum constraints are added for each demand node (store)\n",
    "for s in Stores:\n",
    "    prob += lpSum([flow[p][s] for p in Plants])>=demand[s], \"Sum of Products into Stores %s\"%s"
   ]
  },
  {
   "cell_type": "code",
   "execution_count": 24,
   "metadata": {},
   "outputs": [
    {
     "name": "stdout",
     "output_type": "stream",
     "text": [
      "Status: Optimal\n",
      "BuildaPlant_Denver = 0.0\n",
      "BuildaPlant_Los_Angeles = 1.0\n",
      "BuildaPlant_Phoenix = 1.0\n",
      "BuildaPlant_San_Francisco = 1.0\n",
      "Route_Denver_Barstow = 0.0\n",
      "Route_Denver_Dallas = 0.0\n",
      "Route_Denver_San_Diego = 0.0\n",
      "Route_Denver_Tucson = 0.0\n",
      "Route_Los_Angeles_Barstow = 0.0\n",
      "Route_Los_Angeles_Dallas = 300.0\n",
      "Route_Los_Angeles_San_Diego = 1700.0\n",
      "Route_Los_Angeles_Tucson = 0.0\n",
      "Route_Phoenix_Barstow = 0.0\n",
      "Route_Phoenix_Dallas = 200.0\n",
      "Route_Phoenix_San_Diego = 0.0\n",
      "Route_Phoenix_Tucson = 1500.0\n",
      "Route_San_Francisco_Barstow = 1000.0\n",
      "Route_San_Francisco_Dallas = 700.0\n",
      "Route_San_Francisco_San_Diego = 0.0\n",
      "Route_San_Francisco_Tucson = 0.0\n",
      "Total Costs =  228100.0\n"
     ]
    }
   ],
   "source": [
    "# The problem data is written to an .lp file\n",
    "prob.writeLP(\"ComputerPlantProblem.lp\")\n",
    "\n",
    "# The problem is solved using PuLP's choice of Solver\n",
    "prob.solve()\n",
    "\n",
    "# The status of the solution is printed to the screen\n",
    "print(\"Status:\", LpStatus[prob.status])\n",
    "\n",
    "# Each of the variables is printed with it's resolved optimum value\n",
    "for v in prob.variables():\n",
    "    print(v.name, \"=\", v.varValue)\n",
    "\n",
    "# The optimised objective function value is printed to the screen    \n",
    "print(\"Total Costs = \", value(prob.objective))"
   ]
  }
 ],
 "metadata": {
  "kernelspec": {
   "display_name": "Python 3",
   "language": "python",
   "name": "python3"
  },
  "language_info": {
   "codemirror_mode": {
    "name": "ipython",
    "version": 3
   },
   "file_extension": ".py",
   "mimetype": "text/x-python",
   "name": "python",
   "nbconvert_exporter": "python",
   "pygments_lexer": "ipython3",
   "version": "3.7.0"
  }
 },
 "nbformat": 4,
 "nbformat_minor": 2
}
