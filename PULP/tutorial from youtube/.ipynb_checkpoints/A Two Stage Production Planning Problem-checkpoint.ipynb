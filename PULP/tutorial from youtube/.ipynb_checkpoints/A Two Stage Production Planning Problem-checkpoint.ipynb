{
 "cells": [
  {
   "cell_type": "code",
   "execution_count": 1,
   "metadata": {},
   "outputs": [],
   "source": [
    "import pulp"
   ]
  },
  {
   "cell_type": "code",
   "execution_count": 2,
   "metadata": {},
   "outputs": [],
   "source": [
    "products = ['wrenches', 'pliers']\n",
    "price = [130, 100]\n",
    "\n",
    "capacity_ub = [15, 16]\n",
    "steel = [1.5, 1]\n",
    "molding = [1, 1]\n",
    "assembly = [0.3, 0.5]\n",
    "\n",
    "steelprice = 58\n",
    "capsteel = 27\n",
    "capmolding = 21\n",
    "LB = [0,0]"
   ]
  },
  {
   "cell_type": "code",
   "execution_count": 3,
   "metadata": {},
   "outputs": [],
   "source": [
    "scenarios = [0, 1, 2, 3]\n",
    "pscenario = [0.25, 0.25, 0.25, 0.25]\n",
    "wrenchearnings = [160, 160, 90, 90]\n",
    "plierearnings = [100, 100, 100, 100]\n",
    "capassembly = [8, 10, 8, 10]"
   ]
  },
  {
   "cell_type": "code",
   "execution_count": 4,
   "metadata": {},
   "outputs": [],
   "source": [
    "production = [(j,i) for j in scenarios for i in products]\n",
    "pricescenario = [[wrenchearnings[j], plierearnings[j]] for j in scenarios]\n",
    "priceitems = [item for sublist in pricescenario for item in sublist]"
   ]
  },
  {
   "cell_type": "code",
   "execution_count": 5,
   "metadata": {},
   "outputs": [
    {
     "name": "stdout",
     "output_type": "stream",
     "text": [
      "[(0, 'wrenches'), (0, 'pliers'), (1, 'wrenches'), (1, 'pliers'), (2, 'wrenches'), (2, 'pliers'), (3, 'wrenches'), (3, 'pliers')]\n",
      "[[160, 100], [160, 100], [90, 100], [90, 100]]\n",
      "[160, 100, 160, 100, 90, 100, 90, 100]\n"
     ]
    }
   ],
   "source": [
    "print(production)\n",
    "print(pricescenario)\n",
    "print(priceitems)"
   ]
  },
  {
   "cell_type": "code",
   "execution_count": 6,
   "metadata": {},
   "outputs": [],
   "source": [
    "price_dict = dict(zip(production, priceitems))\n",
    "capacity_dict = dict(zip(products, capacity_ub*4))\n",
    "steel_dict = dict(zip(products, steel))\n",
    "molding_dict = dict(zip(products, molding))\n",
    "assembly_dict = dict(zip(products, assembly))"
   ]
  },
  {
   "cell_type": "code",
   "execution_count": 7,
   "metadata": {},
   "outputs": [
    {
     "name": "stdout",
     "output_type": "stream",
     "text": [
      "{(0, 'wrenches'): 160, (0, 'pliers'): 100, (1, 'wrenches'): 160, (1, 'pliers'): 100, (2, 'wrenches'): 90, (2, 'pliers'): 100, (3, 'wrenches'): 90, (3, 'pliers'): 100}\n",
      "\n",
      "\n",
      "{'wrenches': 15, 'pliers': 16}\n",
      "{'wrenches': 1.5, 'pliers': 1}\n",
      "{'wrenches': 1, 'pliers': 1}\n",
      "{'wrenches': 0.3, 'pliers': 0.5}\n"
     ]
    }
   ],
   "source": [
    "print(price_dict)\n",
    "print('\\n')\n",
    "\n",
    "print(capacity_dict)\n",
    "print(steel_dict)\n",
    "print(molding_dict)\n",
    "print(assembly_dict)"
   ]
  },
  {
   "cell_type": "code",
   "execution_count": 8,
   "metadata": {},
   "outputs": [],
   "source": [
    "production_vars = pulp.LpVariable.dicts(\"production\", (scenarios, products), lowBound=0, cat='Continuous')\n",
    "steelpurchase = pulp.LpVariable(\"steelpurchase\", lowBound=0, cat='Continuous')"
   ]
  },
  {
   "cell_type": "code",
   "execution_count": 9,
   "metadata": {},
   "outputs": [
    {
     "data": {
      "text/plain": [
       "{0: {'wrenches': production_0_wrenches, 'pliers': production_0_pliers},\n",
       " 1: {'wrenches': production_1_wrenches, 'pliers': production_1_pliers},\n",
       " 2: {'wrenches': production_2_wrenches, 'pliers': production_2_pliers},\n",
       " 3: {'wrenches': production_3_wrenches, 'pliers': production_3_pliers}}"
      ]
     },
     "execution_count": 9,
     "metadata": {},
     "output_type": "execute_result"
    }
   ],
   "source": [
    "production_vars"
   ]
  },
  {
   "cell_type": "code",
   "execution_count": 10,
   "metadata": {},
   "outputs": [
    {
     "data": {
      "text/plain": [
       "steelpurchase"
      ]
     },
     "execution_count": 10,
     "metadata": {},
     "output_type": "execute_result"
    }
   ],
   "source": [
    "steelpurchase"
   ]
  },
  {
   "cell_type": "code",
   "execution_count": 11,
   "metadata": {},
   "outputs": [],
   "source": [
    "gemstoneprob = pulp.LpProblem(\"The Gemstone Tool Problem\",pulp.LpMaximize)"
   ]
  },
  {
   "cell_type": "code",
   "execution_count": 12,
   "metadata": {},
   "outputs": [
    {
     "name": "stdout",
     "output_type": "stream",
     "text": [
      "{(0, 'wrenches'): 160, (0, 'pliers'): 100, (1, 'wrenches'): 160, (1, 'pliers'): 100, (2, 'wrenches'): 90, (2, 'pliers'): 100, (3, 'wrenches'): 90, (3, 'pliers'): 100}\n",
      "\n",
      "\n",
      "[0.25, 0.25, 0.25, 0.25]\n",
      "\n",
      "\n",
      "[(0, 'wrenches'), (0, 'pliers'), (1, 'wrenches'), (1, 'pliers'), (2, 'wrenches'), (2, 'pliers'), (3, 'wrenches'), (3, 'pliers')]\n"
     ]
    }
   ],
   "source": [
    "print(price_dict)\n",
    "print('\\n')\n",
    "print(pscenario)\n",
    "print('\\n')\n",
    "\n",
    "print(production)"
   ]
  },
  {
   "cell_type": "code",
   "execution_count": 13,
   "metadata": {},
   "outputs": [
    {
     "data": {
      "text/plain": [
       "{0: {'wrenches': production_0_wrenches, 'pliers': production_0_pliers},\n",
       " 1: {'wrenches': production_1_wrenches, 'pliers': production_1_pliers},\n",
       " 2: {'wrenches': production_2_wrenches, 'pliers': production_2_pliers},\n",
       " 3: {'wrenches': production_3_wrenches, 'pliers': production_3_pliers}}"
      ]
     },
     "execution_count": 13,
     "metadata": {},
     "output_type": "execute_result"
    }
   ],
   "source": [
    "production_vars"
   ]
  },
  {
   "cell_type": "code",
   "execution_count": 14,
   "metadata": {},
   "outputs": [
    {
     "name": "stdout",
     "output_type": "stream",
     "text": [
      "(0, 'wrenches')\n",
      "(0, 'pliers')\n",
      "(1, 'wrenches')\n",
      "(1, 'pliers')\n",
      "(2, 'wrenches')\n",
      "(2, 'pliers')\n",
      "(3, 'wrenches')\n",
      "(3, 'pliers')\n"
     ]
    }
   ],
   "source": [
    "for i in  production:\n",
    "    print(i)"
   ]
  },
  {
   "cell_type": "code",
   "execution_count": 21,
   "metadata": {},
   "outputs": [
    {
     "ename": "TypeError",
     "evalue": "'dict' object is not callable",
     "output_type": "error",
     "traceback": [
      "\u001b[1;31m---------------------------------------------------------------------------\u001b[0m",
      "\u001b[1;31mTypeError\u001b[0m                                 Traceback (most recent call last)",
      "\u001b[1;32m<ipython-input-21-6224fbac765f>\u001b[0m in \u001b[0;36m<module>\u001b[1;34m()\u001b[0m\n\u001b[0;32m      1\u001b[0m \u001b[1;32mfor\u001b[0m \u001b[0mi\u001b[0m \u001b[1;32min\u001b[0m  \u001b[0mproduction\u001b[0m\u001b[1;33m:\u001b[0m\u001b[1;33m\u001b[0m\u001b[0m\n\u001b[1;32m----> 2\u001b[1;33m     \u001b[0mproduction_vars\u001b[0m\u001b[1;33m(\u001b[0m\u001b[0mi\u001b[0m\u001b[1;33m)\u001b[0m\u001b[1;33m\u001b[0m\u001b[0m\n\u001b[0m",
      "\u001b[1;31mTypeError\u001b[0m: 'dict' object is not callable"
     ]
    }
   ],
   "source": [
    "for i in  production:\n",
    "    production_vars(i)"
   ]
  },
  {
   "cell_type": "code",
   "execution_count": null,
   "metadata": {},
   "outputs": [],
   "source": []
  },
  {
   "cell_type": "code",
   "execution_count": 15,
   "metadata": {},
   "outputs": [],
   "source": [
    "gemstoneprob += pulp.lpSum([ pscenario[j] * (price_dict[(j,i)] * production_vars[j][i]) for (j,i) in  production ] - steelpurchase * steelprice)"
   ]
  },
  {
   "cell_type": "code",
   "execution_count": 16,
   "metadata": {},
   "outputs": [],
   "source": [
    "for j in scenarios:\n",
    "    gemstoneprob += pulp.lpSum([steel_dict[i] * production_vars[j][i] \\\n",
    "                                for i in products]) - \\\n",
    "                                steelpurchase <= 0, (\"Steel capacity\" + str(j))\n",
    "    gemstoneprob += pulp.lpSum([molding_dict[i] * production_vars[j][i] \\\n",
    "                                for i in products]) <= capmolding, \\\n",
    "                                (\"molding capacity\" +str(j))\n",
    "    gemstoneprob += pulp.lpSum([assembly_dict[i] * production_vars[j][i] \\\n",
    "                                for i in products]) <= capassembly[j], \\\n",
    "                                (\"assembly capacity\" +str(j))\n",
    "    for i in products:\n",
    "        gemstoneprob += production_vars[j][i] <= capacity_dict[i], \\\n",
    "                                            (\"capacity \" + str(i) + str(j))\n"
   ]
  },
  {
   "cell_type": "code",
   "execution_count": 17,
   "metadata": {},
   "outputs": [
    {
     "name": "stdout",
     "output_type": "stream",
     "text": [
      "The Gemstone Tool Problem:\n",
      "MAXIMIZE\n",
      "25.0*production_0_pliers + 40.0*production_0_wrenches + 25.0*production_1_pliers + 40.0*production_1_wrenches + 25.0*production_2_pliers + 22.5*production_2_wrenches + 25.0*production_3_pliers + 22.5*production_3_wrenches + -58*steelpurchase + 0.0\n",
      "SUBJECT TO\n",
      "Steel_capacity0: production_0_pliers + 1.5 production_0_wrenches\n",
      " - steelpurchase <= 0\n",
      "\n",
      "molding_capacity0: production_0_pliers + production_0_wrenches <= 21\n",
      "\n",
      "assembly_capacity0: 0.5 production_0_pliers + 0.3 production_0_wrenches <= 8\n",
      "\n",
      "capacity_wrenches0: production_0_wrenches <= 15\n",
      "\n",
      "capacity_pliers0: production_0_pliers <= 16\n",
      "\n",
      "Steel_capacity1: production_1_pliers + 1.5 production_1_wrenches\n",
      " - steelpurchase <= 0\n",
      "\n",
      "molding_capacity1: production_1_pliers + production_1_wrenches <= 21\n",
      "\n",
      "assembly_capacity1: 0.5 production_1_pliers + 0.3 production_1_wrenches <= 10\n",
      "\n",
      "capacity_wrenches1: production_1_wrenches <= 15\n",
      "\n",
      "capacity_pliers1: production_1_pliers <= 16\n",
      "\n",
      "Steel_capacity2: production_2_pliers + 1.5 production_2_wrenches\n",
      " - steelpurchase <= 0\n",
      "\n",
      "molding_capacity2: production_2_pliers + production_2_wrenches <= 21\n",
      "\n",
      "assembly_capacity2: 0.5 production_2_pliers + 0.3 production_2_wrenches <= 8\n",
      "\n",
      "capacity_wrenches2: production_2_wrenches <= 15\n",
      "\n",
      "capacity_pliers2: production_2_pliers <= 16\n",
      "\n",
      "Steel_capacity3: production_3_pliers + 1.5 production_3_wrenches\n",
      " - steelpurchase <= 0\n",
      "\n",
      "molding_capacity3: production_3_pliers + production_3_wrenches <= 21\n",
      "\n",
      "assembly_capacity3: 0.5 production_3_pliers + 0.3 production_3_wrenches <= 10\n",
      "\n",
      "capacity_wrenches3: production_3_wrenches <= 15\n",
      "\n",
      "capacity_pliers3: production_3_pliers <= 16\n",
      "\n",
      "VARIABLES\n",
      "production_0_pliers Continuous\n",
      "production_0_wrenches Continuous\n",
      "production_1_pliers Continuous\n",
      "production_1_wrenches Continuous\n",
      "production_2_pliers Continuous\n",
      "production_2_wrenches Continuous\n",
      "production_3_pliers Continuous\n",
      "production_3_wrenches Continuous\n",
      "steelpurchase Continuous\n",
      "\n"
     ]
    }
   ],
   "source": [
    "# Print problem\n",
    "print(gemstoneprob)"
   ]
  },
  {
   "cell_type": "code",
   "execution_count": 18,
   "metadata": {},
   "outputs": [
    {
     "name": "stdout",
     "output_type": "stream",
     "text": [
      "Status: Optimal\n"
     ]
    }
   ],
   "source": [
    "# The problem data is written to an .lp file\n",
    "gemstoneprob.writeLP(\"gemstoneprob.lp\")\n",
    "# The problem is solved using PuLP's choice of Solver\n",
    "gemstoneprob.solve()\n",
    "# The status of the solution is printed to the screen\n",
    "print(\"Status:\", pulp.LpStatus[gemstoneprob.status])"
   ]
  },
  {
   "cell_type": "code",
   "execution_count": 19,
   "metadata": {},
   "outputs": [
    {
     "name": "stdout",
     "output_type": "stream",
     "text": [
      "production_0_pliers = 4.75\n",
      "production_0_wrenches = 15.0\n",
      "production_1_pliers = 4.75\n",
      "production_1_wrenches = 15.0\n",
      "production_2_pliers = 8.5\n",
      "production_2_wrenches = 12.5\n",
      "production_3_pliers = 16.0\n",
      "production_3_wrenches = 5.0\n",
      "steelpurchase = 27.25\n",
      "Total price =  863.25\n"
     ]
    }
   ],
   "source": [
    "# Each of the variables is printed with it's resolved optimum value\n",
    "for v in gemstoneprob.variables():\n",
    "    print(v.name, \"=\", v.varValue)\n",
    "production = [v.varValue for v in gemstoneprob.variables()]\n",
    "production\n",
    "\n",
    "# The optimised objective function value is printed to the console\n",
    "print(\"Total price = \", pulp.value(gemstoneprob.objective))"
   ]
  }
 ],
 "metadata": {
  "kernelspec": {
   "display_name": "Python 3",
   "language": "python",
   "name": "python3"
  },
  "language_info": {
   "codemirror_mode": {
    "name": "ipython",
    "version": 3
   },
   "file_extension": ".py",
   "mimetype": "text/x-python",
   "name": "python",
   "nbconvert_exporter": "python",
   "pygments_lexer": "ipython3",
   "version": "3.7.0"
  }
 },
 "nbformat": 4,
 "nbformat_minor": 2
}
