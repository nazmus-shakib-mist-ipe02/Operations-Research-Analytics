{
 "cells": [
  {
   "cell_type": "code",
   "execution_count": 6,
   "metadata": {},
   "outputs": [],
   "source": [
    "# Import PuLP modeler functions\n",
    "from pulp import *\n",
    "import pandas as pd"
   ]
  },
  {
   "cell_type": "code",
   "execution_count": 7,
   "metadata": {},
   "outputs": [],
   "source": [
    "max_tables = 5\n",
    "max_table_size = 4\n",
    "guests = 'A B C D E F G I J K L M N O P Q R'.split()"
   ]
  },
  {
   "cell_type": "code",
   "execution_count": 8,
   "metadata": {},
   "outputs": [
    {
     "data": {
      "text/plain": [
       "['A',\n",
       " 'B',\n",
       " 'C',\n",
       " 'D',\n",
       " 'E',\n",
       " 'F',\n",
       " 'G',\n",
       " 'I',\n",
       " 'J',\n",
       " 'K',\n",
       " 'L',\n",
       " 'M',\n",
       " 'N',\n",
       " 'O',\n",
       " 'P',\n",
       " 'Q',\n",
       " 'R']"
      ]
     },
     "execution_count": 8,
     "metadata": {},
     "output_type": "execute_result"
    }
   ],
   "source": [
    "guests"
   ]
  },
  {
   "cell_type": "code",
   "execution_count": 9,
   "metadata": {},
   "outputs": [],
   "source": [
    "def happiness(table):\n",
    "    \"\"\"\n",
    "    Find the happiness of the table\n",
    "    - by calculating the maximum distance between the letters\n",
    "    \"\"\"\n",
    "    return abs(ord(table[0]) - ord(table[-1]))"
   ]
  },
  {
   "cell_type": "code",
   "execution_count": 10,
   "metadata": {},
   "outputs": [],
   "source": [
    "#create list of all possible tables\n",
    "possible_tables = [tuple(c) for c in pulp.allcombinations(guests, \n",
    "                                        max_table_size)]\n"
   ]
  },
  {
   "cell_type": "code",
   "execution_count": 11,
   "metadata": {},
   "outputs": [],
   "source": [
    "#create a binary variable to state that a table setting is used\n",
    "x = pulp.LpVariable.dicts('table', possible_tables, \n",
    "                            lowBound = 0,\n",
    "                            upBound = 1,\n",
    "                            cat = pulp.LpInteger)"
   ]
  },
  {
   "cell_type": "code",
   "execution_count": 12,
   "metadata": {},
   "outputs": [],
   "source": [
    "seating_model = pulp.LpProblem(\"Wedding Seating Model\", pulp.LpMinimize)"
   ]
  },
  {
   "cell_type": "code",
   "execution_count": 13,
   "metadata": {},
   "outputs": [],
   "source": [
    "seating_model += sum([happiness(table) * x[table] for table in possible_tables])"
   ]
  },
  {
   "cell_type": "code",
   "execution_count": 14,
   "metadata": {},
   "outputs": [],
   "source": [
    "#specify the maximum number of tables\n",
    "seating_model += sum([x[table] for table in possible_tables]) <= max_tables, \\\n",
    "                            \"Maximum_number_of_tables\""
   ]
  },
  {
   "cell_type": "code",
   "execution_count": 15,
   "metadata": {},
   "outputs": [],
   "source": [
    "#A guest must seated at one and only one table\n",
    "for guest in guests:\n",
    "    seating_model += sum([x[table] for table in possible_tables\n",
    "                                if guest in table]) == 1, \"Must_seat_%s\"%guest"
   ]
  },
  {
   "cell_type": "code",
   "execution_count": 16,
   "metadata": {},
   "outputs": [
    {
     "name": "stdout",
     "output_type": "stream",
     "text": [
      "The choosen tables are out of a total of 3213:\n",
      "('M', 'N')\n",
      "('E', 'F', 'G')\n",
      "('A', 'B', 'C', 'D')\n",
      "('I', 'J', 'K', 'L')\n",
      "('O', 'P', 'Q', 'R')\n"
     ]
    }
   ],
   "source": [
    "seating_model.solve()\n",
    "\n",
    "print(\"The choosen tables are out of a total of %s:\"%len(possible_tables))\n",
    "for table in possible_tables:\n",
    "    if x[table].value() == 1.0:\n",
    "        print(table)\n"
   ]
  }
 ],
 "metadata": {
  "kernelspec": {
   "display_name": "Python 3",
   "language": "python",
   "name": "python3"
  },
  "language_info": {
   "codemirror_mode": {
    "name": "ipython",
    "version": 3
   },
   "file_extension": ".py",
   "mimetype": "text/x-python",
   "name": "python",
   "nbconvert_exporter": "python",
   "pygments_lexer": "ipython3",
   "version": "3.7.0"
  }
 },
 "nbformat": 4,
 "nbformat_minor": 2
}
