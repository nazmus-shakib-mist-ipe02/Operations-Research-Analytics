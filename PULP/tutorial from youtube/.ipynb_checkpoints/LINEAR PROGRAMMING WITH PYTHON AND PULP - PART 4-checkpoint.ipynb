{
 "cells": [
  {
   "cell_type": "code",
   "execution_count": 1,
   "metadata": {},
   "outputs": [],
   "source": [
    "import pulp"
   ]
  },
  {
   "cell_type": "code",
   "execution_count": 2,
   "metadata": {},
   "outputs": [],
   "source": [
    "# Instantiate our problem class\n",
    "model = pulp.LpProblem(\"Cost minimising blending problem\", pulp.LpMinimize)"
   ]
  },
  {
   "cell_type": "code",
   "execution_count": 3,
   "metadata": {},
   "outputs": [],
   "source": [
    "# Construct our decision variable lists\n",
    "sausage_types = ['economy', 'premium']\n",
    "ingredients = ['pork', 'wheat', 'starch']\n"
   ]
  },
  {
   "cell_type": "code",
   "execution_count": 4,
   "metadata": {},
   "outputs": [],
   "source": [
    "ing_weight = pulp.LpVariable.dicts(\"weight kg\",\n",
    "                                     ((i, j) for i in sausage_types for j in ingredients),\n",
    "                                     lowBound=0,\n",
    "                                     cat='Continuous')"
   ]
  },
  {
   "cell_type": "code",
   "execution_count": 5,
   "metadata": {},
   "outputs": [],
   "source": [
    "# Objective Function\n",
    "model += (\n",
    "    pulp.lpSum([\n",
    "        4.32 * ing_weight[(i, 'pork')]\n",
    "        + 2.46 * ing_weight[(i, 'wheat')]\n",
    "        + 1.86 * ing_weight[(i, 'starch')]\n",
    "        for i in sausage_types])\n",
    ")"
   ]
  },
  {
   "cell_type": "code",
   "execution_count": 6,
   "metadata": {},
   "outputs": [],
   "source": [
    "# Constraints\n",
    "# 350 economy and 500 premium sausages at 0.05 kg\n",
    "model += pulp.lpSum([ing_weight['economy', j] for j in ingredients]) == 350 * 0.05\n",
    "model += pulp.lpSum([ing_weight['premium', j] for j in ingredients]) == 500 * 0.05\n",
    "\n",
    "# Economy has >= 40% pork, premium >= 60% pork\n",
    "model += ing_weight['economy', 'pork'] >= (\n",
    "    0.4 * pulp.lpSum([ing_weight['economy', j] for j in ingredients]))\n",
    "\n",
    "model += ing_weight['premium', 'pork'] >= (\n",
    "    0.6 * pulp.lpSum([ing_weight['premium', j] for j in ingredients]))\n",
    "\n",
    "# Sausages must be <= 25% starch\n",
    "model += ing_weight['economy', 'starch'] <= (\n",
    "    0.25 * pulp.lpSum([ing_weight['economy', j] for j in ingredients]))\n",
    "\n",
    "model += ing_weight['premium', 'starch'] <= (\n",
    "    0.25 * pulp.lpSum([ing_weight['premium', j] for j in ingredients]))\n",
    "\n",
    "# We have at most 30 kg of pork, 20 kg of wheat and 17 kg of starch available\n",
    "model += pulp.lpSum([ing_weight[i, 'pork'] for i in sausage_types]) <= 30\n",
    "model += pulp.lpSum([ing_weight[i, 'wheat'] for i in sausage_types]) <= 20\n",
    "model += pulp.lpSum([ing_weight[i, 'starch'] for i in sausage_types]) <= 17\n",
    "\n",
    "# We have at least 23 kg of pork to use up\n",
    "model += pulp.lpSum([ing_weight[i, 'pork'] for i in sausage_types]) >= 23"
   ]
  },
  {
   "cell_type": "code",
   "execution_count": 7,
   "metadata": {},
   "outputs": [
    {
     "data": {
      "text/plain": [
       "'Optimal'"
      ]
     },
     "execution_count": 7,
     "metadata": {},
     "output_type": "execute_result"
    }
   ],
   "source": [
    "# Solve our problem\n",
    "model.solve()\n",
    "pulp.LpStatus[model.status]"
   ]
  },
  {
   "cell_type": "code",
   "execution_count": 9,
   "metadata": {},
   "outputs": [
    {
     "name": "stdout",
     "output_type": "stream",
     "text": [
      "The weight of pork in economy sausages is 7.0 kg\n",
      "The weight of wheat in economy sausages is 6.125 kg\n",
      "The weight of starch in economy sausages is 4.375 kg\n",
      "The weight of pork in premium sausages is 16.0 kg\n",
      "The weight of wheat in premium sausages is 2.75 kg\n",
      "The weight of starch in premium sausages is 6.25 kg\n"
     ]
    }
   ],
   "source": [
    "for var in ing_weight:\n",
    "    var_value = ing_weight[var].varValue\n",
    "    print(\"The weight of {0} in {1} sausages is {2} kg\".format(var[1], var[0], var_value))"
   ]
  },
  {
   "cell_type": "code",
   "execution_count": 10,
   "metadata": {},
   "outputs": [
    {
     "name": "stdout",
     "output_type": "stream",
     "text": [
      "The total cost is €140.96 for 350 economy sausages and 500 premium sausages\n"
     ]
    }
   ],
   "source": [
    "total_cost = pulp.value(model.objective)\n",
    "\n",
    "print(\"The total cost is €{} for 350 economy sausages and 500 premium sausages\".format(round(total_cost, 2)))"
   ]
  }
 ],
 "metadata": {
  "kernelspec": {
   "display_name": "Python 3",
   "language": "python",
   "name": "python3"
  },
  "language_info": {
   "codemirror_mode": {
    "name": "ipython",
    "version": 3
   },
   "file_extension": ".py",
   "mimetype": "text/x-python",
   "name": "python",
   "nbconvert_exporter": "python",
   "pygments_lexer": "ipython3",
   "version": "3.7.0"
  }
 },
 "nbformat": 4,
 "nbformat_minor": 2
}
