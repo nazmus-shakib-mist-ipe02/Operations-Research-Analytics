{
 "cells": [
  {
   "cell_type": "code",
   "execution_count": 1,
   "metadata": {},
   "outputs": [
    {
     "name": "stdout",
     "output_type": "stream",
     "text": [
      "Status: Optimal\n",
      "x_0 = 1.0\n",
      "x_1 = 1.0\n",
      "x_10 = 0.0\n",
      "x_11 = 0.0\n",
      "x_12 = 0.0\n",
      "x_13 = 0.0\n",
      "x_14 = 0.0\n",
      "x_2 = 1.0\n",
      "x_3 = 1.0\n",
      "x_4 = 1.0\n",
      "x_5 = 1.0\n",
      "x_6 = 1.0\n",
      "x_7 = 0.0\n",
      "x_8 = 0.0\n",
      "x_9 = 0.0\n",
      "objective= 4190215.0\n"
     ]
    }
   ],
   "source": [
    "# Import PuLP modeler functions\n",
    "from pulp import *\n",
    "\n",
    "# Import math functions\n",
    "from math import *\n",
    "\n",
    "# A new LP problem\n",
    "prob = LpProblem(\"test2\", LpMaximize)\n",
    "\n",
    "# Parameters\n",
    "# Size of the problem\n",
    "n = 15\n",
    "k = floor(log(n)/log(2));\n",
    "\n",
    "# A vector of n binary variables\n",
    "x = LpVariable.matrix(\"x\", list(range(n)), 0, 1, LpInteger)\n",
    "\n",
    "# A vector of weights\n",
    "a = [pow(2,k + n + 1) + pow(2,k + n + 1 - j) + 1 for j in range(1,n+1)]\n",
    "# The maximum weight\n",
    "b = 0.5 * floor(sum(a))\n",
    "\n",
    "# The total weight\n",
    "weight = lpDot(a, x)\n",
    "\n",
    "# Objective\n",
    "prob += weight\n",
    "# Constraint\n",
    "prob += weight <= b\n",
    "\n",
    "# Resolution\n",
    "prob.solve()\n",
    "\n",
    "# Print the status of the solved LP\n",
    "print(\"Status:\", LpStatus[prob.status])\n",
    "\n",
    "# Print the value of the variables at the optimum\n",
    "for v in prob.variables():\n",
    "\tprint(v.name, \"=\", v.varValue)\n",
    "\n",
    "# Print the value of the objective\n",
    "print(\"objective=\", value(prob.objective))"
   ]
  }
 ],
 "metadata": {
  "kernelspec": {
   "display_name": "Python 3",
   "language": "python",
   "name": "python3"
  },
  "language_info": {
   "codemirror_mode": {
    "name": "ipython",
    "version": 3
   },
   "file_extension": ".py",
   "mimetype": "text/x-python",
   "name": "python",
   "nbconvert_exporter": "python",
   "pygments_lexer": "ipython3",
   "version": "3.7.0"
  }
 },
 "nbformat": 4,
 "nbformat_minor": 2
}
