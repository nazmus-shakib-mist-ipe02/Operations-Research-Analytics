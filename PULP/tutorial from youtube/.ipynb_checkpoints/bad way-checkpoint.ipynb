{
 "cells": [
  {
   "cell_type": "markdown",
   "metadata": {},
   "source": [
    "[the site for the problem](https://scipbook.readthedocs.io/en/latest/flp.html)"
   ]
  },
  {
   "cell_type": "code",
   "execution_count": 1,
   "metadata": {},
   "outputs": [],
   "source": [
    "from pulp import *\n",
    "\n",
    "CUSTOMER = [1, 2, 3, 4, 5]\n",
    "LOCATION = ['FAC1', 'FAC2', 'FAC3']\n",
    "DEMAND = [80, 270, 250, 160, 180]\n",
    "MAXMIMUM = [1000, 1000, 1000]\n",
    "maxam = [500, 500, 500]\n",
    "FAC1 = [4 , 5 , 6, 8, 10]\n",
    "FAC2 = [6, 4, 3, 5, 8]\n",
    "FAC3 = [9 , 7, 4 , 3, 4]\n",
    "\n",
    "\n",
    "DATA = dict(zip(LOCATION, maxam))\n",
    "demand = dict(zip(CUSTOMER, DEMAND))\n",
    "actcost = dict(zip(LOCATION, MAXMIMUM))"
   ]
  },
  {
   "cell_type": "code",
   "execution_count": 2,
   "metadata": {},
   "outputs": [
    {
     "name": "stdout",
     "output_type": "stream",
     "text": [
      "{'FAC1': 500, 'FAC2': 500, 'FAC3': 500}\n",
      "{1: 80, 2: 270, 3: 250, 4: 160, 5: 180}\n",
      "{'FAC1': 1000, 'FAC2': 1000, 'FAC3': 1000}\n"
     ]
    }
   ],
   "source": [
    "print(DATA)\n",
    "print(demand)\n",
    "print(actcost)"
   ]
  },
  {
   "cell_type": "code",
   "execution_count": 3,
   "metadata": {},
   "outputs": [],
   "source": [
    "data1 = dict(zip(CUSTOMER, FAC1))"
   ]
  },
  {
   "cell_type": "code",
   "execution_count": 4,
   "metadata": {},
   "outputs": [],
   "source": [
    "data2 = dict(zip(CUSTOMER, FAC2))"
   ]
  },
  {
   "cell_type": "code",
   "execution_count": 5,
   "metadata": {},
   "outputs": [],
   "source": [
    "data3 = dict(zip(CUSTOMER, FAC3))"
   ]
  },
  {
   "cell_type": "code",
   "execution_count": 6,
   "metadata": {},
   "outputs": [
    {
     "data": {
      "text/plain": [
       "{1: 4, 2: 5, 3: 6, 4: 8, 5: 10}"
      ]
     },
     "execution_count": 6,
     "metadata": {},
     "output_type": "execute_result"
    }
   ],
   "source": [
    "data1"
   ]
  },
  {
   "cell_type": "code",
   "execution_count": 7,
   "metadata": {},
   "outputs": [],
   "source": [
    "transp= {'FAC1': data1, 'FAC2': data2, 'FAC3': data3 }"
   ]
  },
  {
   "cell_type": "code",
   "execution_count": 9,
   "metadata": {},
   "outputs": [
    {
     "data": {
      "text/plain": [
       "{'FAC1': {1: 4, 2: 5, 3: 6, 4: 8, 5: 10},\n",
       " 'FAC2': {1: 6, 2: 4, 3: 3, 4: 5, 5: 8},\n",
       " 'FAC3': {1: 9, 2: 7, 3: 4, 4: 3, 5: 4}}"
      ]
     },
     "execution_count": 9,
     "metadata": {},
     "output_type": "execute_result"
    }
   ],
   "source": [
    "transp"
   ]
  },
  {
   "cell_type": "code",
   "execution_count": 10,
   "metadata": {},
   "outputs": [],
   "source": [
    "prob = LpProblem('fac', LpMinimize)"
   ]
  },
  {
   "cell_type": "code",
   "execution_count": 11,
   "metadata": {},
   "outputs": [],
   "source": [
    "use_vars = LpVariable.dicts('us',LOCATION, 0,1, LpBinary )"
   ]
  }
 ],
 "metadata": {
  "kernelspec": {
   "display_name": "Python 3",
   "language": "python",
   "name": "python3"
  },
  "language_info": {
   "codemirror_mode": {
    "name": "ipython",
    "version": 3
   },
   "file_extension": ".py",
   "mimetype": "text/x-python",
   "name": "python",
   "nbconvert_exporter": "python",
   "pygments_lexer": "ipython3",
   "version": "3.7.0"
  }
 },
 "nbformat": 4,
 "nbformat_minor": 2
}
