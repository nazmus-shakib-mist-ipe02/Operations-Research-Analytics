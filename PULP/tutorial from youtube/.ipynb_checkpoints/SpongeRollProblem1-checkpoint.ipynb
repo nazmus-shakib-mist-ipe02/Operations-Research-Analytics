{
 "cells": [
  {
   "cell_type": "code",
   "execution_count": 1,
   "metadata": {},
   "outputs": [],
   "source": [
    "# Import PuLP modeler functions\n",
    "from pulp import *\n",
    "\n",
    "# A list of all the roll lengths is created\n",
    "LenOpts = [\"5\",\"7\",\"9\"]\n",
    "\n",
    "# A dictionary of the demand for each roll length is created\n",
    "rollDemand = {\"5\":150,\n",
    "              \"7\":200,\n",
    "              \"9\":300}\n",
    "\n",
    "# A list of all the patterns is created\n",
    "PatternNames = [\"A\",\"B\",\"C\"]\n",
    "\n",
    "# Creates a list of the number of rolls in each pattern for each different roll length\n",
    "patterns = [#A B C\n",
    "            [0,2,2],# 5\n",
    "            [1,1,0],# 7\n",
    "            [1,0,1] # 9\n",
    "            ]"
   ]
  },
  {
   "cell_type": "code",
   "execution_count": 2,
   "metadata": {},
   "outputs": [],
   "source": [
    "# The cost of each 20cm long sponge roll used\n",
    "cost = 1"
   ]
  },
  {
   "cell_type": "code",
   "execution_count": 3,
   "metadata": {},
   "outputs": [],
   "source": [
    "# The pattern data is made into a dictionary\n",
    "patterns = makeDict([LenOpts,PatternNames],patterns,0)"
   ]
  },
  {
   "cell_type": "code",
   "execution_count": 9,
   "metadata": {},
   "outputs": [
    {
     "data": {
      "text/plain": [
       "defaultdict(<function pulp.pulp.__makeDict.<locals>.<lambda>()>,\n",
       "            {'5': defaultdict(<function pulp.pulp.__makeDict.<locals>.<lambda>()>,\n",
       "                         {'A': 0, 'B': 2, 'C': 2}),\n",
       "             '7': defaultdict(<function pulp.pulp.__makeDict.<locals>.<lambda>()>,\n",
       "                         {'A': 1, 'B': 1, 'C': 0}),\n",
       "             '9': defaultdict(<function pulp.pulp.__makeDict.<locals>.<lambda>()>,\n",
       "                         {'A': 1, 'B': 0, 'C': 1})})"
      ]
     },
     "execution_count": 9,
     "metadata": {},
     "output_type": "execute_result"
    }
   ],
   "source": [
    "patterns"
   ]
  },
  {
   "cell_type": "code",
   "execution_count": 4,
   "metadata": {},
   "outputs": [],
   "source": [
    "# The problem variables of the number of each pattern to make are created\n",
    "vars = LpVariable.dicts(\"Patt\",PatternNames,0,None,LpInteger)"
   ]
  },
  {
   "cell_type": "code",
   "execution_count": 10,
   "metadata": {},
   "outputs": [
    {
     "data": {
      "text/plain": [
       "{'A': Patt_A, 'B': Patt_B, 'C': Patt_C}"
      ]
     },
     "execution_count": 10,
     "metadata": {},
     "output_type": "execute_result"
    }
   ],
   "source": [
    "vars"
   ]
  },
  {
   "cell_type": "code",
   "execution_count": 5,
   "metadata": {},
   "outputs": [],
   "source": [
    "# The variable 'prob' is created\n",
    "prob = LpProblem(\"Cutting Stock Problem\",LpMinimize)"
   ]
  },
  {
   "cell_type": "code",
   "execution_count": 6,
   "metadata": {},
   "outputs": [],
   "source": [
    "# The objective function is entered: the total number of large rolls used * the fixed cost of each\n",
    "prob += lpSum([vars[i]*cost for i in PatternNames]),\"Production Cost\""
   ]
  },
  {
   "cell_type": "code",
   "execution_count": 7,
   "metadata": {},
   "outputs": [],
   "source": [
    "# The demand minimum constraint is entered\n",
    "for i in LenOpts:\n",
    "    prob += lpSum([vars[j]*patterns[i][j] for j in PatternNames])>=rollDemand[i],\"Ensuring enough %s cm rolls\"%i"
   ]
  },
  {
   "cell_type": "code",
   "execution_count": 8,
   "metadata": {},
   "outputs": [
    {
     "name": "stdout",
     "output_type": "stream",
     "text": [
      "Status: Optimal\n",
      "Patt_A = 225.0\n",
      "Patt_B = 0.0\n",
      "Patt_C = 75.0\n",
      "Production Costs =  300.0\n"
     ]
    }
   ],
   "source": [
    "# The problem data is written to an .lp file\n",
    "prob.writeLP(\"SpongeRollProblem.lp\")\n",
    "\n",
    "# The problem is solved using PuLP's choice of Solver\n",
    "prob.solve()\n",
    "\n",
    "# The status of the solution is printed to the screen\n",
    "print(\"Status:\", LpStatus[prob.status])\n",
    "\n",
    "# Each of the variables is printed with it's resolved optimum value\n",
    "for v in prob.variables():\n",
    "    print(v.name, \"=\", v.varValue)\n",
    "\n",
    "# The optimised objective function value is printed to the screen    \n",
    "print(\"Production Costs = \", value(prob.objective))"
   ]
  }
 ],
 "metadata": {
  "kernelspec": {
   "display_name": "Python 3",
   "language": "python",
   "name": "python3"
  },
  "language_info": {
   "codemirror_mode": {
    "name": "ipython",
    "version": 3
   },
   "file_extension": ".py",
   "mimetype": "text/x-python",
   "name": "python",
   "nbconvert_exporter": "python",
   "pygments_lexer": "ipython3",
   "version": "3.7.0"
  }
 },
 "nbformat": 4,
 "nbformat_minor": 2
}
