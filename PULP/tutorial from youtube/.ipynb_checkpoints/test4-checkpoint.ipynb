{
 "cells": [
  {
   "cell_type": "code",
   "execution_count": 1,
   "metadata": {},
   "outputs": [
    {
     "name": "stdout",
     "output_type": "stream",
     "text": [
      "x_0 = 0.0\n",
      "x_1 = 1.0\n",
      "x_2 = 1.0\n",
      "x_3 = 1.0\n",
      "x_4 = 1.0\n",
      "x_5 = 1.0\n",
      "x_6 = 1.0\n",
      "x_7 = 1.0\n",
      "x_8 = 1.0\n",
      "x_9 = 0.0\n"
     ]
    }
   ],
   "source": [
    "from pulp import *\n",
    "from random import *\n",
    "\n",
    "C = 50\n",
    "B = 500 # Resources available for the two years\n",
    "s = 20 # Number of scenarios\n",
    "n = 10 # Number of projects\n",
    "\n",
    "N = list(range(n))\n",
    "S = list(range(s))\n",
    "\n",
    "# First year costs\n",
    "c = [randint(0,C) for i in N]\n",
    "# First year resources\n",
    "d = [randint(0,C) for i in N]\n",
    "# a=debut, b=taille\n",
    "interval = [[(randint(0,C), randint(0,C)) for i in N] for j in S]\n",
    "# Final earnings\n",
    "q = [[randint(ai, ai+bi) for ai,bi in ab] for ab in interval]\n",
    "# Second year resources\n",
    "delta = [[randint(ai, ai+bi) for ai,bi in ab] for ab in interval]\n",
    "\n",
    "# Variables\n",
    "# x : Whether or not to start a project\n",
    "x = LpVariable.matrix(\"x\", (N,), 0, 1, LpInteger)\n",
    "# y : Whether or not to finish it, in each scenario\n",
    "y = LpVariable.matrix(\"y\", (S, N), 0, 1, LpInteger)\n",
    "\n",
    "# Problem\n",
    "lp = LpProblem(\"Planification\", LpMinimize)\n",
    "\n",
    "# Objective: expected earnings\n",
    "lp += lpDot(x, c) - lpDot(q, y)/float(s)\n",
    "\n",
    "# Resources constraints for each scenario\n",
    "for j in S:\n",
    "\tlp += lpDot(d, x) + lpDot(delta[j], y[j]) <= B\n",
    "\n",
    "# We can only finish a project that was started\n",
    "for i in N:\n",
    "\tfor j in S:\n",
    "\t\tlp += y[j][i] <= x[i]\n",
    "\n",
    "# Resolution\n",
    "lp.solve()\n",
    "\n",
    "# Solution printing\n",
    "for i in N:\n",
    "\tprint(x[i], \"=\", x[i].value())"
   ]
  }
 ],
 "metadata": {
  "kernelspec": {
   "display_name": "Python 3",
   "language": "python",
   "name": "python3"
  },
  "language_info": {
   "codemirror_mode": {
    "name": "ipython",
    "version": 3
   },
   "file_extension": ".py",
   "mimetype": "text/x-python",
   "name": "python",
   "nbconvert_exporter": "python",
   "pygments_lexer": "ipython3",
   "version": "3.7.0"
  }
 },
 "nbformat": 4,
 "nbformat_minor": 2
}
