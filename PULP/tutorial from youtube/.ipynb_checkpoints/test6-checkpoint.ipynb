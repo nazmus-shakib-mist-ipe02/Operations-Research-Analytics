{
 "cells": [
  {
   "cell_type": "code",
   "execution_count": 1,
   "metadata": {},
   "outputs": [
    {
     "name": "stdout",
     "output_type": "stream",
     "text": [
      "Status: Optimal\n",
      "x = 4.0\n",
      "y = -1.0\n",
      "z = 6.0\n",
      "objective= 54.0\n"
     ]
    }
   ],
   "source": [
    "# Import PuLP modeler functions\n",
    "from pulp import *\n",
    "\n",
    "# A new LP problem\n",
    "prob = LpProblem(\"test6\", LpMinimize)\n",
    "\n",
    "# objective\n",
    "obj = LpConstraintVar(\"obj\")\n",
    "\n",
    "# constraints\n",
    "\n",
    "a = LpConstraintVar(\"Ca\", LpConstraintLE, 5)\n",
    "\n",
    "b = LpConstraintVar(\"Cb\", LpConstraintGE, 10)\n",
    "\n",
    "c = LpConstraintVar(\"Cc\", LpConstraintEQ, 7)\n",
    "\n",
    "prob.setObjective(obj)\n",
    "prob += a\n",
    "prob += b\n",
    "prob += c\n",
    "\n",
    "# Variables\n",
    "# 0 <= x <= 4\n",
    "x = LpVariable(\"x\", 0, 4, LpContinuous, obj + a + b)\n",
    "# -1 <= y <= 1\n",
    "y = LpVariable(\"y\", -1, 1, LpContinuous, 4*obj + a - c)\n",
    "# 0 <= z\n",
    "z = LpVariable(\"z\", 0, None, LpContinuous, 9*obj + b + c)\n",
    "# Use None for +/- Infinity, i.e. z <= 0 -> LpVariable(\"z\", None, 0)\n",
    "\n",
    "\n",
    "# Write the problem as an LP file\n",
    "prob.writeLP(\"test6.lp\")\n",
    "\n",
    "# Solve the problem using the default solver\n",
    "prob.solve()\n",
    "# Use prob.solve(GLPK()) instead to choose GLPK as the solver\n",
    "# Use GLPK(msg = 0) to suppress GLPK messages\n",
    "# If GLPK is not in your path and you lack the pulpGLPK module,\n",
    "# replace GLPK() with GLPK(\"/path/\")\n",
    "# Where /path/ is the path to glpsol (excluding glpsol itself).\n",
    "# If you want to use CPLEX, use CPLEX() instead of GLPK().\n",
    "# If you want to use XPRESS, use XPRESS() instead of GLPK().\n",
    "# If you want to use COIN, use COIN() instead of GLPK(). In this last case,\n",
    "# two paths may be provided (one to clp, one to cbc).\n",
    "\n",
    "# Print the status of the solved LP\n",
    "print(\"Status:\", LpStatus[prob.status])\n",
    "\n",
    "# Print the value of the variables at the optimum\n",
    "for v in prob.variables():\n",
    "    print(v.name, \"=\", v.varValue)\n",
    "\n",
    "# Print the value of the objective\n",
    "print(\"objective=\", value(prob.objective))"
   ]
  }
 ],
 "metadata": {
  "kernelspec": {
   "display_name": "Python 3",
   "language": "python",
   "name": "python3"
  },
  "language_info": {
   "codemirror_mode": {
    "name": "ipython",
    "version": 3
   },
   "file_extension": ".py",
   "mimetype": "text/x-python",
   "name": "python",
   "nbconvert_exporter": "python",
   "pygments_lexer": "ipython3",
   "version": "3.7.0"
  }
 },
 "nbformat": 4,
 "nbformat_minor": 2
}
