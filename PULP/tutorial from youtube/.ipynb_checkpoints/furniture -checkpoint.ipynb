{
 "cells": [
  {
   "cell_type": "code",
   "execution_count": 1,
   "metadata": {},
   "outputs": [
    {
     "name": "stdout",
     "output_type": "stream",
     "text": [
      "Number_of_Chairs_A = 8.0\n",
      "Number_of_Chairs_B = 16.0\n",
      "Total Revenue from Production =  3200.0\n"
     ]
    }
   ],
   "source": [
    "from pulp import *\n",
    "Chairs = [\"A\",\"B\"]\n",
    "costs = {\"A\":100,\n",
    "         \"B\":150}\n",
    "Resources = [\"Lathe\",\"Polisher\"]\n",
    "capacity = {\"Lathe\"    : 40,\n",
    "              \"Polisher\" : 48}\n",
    "activity = [  #Chairs\n",
    "              #A  B\n",
    "              [1, 2],  #Lathe\n",
    "              [3, 1.5] #Polisher\n",
    "              ]\n",
    "activity = makeDict([Resources,Chairs],activity)\n",
    "prob = LpProblem(\"Furniture Manufacturing Problem\", LpMaximize)\n",
    "vars = LpVariable.dicts(\"Number of Chairs\",Chairs, lowBound = 0)\n",
    "#objective\n",
    "prob += lpSum([costs[c]*vars[c] for c in Chairs])\n",
    "for r in Resources:\n",
    "    prob += lpSum([activity[r][c]*vars[c] for c in Chairs]) <= capacity[r], \\\n",
    "     \"capacity_of_%s\"%r \n",
    "prob.writeLP(\"furniture.lp\")\n",
    "prob.solve()\n",
    "# Each of the variables is printed with it's value\n",
    "for v in prob.variables():\n",
    "    print(v.name, \"=\", v.varValue)\n",
    "# The optimised objective function value is printed to the screen    \n",
    "print(\"Total Revenue from Production = \", value(prob.objective))"
   ]
  }
 ],
 "metadata": {
  "kernelspec": {
   "display_name": "Python 3",
   "language": "python",
   "name": "python3"
  },
  "language_info": {
   "codemirror_mode": {
    "name": "ipython",
    "version": 3
   },
   "file_extension": ".py",
   "mimetype": "text/x-python",
   "name": "python",
   "nbconvert_exporter": "python",
   "pygments_lexer": "ipython3",
   "version": "3.7.0"
  }
 },
 "nbformat": 4,
 "nbformat_minor": 2
}
