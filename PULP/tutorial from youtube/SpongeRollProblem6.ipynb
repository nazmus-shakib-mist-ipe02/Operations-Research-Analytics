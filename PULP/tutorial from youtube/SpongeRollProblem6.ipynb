{
 "cells": [
  {
   "cell_type": "code",
   "execution_count": 1,
   "metadata": {},
   "outputs": [
    {
     "ename": "ModuleNotFoundError",
     "evalue": "No module named '__main__.CGcolumnwise'; '__main__' is not a package",
     "output_type": "error",
     "traceback": [
      "\u001b[1;31m---------------------------------------------------------------------------\u001b[0m",
      "\u001b[1;31mModuleNotFoundError\u001b[0m                       Traceback (most recent call last)",
      "\u001b[1;32m<ipython-input-1-1a3994191bf7>\u001b[0m in \u001b[0;36m<module>\u001b[1;34m()\u001b[0m\n\u001b[0;32m      1\u001b[0m \u001b[1;31m# Import Column Generation functions\u001b[0m\u001b[1;33m\u001b[0m\u001b[1;33m\u001b[0m\u001b[0m\n\u001b[1;32m----> 2\u001b[1;33m \u001b[1;32mfrom\u001b[0m \u001b[1;33m.\u001b[0m\u001b[0mCGcolumnwise\u001b[0m \u001b[1;32mimport\u001b[0m \u001b[1;33m*\u001b[0m\u001b[1;33m\u001b[0m\u001b[0m\n\u001b[0m\u001b[0;32m      3\u001b[0m \u001b[1;33m\u001b[0m\u001b[0m\n\u001b[0;32m      4\u001b[0m \u001b[1;31m# The Master Problem is created\u001b[0m\u001b[1;33m\u001b[0m\u001b[1;33m\u001b[0m\u001b[0m\n\u001b[0;32m      5\u001b[0m \u001b[0mprob\u001b[0m\u001b[1;33m,\u001b[0m \u001b[0mobj\u001b[0m\u001b[1;33m,\u001b[0m \u001b[0mconstraints\u001b[0m \u001b[1;33m=\u001b[0m \u001b[0mcreateMaster\u001b[0m\u001b[1;33m(\u001b[0m\u001b[1;33m)\u001b[0m\u001b[1;33m\u001b[0m\u001b[0m\n",
      "\u001b[1;31mModuleNotFoundError\u001b[0m: No module named '__main__.CGcolumnwise'; '__main__' is not a package"
     ]
    }
   ],
   "source": [
    "# Import Column Generation functions\n",
    "from .CGcolumnwise import *\n",
    "\n",
    "# The Master Problem is created\n",
    "prob, obj, constraints = createMaster()\n",
    "\n",
    "# A list of starting patterns is created\n",
    "newPatterns = [[1,0,0],[0,1,0],[0,0,1]]\n",
    "\n",
    "# New patterns will be added until newPatterns is an empty list\n",
    "while newPatterns:\n",
    "    # The new patterns are added to the problem\n",
    "    addPatterns(obj,constraints,newPatterns)\n",
    "    # The master problem is solved, and the dual variables are returned \n",
    "    duals = masterSolve(prob)\n",
    "    # The sub problem is solved and a new pattern will be returned if there is one\n",
    "    # which can reduce the master objective function\n",
    "    newPatterns = subSolve(duals)\n",
    "\n",
    "# The master problem is solved with Integer Constraints not relaxed\n",
    "solution, varsdict = masterSolve(prob,relax = False)\n",
    "    \n",
    "# Display Solution\n",
    "for i,j in list(varsdict.items()):\n",
    "    print(i, \"=\", j)\n",
    "    \n",
    "print(\"objective = \", solution)"
   ]
  }
 ],
 "metadata": {
  "kernelspec": {
   "display_name": "Python 3",
   "language": "python",
   "name": "python3"
  },
  "language_info": {
   "codemirror_mode": {
    "name": "ipython",
    "version": 3
   },
   "file_extension": ".py",
   "mimetype": "text/x-python",
   "name": "python",
   "nbconvert_exporter": "python",
   "pygments_lexer": "ipython3",
   "version": "3.7.0"
  }
 },
 "nbformat": 4,
 "nbformat_minor": 2
}
