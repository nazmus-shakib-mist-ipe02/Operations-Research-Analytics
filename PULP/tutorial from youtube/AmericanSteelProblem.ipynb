{
 "cells": [
  {
   "cell_type": "code",
   "execution_count": 1,
   "metadata": {},
   "outputs": [],
   "source": [
    "# Import PuLP modeller functions\n",
    "from pulp import *"
   ]
  },
  {
   "cell_type": "code",
   "execution_count": 2,
   "metadata": {},
   "outputs": [],
   "source": [
    "# List of all the nodes\n",
    "Nodes = [\"Youngstown\",\n",
    "         \"Pittsburgh\",\n",
    "         \"Cincinatti\",\n",
    "         \"Kansas City\",\n",
    "         \"Chicago\",\n",
    "         \"Albany\",\n",
    "         \"Houston\",\n",
    "         \"Tempe\",\n",
    "         \"Gary\"]\n"
   ]
  },
  {
   "cell_type": "code",
   "execution_count": 3,
   "metadata": {},
   "outputs": [],
   "source": [
    "nodeData = {# NODE        Supply Demand\n",
    "         \"Youngstown\":    [10000,0],\n",
    "         \"Pittsburgh\":    [15000,0],\n",
    "         \"Cincinatti\":    [0,0],\n",
    "         \"Kansas City\":   [0,0],\n",
    "         \"Chicago\":       [0,0],\n",
    "         \"Albany\":        [0,3000],\n",
    "         \"Houston\":       [0,7000],\n",
    "         \"Tempe\":         [0,4000],\n",
    "         \"Gary\":          [0,6000]}\n"
   ]
  },
  {
   "cell_type": "code",
   "execution_count": 4,
   "metadata": {},
   "outputs": [],
   "source": [
    "# List of all the arcs\n",
    "Arcs = [(\"Youngstown\",\"Albany\"),\n",
    "        (\"Youngstown\",\"Cincinatti\"),\n",
    "        (\"Youngstown\",\"Kansas City\"),\n",
    "        (\"Youngstown\",\"Chicago\"),\n",
    "        (\"Pittsburgh\",\"Cincinatti\"),\n",
    "        (\"Pittsburgh\",\"Kansas City\"),\n",
    "        (\"Pittsburgh\",\"Chicago\"),\n",
    "        (\"Pittsburgh\",\"Gary\"),\n",
    "        (\"Cincinatti\",\"Albany\"),\n",
    "        (\"Cincinatti\",\"Houston\"),\n",
    "        (\"Kansas City\",\"Houston\"),\n",
    "        (\"Kansas City\",\"Tempe\"),\n",
    "        (\"Chicago\",\"Tempe\"),\n",
    "        (\"Chicago\",\"Gary\")]"
   ]
  },
  {
   "cell_type": "code",
   "execution_count": 5,
   "metadata": {},
   "outputs": [],
   "source": [
    "arcData = { #      ARC                Cost Min Max\n",
    "        (\"Youngstown\",\"Albany\"):      [0.5,0,1000],\n",
    "        (\"Youngstown\",\"Cincinatti\"):  [0.35,0,3000],\n",
    "        (\"Youngstown\",\"Kansas City\"): [0.45,1000,5000],\n",
    "        (\"Youngstown\",\"Chicago\"):     [0.375,0,5000],\n",
    "        (\"Pittsburgh\",\"Cincinatti\"):  [0.35,0,2000],\n",
    "        (\"Pittsburgh\",\"Kansas City\"): [0.45,2000,3000],\n",
    "        (\"Pittsburgh\",\"Chicago\"):     [0.4,0,4000],\n",
    "        (\"Pittsburgh\",\"Gary\"):        [0.45,0,2000],\n",
    "        (\"Cincinatti\",\"Albany\"):      [0.35,1000,5000],\n",
    "        (\"Cincinatti\",\"Houston\"):     [0.55,0,6000],\n",
    "        (\"Kansas City\",\"Houston\"):    [0.375,0,4000],\n",
    "        (\"Kansas City\",\"Tempe\"):      [0.65,0,4000],\n",
    "        (\"Chicago\",\"Tempe\"):          [0.6,0,2000],\n",
    "        (\"Chicago\",\"Gary\"):           [0.12,0,4000]}"
   ]
  },
  {
   "cell_type": "code",
   "execution_count": 6,
   "metadata": {},
   "outputs": [],
   "source": [
    "# Splits the dictionaries to be more understandable\n",
    "(supply, demand) = splitDict(nodeData)\n",
    "(costs, mins, maxs) = splitDict(arcData)"
   ]
  },
  {
   "cell_type": "code",
   "execution_count": 7,
   "metadata": {},
   "outputs": [
    {
     "data": {
      "text/plain": [
       "({'Youngstown': 10000,\n",
       "  'Pittsburgh': 15000,\n",
       "  'Cincinatti': 0,\n",
       "  'Kansas City': 0,\n",
       "  'Chicago': 0,\n",
       "  'Albany': 0,\n",
       "  'Houston': 0,\n",
       "  'Tempe': 0,\n",
       "  'Gary': 0},\n",
       " {'Youngstown': 0,\n",
       "  'Pittsburgh': 0,\n",
       "  'Cincinatti': 0,\n",
       "  'Kansas City': 0,\n",
       "  'Chicago': 0,\n",
       "  'Albany': 3000,\n",
       "  'Houston': 7000,\n",
       "  'Tempe': 4000,\n",
       "  'Gary': 6000})"
      ]
     },
     "execution_count": 7,
     "metadata": {},
     "output_type": "execute_result"
    }
   ],
   "source": [
    "(supply, demand)"
   ]
  },
  {
   "cell_type": "code",
   "execution_count": 8,
   "metadata": {},
   "outputs": [
    {
     "data": {
      "text/plain": [
       "({('Youngstown', 'Albany'): 0.5,\n",
       "  ('Youngstown', 'Cincinatti'): 0.35,\n",
       "  ('Youngstown', 'Kansas City'): 0.45,\n",
       "  ('Youngstown', 'Chicago'): 0.375,\n",
       "  ('Pittsburgh', 'Cincinatti'): 0.35,\n",
       "  ('Pittsburgh', 'Kansas City'): 0.45,\n",
       "  ('Pittsburgh', 'Chicago'): 0.4,\n",
       "  ('Pittsburgh', 'Gary'): 0.45,\n",
       "  ('Cincinatti', 'Albany'): 0.35,\n",
       "  ('Cincinatti', 'Houston'): 0.55,\n",
       "  ('Kansas City', 'Houston'): 0.375,\n",
       "  ('Kansas City', 'Tempe'): 0.65,\n",
       "  ('Chicago', 'Tempe'): 0.6,\n",
       "  ('Chicago', 'Gary'): 0.12},\n",
       " {('Youngstown', 'Albany'): 0,\n",
       "  ('Youngstown', 'Cincinatti'): 0,\n",
       "  ('Youngstown', 'Kansas City'): 1000,\n",
       "  ('Youngstown', 'Chicago'): 0,\n",
       "  ('Pittsburgh', 'Cincinatti'): 0,\n",
       "  ('Pittsburgh', 'Kansas City'): 2000,\n",
       "  ('Pittsburgh', 'Chicago'): 0,\n",
       "  ('Pittsburgh', 'Gary'): 0,\n",
       "  ('Cincinatti', 'Albany'): 1000,\n",
       "  ('Cincinatti', 'Houston'): 0,\n",
       "  ('Kansas City', 'Houston'): 0,\n",
       "  ('Kansas City', 'Tempe'): 0,\n",
       "  ('Chicago', 'Tempe'): 0,\n",
       "  ('Chicago', 'Gary'): 0},\n",
       " {('Youngstown', 'Albany'): 1000,\n",
       "  ('Youngstown', 'Cincinatti'): 3000,\n",
       "  ('Youngstown', 'Kansas City'): 5000,\n",
       "  ('Youngstown', 'Chicago'): 5000,\n",
       "  ('Pittsburgh', 'Cincinatti'): 2000,\n",
       "  ('Pittsburgh', 'Kansas City'): 3000,\n",
       "  ('Pittsburgh', 'Chicago'): 4000,\n",
       "  ('Pittsburgh', 'Gary'): 2000,\n",
       "  ('Cincinatti', 'Albany'): 5000,\n",
       "  ('Cincinatti', 'Houston'): 6000,\n",
       "  ('Kansas City', 'Houston'): 4000,\n",
       "  ('Kansas City', 'Tempe'): 4000,\n",
       "  ('Chicago', 'Tempe'): 2000,\n",
       "  ('Chicago', 'Gary'): 4000})"
      ]
     },
     "execution_count": 8,
     "metadata": {},
     "output_type": "execute_result"
    }
   ],
   "source": [
    "(costs, mins, maxs)"
   ]
  },
  {
   "cell_type": "code",
   "execution_count": 9,
   "metadata": {},
   "outputs": [
    {
     "data": {
      "text/plain": [
       "{('Youngstown', 'Albany'): 0.5,\n",
       " ('Youngstown', 'Cincinatti'): 0.35,\n",
       " ('Youngstown', 'Kansas City'): 0.45,\n",
       " ('Youngstown', 'Chicago'): 0.375,\n",
       " ('Pittsburgh', 'Cincinatti'): 0.35,\n",
       " ('Pittsburgh', 'Kansas City'): 0.45,\n",
       " ('Pittsburgh', 'Chicago'): 0.4,\n",
       " ('Pittsburgh', 'Gary'): 0.45,\n",
       " ('Cincinatti', 'Albany'): 0.35,\n",
       " ('Cincinatti', 'Houston'): 0.55,\n",
       " ('Kansas City', 'Houston'): 0.375,\n",
       " ('Kansas City', 'Tempe'): 0.65,\n",
       " ('Chicago', 'Tempe'): 0.6,\n",
       " ('Chicago', 'Gary'): 0.12}"
      ]
     },
     "execution_count": 9,
     "metadata": {},
     "output_type": "execute_result"
    }
   ],
   "source": [
    "costs"
   ]
  },
  {
   "cell_type": "code",
   "execution_count": 11,
   "metadata": {},
   "outputs": [],
   "source": [
    "# Creates the boundless Variables as Integers\n",
    "vars = LpVariable.dicts(\"Route\",Arcs,None,None,LpInteger)"
   ]
  },
  {
   "cell_type": "code",
   "execution_count": 19,
   "metadata": {},
   "outputs": [
    {
     "data": {
      "text/plain": [
       "{('Youngstown', 'Albany'): Route_('Youngstown',_'Albany'),\n",
       " ('Youngstown', 'Cincinatti'): Route_('Youngstown',_'Cincinatti'),\n",
       " ('Youngstown', 'Kansas City'): Route_('Youngstown',_'Kansas_City'),\n",
       " ('Youngstown', 'Chicago'): Route_('Youngstown',_'Chicago'),\n",
       " ('Pittsburgh', 'Cincinatti'): Route_('Pittsburgh',_'Cincinatti'),\n",
       " ('Pittsburgh', 'Kansas City'): Route_('Pittsburgh',_'Kansas_City'),\n",
       " ('Pittsburgh', 'Chicago'): Route_('Pittsburgh',_'Chicago'),\n",
       " ('Pittsburgh', 'Gary'): Route_('Pittsburgh',_'Gary'),\n",
       " ('Cincinatti', 'Albany'): Route_('Cincinatti',_'Albany'),\n",
       " ('Cincinatti', 'Houston'): Route_('Cincinatti',_'Houston'),\n",
       " ('Kansas City', 'Houston'): Route_('Kansas_City',_'Houston'),\n",
       " ('Kansas City', 'Tempe'): Route_('Kansas_City',_'Tempe'),\n",
       " ('Chicago', 'Tempe'): Route_('Chicago',_'Tempe'),\n",
       " ('Chicago', 'Gary'): Route_('Chicago',_'Gary')}"
      ]
     },
     "execution_count": 19,
     "metadata": {},
     "output_type": "execute_result"
    }
   ],
   "source": [
    "vars"
   ]
  },
  {
   "cell_type": "code",
   "execution_count": 20,
   "metadata": {
    "scrolled": true
   },
   "outputs": [
    {
     "data": {
      "text/plain": [
       "[('Youngstown', 'Albany'),\n",
       " ('Youngstown', 'Cincinatti'),\n",
       " ('Youngstown', 'Kansas City'),\n",
       " ('Youngstown', 'Chicago'),\n",
       " ('Pittsburgh', 'Cincinatti'),\n",
       " ('Pittsburgh', 'Kansas City'),\n",
       " ('Pittsburgh', 'Chicago'),\n",
       " ('Pittsburgh', 'Gary'),\n",
       " ('Cincinatti', 'Albany'),\n",
       " ('Cincinatti', 'Houston'),\n",
       " ('Kansas City', 'Houston'),\n",
       " ('Kansas City', 'Tempe'),\n",
       " ('Chicago', 'Tempe'),\n",
       " ('Chicago', 'Gary')]"
      ]
     },
     "execution_count": 20,
     "metadata": {},
     "output_type": "execute_result"
    }
   ],
   "source": [
    "Arcs"
   ]
  },
  {
   "cell_type": "code",
   "execution_count": 12,
   "metadata": {},
   "outputs": [],
   "source": [
    "# Creates the upper and lower bounds on the variables\n",
    "for a in Arcs:\n",
    "    vars[a].bounds(mins[a], maxs[a])"
   ]
  },
  {
   "cell_type": "code",
   "execution_count": 13,
   "metadata": {},
   "outputs": [],
   "source": [
    "# Creates the 'prob' variable to contain the problem data    \n",
    "prob = LpProblem(\"American Steel Problem\",LpMinimize)"
   ]
  },
  {
   "cell_type": "code",
   "execution_count": 14,
   "metadata": {},
   "outputs": [],
   "source": [
    "# Creates the objective function\n",
    "prob += lpSum([vars[a]* costs[a] for a in Arcs]), \"Total Cost of Transport\""
   ]
  },
  {
   "cell_type": "code",
   "execution_count": 15,
   "metadata": {},
   "outputs": [],
   "source": [
    "# Creates all problem constraints - this ensures the amount going into each node is at least equal to the amount leaving\n",
    "for n in Nodes:\n",
    "    prob += (supply[n]+ lpSum([vars[(i,j)] for (i,j) in Arcs if j == n]) >=\n",
    "             demand[n]+ lpSum([vars[(i,j)] for (i,j) in Arcs if i == n])), \"Steel Flow Conservation in Node %s\"%n"
   ]
  },
  {
   "cell_type": "code",
   "execution_count": 16,
   "metadata": {},
   "outputs": [
    {
     "data": {
      "text/plain": [
       "1"
      ]
     },
     "execution_count": 16,
     "metadata": {},
     "output_type": "execute_result"
    }
   ],
   "source": [
    "# The problem data is written to an .lp file\n",
    "prob.writeLP(\"AmericanSteelProblem.lp\")\n",
    "\n",
    "# The problem is solved using PuLP's choice of Solver\n",
    "prob.solve()"
   ]
  },
  {
   "cell_type": "code",
   "execution_count": 17,
   "metadata": {},
   "outputs": [
    {
     "name": "stdout",
     "output_type": "stream",
     "text": [
      "Status: Optimal\n"
     ]
    }
   ],
   "source": [
    "# The status of the solution is printed to the screen\n",
    "print(\"Status:\", LpStatus[prob.status])"
   ]
  },
  {
   "cell_type": "code",
   "execution_count": 18,
   "metadata": {},
   "outputs": [
    {
     "name": "stdout",
     "output_type": "stream",
     "text": [
      "Route_('Chicago',_'Gary') = 4000.0\n",
      "Route_('Chicago',_'Tempe') = 2000.0\n",
      "Route_('Cincinatti',_'Albany') = 2000.0\n",
      "Route_('Cincinatti',_'Houston') = 3000.0\n",
      "Route_('Kansas_City',_'Houston') = 4000.0\n",
      "Route_('Kansas_City',_'Tempe') = 2000.0\n",
      "Route_('Pittsburgh',_'Chicago') = 3000.0\n",
      "Route_('Pittsburgh',_'Cincinatti') = 2000.0\n",
      "Route_('Pittsburgh',_'Gary') = 2000.0\n",
      "Route_('Pittsburgh',_'Kansas_City') = 3000.0\n",
      "Route_('Youngstown',_'Albany') = 1000.0\n",
      "Route_('Youngstown',_'Chicago') = 3000.0\n",
      "Route_('Youngstown',_'Cincinatti') = 3000.0\n",
      "Route_('Youngstown',_'Kansas_City') = 3000.0\n",
      "Total Cost of Transportation =  15005.0\n"
     ]
    }
   ],
   "source": [
    "# Each of the variables is printed with it's resolved optimum value\n",
    "for v in prob.variables():\n",
    "    print(v.name, \"=\", v.varValue)\n",
    "\n",
    "# The optimised objective function value is printed to the screen    \n",
    "print(\"Total Cost of Transportation = \", value(prob.objective))"
   ]
  }
 ],
 "metadata": {
  "kernelspec": {
   "display_name": "Python 3",
   "language": "python",
   "name": "python3"
  },
  "language_info": {
   "codemirror_mode": {
    "name": "ipython",
    "version": 3
   },
   "file_extension": ".py",
   "mimetype": "text/x-python",
   "name": "python",
   "nbconvert_exporter": "python",
   "pygments_lexer": "ipython3",
   "version": "3.7.0"
  }
 },
 "nbformat": 4,
 "nbformat_minor": 2
}
